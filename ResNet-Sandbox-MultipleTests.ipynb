{
 "cells": [
  {
   "cell_type": "code",
   "execution_count": 105,
   "id": "b81209df-79ac-426a-8419-a29c2bd1baa6",
   "metadata": {},
   "outputs": [],
   "source": [
    "# # QC tensorflow installation\n",
    "# import tensorflow as tf\n",
    "# import keras\n",
    "# print(tf.__version__)\n",
    "# print(keras.__version__)\n",
    "\n",
    "# Command Space\n",
    "# %"
   ]
  },
  {
   "cell_type": "markdown",
   "id": "7dac8b42-d252-4718-af26-0c9c3b436a75",
   "metadata": {},
   "source": [
    "## Import Libraries"
   ]
  },
  {
   "cell_type": "code",
   "execution_count": 106,
   "id": "361e577f-7ec1-46cf-b375-9140a936f494",
   "metadata": {},
   "outputs": [],
   "source": [
    "# Import required libraries\n",
    "import numpy as np\n",
    "import tensorflow as tf\n",
    "# from tensorflow.keras.datasets import cifar10\n",
    "from tensorflow.keras.utils import to_categorical\n",
    "import os"
   ]
  },
  {
   "cell_type": "markdown",
   "id": "adaf2235-c57c-43bd-90ec-f7e5b761d31f",
   "metadata": {},
   "source": [
    "## Load CIFAR-10 Dataset"
   ]
  },
  {
   "cell_type": "markdown",
   "id": "a097b531-e0bf-47b4-9095-4db98a8b1bc4",
   "metadata": {},
   "source": [
    "We load the CIFAR-10 dataset, perform some preprocessing like normalization and one hot encoding of labels/targets."
   ]
  },
  {
   "cell_type": "code",
   "execution_count": 107,
   "id": "f5cf2a0e-283f-4cb9-ac73-1a70c2a4c460",
   "metadata": {},
   "outputs": [],
   "source": [
    "import numpy as np\n",
    "import os\n",
    "\n",
    "def unpickle(file):\n",
    "    import pickle\n",
    "    with open(file, 'rb') as fo:\n",
    "        dict = pickle.load(fo, encoding='bytes')\n",
    "    return dict\n",
    "\n",
    "def load_cifar10_train_test(data_dir):\n",
    "    \"\"\"\n",
    "    Function to load CIFAR-10 training and test data.\n",
    "\n",
    "    Args:\n",
    "    data_dir (str): Path to the directory containing CIFAR-10 data files.\n",
    "\n",
    "    Returns:\n",
    "    X_train (ndarray): Training data features\n",
    "    Y_train (ndarray): Training data labels\n",
    "    X_test (ndarray): Test data features\n",
    "    Y_test (ndarray): Test data labels\n",
    "    \"\"\"\n",
    "    X_train = []\n",
    "    Y_train = []\n",
    "\n",
    "    for i in range(1, 6):  # Load training data from 5 batches\n",
    "        batch_file = os.path.join(data_dir, 'data_batch_' + str(i))\n",
    "        batch_data = unpickle(batch_file)\n",
    "        X_train.append(batch_data[b'data'])\n",
    "        Y_train += batch_data[b'labels']\n",
    "\n",
    "    X_train = np.concatenate(X_train, axis=0)\n",
    "    Y_train = np.array(Y_train)\n",
    "\n",
    "    # Load test data from the test batch\n",
    "    test_batch_file = os.path.join(data_dir, 'test_batch')\n",
    "    test_batch_data = unpickle(test_batch_file)\n",
    "\n",
    "    X_test = test_batch_data[b'data']\n",
    "    Y_test = np.array(test_batch_data[b'labels'])\n",
    "\n",
    "    # Reshaping and re-arranging color channels to represent RGB image required as input to CNN\n",
    "    # Reshape to (50000, 3, 32, 32) and move the color channel axis to the last dimension\n",
    "    X_train = X_train.reshape(-1, 3, 32, 32).transpose(0, 2, 3, 1)\n",
    "    X_test = X_test.reshape(-1, 3, 32, 32).transpose(0, 2, 3, 1)\n",
    "\n",
    "    return X_train, Y_train, X_test, Y_test\n"
   ]
  },
  {
   "cell_type": "markdown",
   "id": "f625c3d2-ee3b-4220-abc6-4d06361e2216",
   "metadata": {},
   "source": [
    "Create validation data from train set (20% split):"
   ]
  },
  {
   "cell_type": "code",
   "execution_count": 108,
   "id": "24a6ac71-a72e-4d96-bc86-2b87d9502d22",
   "metadata": {},
   "outputs": [],
   "source": [
    "from sklearn.model_selection import train_test_split\n",
    "\n",
    "# Directory containing CIFAR-10 data files\n",
    "data_dir = 'dataset\\cifar-10-python\\cifar-10-batches-py'\n",
    "\n",
    "# Load CIFAR-10 training and test data\n",
    "X_train, Y_train, X_test, Y_test = load_cifar10_train_test(data_dir)\n",
    "\n",
    "# Split the training data into training and validation sets\n",
    "X_train, X_val, Y_train, Y_val = train_test_split(X_train, Y_train, test_size=0.2, random_state=42)"
   ]
  },
  {
   "cell_type": "code",
   "execution_count": 109,
   "id": "6d50c0cf-998d-443e-8ac9-3eb806bc3fc2",
   "metadata": {},
   "outputs": [
    {
     "name": "stdout",
     "output_type": "stream",
     "text": [
      "Train Set:\n",
      "X_train shape:  (40000, 32, 32, 3)\n",
      "Y_train shape:  (40000,)\n",
      "Validation Set:\n",
      "X_val shape:  (10000, 32, 32, 3)\n",
      "Y_val shape:  (10000,)\n",
      "Test Set:\n",
      "X_test shape:  (10000, 32, 32, 3)\n",
      "Y_test shape:  (10000,)\n"
     ]
    }
   ],
   "source": [
    "# Ensuring we parsed the data correctly:\n",
    "print('Train Set:')\n",
    "print('X_train shape: ', X_train.shape)\n",
    "print('Y_train shape: ', Y_train.shape)\n",
    "print('Validation Set:')\n",
    "print('X_val shape: ', X_val.shape)\n",
    "print('Y_val shape: ', Y_val.shape)\n",
    "print('Test Set:')\n",
    "print('X_test shape: ', X_test.shape)\n",
    "print('Y_test shape: ', Y_test.shape)"
   ]
  },
  {
   "cell_type": "code",
   "execution_count": null,
   "id": "b7bbbb3d-d1ed-4869-9304-91bc93d7bdfe",
   "metadata": {},
   "outputs": [],
   "source": []
  },
  {
   "cell_type": "markdown",
   "id": "582e8395-050d-4301-b644-10132f9ef65b",
   "metadata": {},
   "source": [
    "### Setup ImageDataGenerator"
   ]
  },
  {
   "cell_type": "markdown",
   "id": "d5dd1f67-0177-4f1b-8b5f-1cb04f8b2005",
   "metadata": {},
   "source": [
    "In order to make the most of fewer training examples, we will \"augment\" them via a number of random transformations, so that our model would never see twice the exact same picture. This helps prevent overfitting and helps the model generalize better.\n",
    "\n",
    "NOTE: ImageDataGenerator will NOT add new images to your data set in a sense that it will not make your epochs bigger. Instead, in each epoch it will provide slightly altered images (depending on your configuration). It will always generate new images, no matter how many epochs you have.\n",
    "\n",
    "So in each epoch model will train on different images, but not too different. This should prevent overfitting and in some way simulates online learning."
   ]
  },
  {
   "cell_type": "code",
   "execution_count": 110,
   "id": "53a45da3-7b78-47b5-94ea-e0f1c5b553ce",
   "metadata": {},
   "outputs": [],
   "source": [
    "from keras.preprocessing.image import ImageDataGenerator\n",
    "\n",
    "# Construct the training image generator for data augmentation\n",
    "# datagen = ImageDataGenerator(\n",
    "#         rotation_range=10, # rotation\n",
    "#         width_shift_range=0.2, # horizontal shift\n",
    "#         height_shift_range=0.2, # vertical shift\n",
    "#         zoom_range=0.2, # zoom\n",
    "#         horizontal_flip=True, # horizontal flip\n",
    "#         # brightness_range=[0.2,1.0] # brightness\n",
    "# )\n",
    "\n",
    "# For purposes of creating a baseline, construct empty ImageDataGenerator\n",
    "datagen = ImageDataGenerator()"
   ]
  },
  {
   "cell_type": "code",
   "execution_count": 111,
   "id": "17205f2c-7c42-400c-b04d-fd5224108345",
   "metadata": {},
   "outputs": [
    {
     "data": {
      "image/png": "[encoded data removed]",
      "text/plain": [
       "<Figure size 640x480 with 9 Axes>"
      ]
     },
     "metadata": {},
     "output_type": "display_data"
    }
   ],
   "source": [
    "# Example of image augmentation on sample image:\n",
    "from numpy import expand_dims\n",
    "from tensorflow.keras.preprocessing.image import load_img\n",
    "from tensorflow.keras.preprocessing.image import img_to_array\n",
    "from matplotlib import pyplot\n",
    "\n",
    "\n",
    "img = load_img('bird.jpeg') # load image\n",
    "data = img_to_array(img) # convert to numpy array\n",
    "samples = expand_dims(data, 0) # expand dimension to one sample\n",
    "\n",
    "# Prepare iterator\n",
    "it = datagen.flow(samples, batch_size=1)\n",
    "\n",
    "# Generate samples and plot\n",
    "for i in range(9):\n",
    "    pyplot.subplot(330 + 1 + i) # define subplot\n",
    "    batch = it.next() # generate batch of images\n",
    "    image = batch[0].astype('uint8') # convert to unsigned integers\n",
    "    pyplot.imshow(image)\n",
    "\n",
    "# show the figure\n",
    "pyplot.show()\n",
    "# Adapted code for displaying augmentation results: https://machinelearningmastery.com/how-to-configure-image-data-augmentation-when-training-deep-learning-neural-networks/"
   ]
  },
  {
   "cell_type": "markdown",
   "id": "cbeeb566-5b54-44c9-ab65-1a744b38d38f",
   "metadata": {},
   "source": [
    "### Pre-processing dataset"
   ]
  },
  {
   "cell_type": "code",
   "execution_count": 112,
   "id": "9e7c5089-eebb-40a6-b6e1-f5d6213d1f19",
   "metadata": {},
   "outputs": [],
   "source": [
    "# Normalize the data\n",
    "X_train = X_train / 255.0\n",
    "X_test = X_test / 255.0\n",
    "X_val = X_val / 255.0\n",
    "\n",
    "# One-hot encode the labels\n",
    "Y_train = to_categorical(Y_train, 10)\n",
    "Y_test = to_categorical(Y_test, 10)\n",
    "Y_val = to_categorical(Y_val, 10)"
   ]
  },
  {
   "cell_type": "markdown",
   "id": "8e4ce6fe-5790-4b37-ab5b-a5e74b2e2170",
   "metadata": {},
   "source": [
    "## Build and Train Model"
   ]
  },
  {
   "cell_type": "markdown",
   "id": "f61736cc-8513-4578-aa91-2b7057c078e3",
   "metadata": {},
   "source": [
    "The following cell has the supporting utility functions to plot accuracy curves, loss curves from training process and final evaluation of the classification model. I have provided inline comments explaining purpose of each function and code used. "
   ]
  },
  {
   "cell_type": "code",
   "execution_count": 113,
   "id": "2348212c-b019-4fe2-bf4f-f8eda7e7c5bf",
   "metadata": {},
   "outputs": [],
   "source": [
    "# Import required libraries\n",
    "import matplotlib.pyplot as plt\n",
    "\n",
    "def plot_accuracy(history, title):\n",
    "    \"\"\"\n",
    "    Function to plot accuracy curves for both training and validation sets.\n",
    "\n",
    "    Args:\n",
    "    history (History): Keras History object containing training history\n",
    "    title (str): Title of the plot\n",
    "    \"\"\"\n",
    "    new_title = title + \" Accuracy\"\n",
    "    plt.plot(history.history['accuracy'], label='train_accuracy')\n",
    "    plt.plot(history.history['val_accuracy'], label='val_accuracy')\n",
    "    plt.title(new_title)\n",
    "    plt.xlabel('Epoch')\n",
    "    plt.ylabel('Accuracy')\n",
    "    plt.legend(loc='lower right')\n",
    "    save_plot(plt, new_title)\n",
    "    plt.show()\n",
    "    \n",
    "def plot_multiple_accuracies(models, title):\n",
    "    \"\"\"\n",
    "    Function to plot accuracy curves for both training and validation sets of multiple models at once.\n",
    "\n",
    "    Args:\n",
    "    models (Dictionary): Contains Keras History objects with training history assigned by keys that pertain to the hyperparameter value used\n",
    "    title (str): Title of the plot\n",
    "    \"\"\"\n",
    "    new_title = title + \" Accuracy\"\n",
    "    for key in models.keys():\n",
    "        history = models[key]\n",
    "        plt.plot(history.history['accuracy'], label='train_accuracy' + \"_\" + key)\n",
    "        plt.plot(history.history['val_accuracy'], label='val_accuracy' + \"_\" + key)\n",
    "    plt.title(new_title)\n",
    "    plt.xlabel('Epoch')\n",
    "    plt.ylabel('Accuracy')\n",
    "    plt.legend(loc='lower right')\n",
    "    save_plot(plt, new_title)\n",
    "    plt.show()\n",
    "\n",
    "def plot_loss(history, title):\n",
    "    \"\"\"\n",
    "    Function to plot loss curves for both training and validation sets.\n",
    "\n",
    "    Args:\n",
    "    history (History): Keras History object containing training history\n",
    "    title (str): Title of the plot\n",
    "    \"\"\"\n",
    "    new_title = title + \" Loss\"\n",
    "    plt.plot(history.history['loss'], label='train_loss')\n",
    "    plt.plot(history.history['val_loss'], label='val_loss')\n",
    "    plt.title(new_title = title + \" Loss\")\n",
    "    plt.xlabel('Epoch')\n",
    "    plt.ylabel('Loss')\n",
    "    plt.legend(loc='upper right')\n",
    "    save_plot(plt, new_title = title + \" Loss\")\n",
    "    plt.show()\n",
    "    \n",
    "def plot_multiple_losses(models, title):\n",
    "    \"\"\"\n",
    "    Function to plot loss curves for both training and validation sets.\n",
    "\n",
    "    Args:\n",
    "    models (Dictionary): Contains Keras History objects with training history assigned by keys that pertain to the hyperparameter value used\n",
    "    title (str): Title of the plot\n",
    "    \"\"\"\n",
    "    new_title = title + \" Loss\"\n",
    "    for key in models.keys():\n",
    "        history = models[key]\n",
    "        plt.plot(history.history['loss'], label='train_loss' + \"_\" + key)\n",
    "        plt.plot(history.history['val_loss'], label='val_loss' + \"_\" + key)\n",
    "    plt.title(new_title)\n",
    "    plt.xlabel('Epoch')\n",
    "    plt.ylabel('Loss')\n",
    "    plt.legend(loc='upper right')\n",
    "    save_plot(plt, new_title)\n",
    "    plt.show()\n",
    "\n",
    "def evaluate_model(model, X_test, Y_test):\n",
    "    \"\"\"\n",
    "    Function to evaluate the performance of a trained model on the test dataset.\n",
    "\n",
    "    Args:\n",
    "    model (Sequential): Trained Keras model\n",
    "    X_test (ndarray): Test dataset features\n",
    "    Y_test (ndarray): One-hot encoded labels for test dataset\n",
    "    \"\"\"\n",
    "    _, accuracy = model.evaluate(X_test, Y_test, verbose=0)\n",
    "    print(\"Test Accuracy: %.2f%%\" % (accuracy * 100))\n",
    "    return accuracy * 100\n",
    "    \n",
    "def save_plot(plt, name):\n",
    "    \"\"\"\n",
    "    Function to save a plot. Call function before plt.show().\n",
    "\n",
    "    Args:\n",
    "    plt (matplotlib.pyplot object): Plot to save\n",
    "    name (String): A String for the name of the output file. Cannot contain spaces\n",
    "    \"\"\"\n",
    "    filepath = \"Graphs/\" + name\n",
    "    # if os.path.isfile(filepath):\n",
    "    #     filepath += \"_second\"\n",
    "    #     print(\"Same filename. Please alter the params_string. You will not get another warning before losing figures!!\")\n",
    "    plt.savefig(filepath)\n"
   ]
  },
  {
   "cell_type": "code",
   "execution_count": 114,
   "id": "af83176a-7b41-4e0a-abf1-b774e13d1eda",
   "metadata": {},
   "outputs": [],
   "source": [
    "from tensorflow.keras.layers import Input, Add, Activation, AveragePooling2D, BatchNormalization\n",
    "from tensorflow.keras.layers import Conv2D, MaxPooling2D, Dense, Flatten, Dropout\n",
    "from tensorflow.keras.regularizers import l2\n",
    "from tensorflow.keras.models import Model\n",
    "\n",
    "def resnet_block(inputs, filters, kernel_size, strides, skip_kernel_size=(1, 1), activation='relu', num_layers=2):\n",
    "    \"\"\"\n",
    "    Function to create a single ResNet block.\n",
    "\n",
    "    Args:\n",
    "    inputs (tensor): Input tensor\n",
    "    filters (int): Number of filters in the convolutional layers\n",
    "    kernel_size (int or tuple): Size of the convolutional kernel\n",
    "    strides (int or tuple): Strides of the convolutional kernel\n",
    "    skip_kernel_size (int or tuple): Size of the skip connection kernel\n",
    "    activation (str): Activation function to use\n",
    "    num_layers (int): Number of convolutional layers per block\n",
    "\n",
    "    Returns:\n",
    "    tensor: Output tensor of the ResNet block\n",
    "    \"\"\"\n",
    "    shortcut = inputs\n",
    "\n",
    "    # Create initial convolutional layer and batch normalization without an activation layer afterwards\n",
    "    x = Conv2D(filters, kernel_size, strides=strides, padding='same', kernel_initializer='he_normal')(inputs)\n",
    "    x = BatchNormalization()(x)\n",
    "    \n",
    "    # Create (num_layers - 1) convolutional layers with activation layer beforehand\n",
    "    # Final layer does not have an activation layer as desired\n",
    "    if num_layers > 1:\n",
    "        for i in range(num_layers - 1):\n",
    "            x = Activation(activation)(x)\n",
    "            x = Conv2D(filters, kernel_size, padding='same', kernel_initializer='he_normal')(x)\n",
    "            x = BatchNormalization()(x)\n",
    "    \n",
    "\n",
    "    # Shortcut connection\n",
    "    if strides != 1 or inputs.shape[-1] != filters:\n",
    "        # change (1,1) to variable (the kernel size in the ith skip connection)\n",
    "        shortcut = Conv2D(filters, skip_kernel_size, strides=strides, padding='same', kernel_initializer='he_normal')(inputs)\n",
    "        shortcut = BatchNormalization()(shortcut)\n",
    "\n",
    "    x = Add()([x, shortcut])\n",
    "    x = Activation(activation)(x)\n",
    "    return x\n",
    "\n",
    "def build_resnet(init_filters=64, res_layers=[2, 2], conv_kernel_size=(3,3), skip_kernel_size=(1, 1), conv_per_layer=2, pool_size=(8, 8), optimizer='adam'):\n",
    "    \"\"\"\n",
    "    Function to build a ResNet model using multiple Resnet style blocks.\n",
    "    \n",
    "    Args:\n",
    "    init_filters (int): Number of filters in the first layer\n",
    "    res_layers (list of ints): Network architecture as a list where the length of the list is the number of Residual Layers and the value of each element is the number of blocks in that layer\n",
    "    conv_kernel_size (int or tuple): Size of the convolutional kernel\n",
    "    skip_kernel_size (int or tuple): Size of the skip connection kernel\n",
    "    conv_per_layer (int): Number of convolutional layers per residual block\n",
    "    pool_size (int or tuple): Size of the pooling layer\n",
    "    optimizer (String): Acceptable keras optimizers such as SGD or adam\n",
    "\n",
    "    Returns:\n",
    "    model (Model): Compiled ResNet model\n",
    "    \"\"\"\n",
    "    inputs = Input(shape=(32, 32, 3))\n",
    "    num_filters = init_filters\n",
    "    num_blocks_list = res_layers  # ResNet Style architecture for CIFAR-10\n",
    "\n",
    "    x = Conv2D(num_filters, conv_kernel_size, padding='same', kernel_initializer='he_normal')(inputs)\n",
    "    x = BatchNormalization()(x)\n",
    "    x = Activation('relu')(x)\n",
    "\n",
    "    # Add ResNet blocks\n",
    "    for i, num_blocks in enumerate(num_blocks_list):\n",
    "        for j in range(num_blocks):\n",
    "            strides = 1\n",
    "            if i > 0 and j == 0:  # Downsample at the beginning of each stage\n",
    "                strides = 2\n",
    "            x = resnet_block(x, num_filters, conv_kernel_size, strides, skip_kernel_size=skip_kernel_size, num_layers=conv_per_layer)\n",
    "\n",
    "        num_filters *= 2  # Double the number of filters after each stage\n",
    "\n",
    "    x = AveragePooling2D(pool_size=pool_size)(x) # pool size could be hyperparameter\n",
    "    x = Flatten()(x)\n",
    "    outputs = Dense(10, activation='softmax')(x)\n",
    "\n",
    "    model = Model(inputs=inputs, outputs=outputs)\n",
    "    # optimizer can be a parameter: vanilla sgd, sgd with fixed learning rate, or adam \n",
    "    model.compile(optimizer=optimizer, loss='categorical_crossentropy', metrics=['accuracy'])\n",
    "\n",
    "    return model\n"
   ]
  },
  {
   "cell_type": "code",
   "execution_count": 115,
   "id": "3272e83f-c06f-4ce1-9c51-ab42259b4339",
   "metadata": {},
   "outputs": [
    {
     "name": "stdout",
     "output_type": "stream",
     "text": [
      "Model: \"model_21\"\n",
      "__________________________________________________________________________________________________\n",
      " Layer (type)                   Output Shape         Param #     Connected to                     \n",
      "==================================================================================================\n",
      " input_22 (InputLayer)          [(None, 32, 32, 3)]  0           []                               \n",
      "                                                                                                  \n",
      " conv2d_249 (Conv2D)            (None, 32, 32, 64)   1792        ['input_22[0][0]']               \n",
      "                                                                                                  \n",
      " batch_normalization_249 (Batch  (None, 32, 32, 64)  256         ['conv2d_249[0][0]']             \n",
      " Normalization)                                                                                   \n",
      "                                                                                                  \n",
      " activation_225 (Activation)    (None, 32, 32, 64)   0           ['batch_normalization_249[0][0]']\n",
      "                                                                                                  \n",
      " conv2d_250 (Conv2D)            (None, 32, 32, 64)   36928       ['activation_225[0][0]']         \n",
      "                                                                                                  \n",
      " batch_normalization_250 (Batch  (None, 32, 32, 64)  256         ['conv2d_250[0][0]']             \n",
      " Normalization)                                                                                   \n",
      "                                                                                                  \n",
      " activation_226 (Activation)    (None, 32, 32, 64)   0           ['batch_normalization_250[0][0]']\n",
      "                                                                                                  \n",
      " conv2d_251 (Conv2D)            (None, 32, 32, 64)   36928       ['activation_226[0][0]']         \n",
      "                                                                                                  \n",
      " batch_normalization_251 (Batch  (None, 32, 32, 64)  256         ['conv2d_251[0][0]']             \n",
      " Normalization)                                                                                   \n",
      "                                                                                                  \n",
      " add_102 (Add)                  (None, 32, 32, 64)   0           ['batch_normalization_251[0][0]',\n",
      "                                                                  'activation_225[0][0]']         \n",
      "                                                                                                  \n",
      " activation_227 (Activation)    (None, 32, 32, 64)   0           ['add_102[0][0]']                \n",
      "                                                                                                  \n",
      " conv2d_252 (Conv2D)            (None, 16, 16, 128)  73856       ['activation_227[0][0]']         \n",
      "                                                                                                  \n",
      " batch_normalization_252 (Batch  (None, 16, 16, 128)  512        ['conv2d_252[0][0]']             \n",
      " Normalization)                                                                                   \n",
      "                                                                                                  \n",
      " activation_228 (Activation)    (None, 16, 16, 128)  0           ['batch_normalization_252[0][0]']\n",
      "                                                                                                  \n",
      " conv2d_253 (Conv2D)            (None, 16, 16, 128)  147584      ['activation_228[0][0]']         \n",
      "                                                                                                  \n",
      " conv2d_254 (Conv2D)            (None, 16, 16, 128)  8320        ['activation_227[0][0]']         \n",
      "                                                                                                  \n",
      " batch_normalization_253 (Batch  (None, 16, 16, 128)  512        ['conv2d_253[0][0]']             \n",
      " Normalization)                                                                                   \n",
      "                                                                                                  \n",
      " batch_normalization_254 (Batch  (None, 16, 16, 128)  512        ['conv2d_254[0][0]']             \n",
      " Normalization)                                                                                   \n",
      "                                                                                                  \n",
      " add_103 (Add)                  (None, 16, 16, 128)  0           ['batch_normalization_253[0][0]',\n",
      "                                                                  'batch_normalization_254[0][0]']\n",
      "                                                                                                  \n",
      " activation_229 (Activation)    (None, 16, 16, 128)  0           ['add_103[0][0]']                \n",
      "                                                                                                  \n",
      " average_pooling2d_21 (AverageP  (None, 8, 8, 128)   0           ['activation_229[0][0]']         \n",
      " ooling2D)                                                                                        \n",
      "                                                                                                  \n",
      " flatten_21 (Flatten)           (None, 8192)         0           ['average_pooling2d_21[0][0]']   \n",
      "                                                                                                  \n",
      " dense_21 (Dense)               (None, 10)           81930       ['flatten_21[0][0]']             \n",
      "                                                                                                  \n",
      "==================================================================================================\n",
      "Total params: 389,642\n",
      "Trainable params: 388,490\n",
      "Non-trainable params: 1,152\n",
      "__________________________________________________________________________________________________\n"
     ]
    }
   ],
   "source": [
    "# Build ResNet Model 1\n",
    "resnet_model_1 = build_resnet(init_filters=64, res_layers=[1, 1], conv_kernel_size=(3,3), skip_kernel_size=(1, 1), conv_per_layer=2, pool_size=(2, 2), optimizer='SGD')\n",
    "resnet_model_1.summary()"
   ]
  },
  {
   "cell_type": "code",
   "execution_count": 116,
   "id": "2614e333",
   "metadata": {},
   "outputs": [
    {
     "name": "stdout",
     "output_type": "stream",
     "text": [
      "Model: \"model_22\"\n",
      "__________________________________________________________________________________________________\n",
      " Layer (type)                   Output Shape         Param #     Connected to                     \n",
      "==================================================================================================\n",
      " input_23 (InputLayer)          [(None, 32, 32, 3)]  0           []                               \n",
      "                                                                                                  \n",
      " conv2d_255 (Conv2D)            (None, 32, 32, 64)   1792        ['input_23[0][0]']               \n",
      "                                                                                                  \n",
      " batch_normalization_255 (Batch  (None, 32, 32, 64)  256         ['conv2d_255[0][0]']             \n",
      " Normalization)                                                                                   \n",
      "                                                                                                  \n",
      " activation_230 (Activation)    (None, 32, 32, 64)   0           ['batch_normalization_255[0][0]']\n",
      "                                                                                                  \n",
      " conv2d_256 (Conv2D)            (None, 32, 32, 64)   36928       ['activation_230[0][0]']         \n",
      "                                                                                                  \n",
      " batch_normalization_256 (Batch  (None, 32, 32, 64)  256         ['conv2d_256[0][0]']             \n",
      " Normalization)                                                                                   \n",
      "                                                                                                  \n",
      " activation_231 (Activation)    (None, 32, 32, 64)   0           ['batch_normalization_256[0][0]']\n",
      "                                                                                                  \n",
      " conv2d_257 (Conv2D)            (None, 32, 32, 64)   36928       ['activation_231[0][0]']         \n",
      "                                                                                                  \n",
      " batch_normalization_257 (Batch  (None, 32, 32, 64)  256         ['conv2d_257[0][0]']             \n",
      " Normalization)                                                                                   \n",
      "                                                                                                  \n",
      " add_104 (Add)                  (None, 32, 32, 64)   0           ['batch_normalization_257[0][0]',\n",
      "                                                                  'activation_230[0][0]']         \n",
      "                                                                                                  \n",
      " activation_232 (Activation)    (None, 32, 32, 64)   0           ['add_104[0][0]']                \n",
      "                                                                                                  \n",
      " conv2d_258 (Conv2D)            (None, 32, 32, 64)   36928       ['activation_232[0][0]']         \n",
      "                                                                                                  \n",
      " batch_normalization_258 (Batch  (None, 32, 32, 64)  256         ['conv2d_258[0][0]']             \n",
      " Normalization)                                                                                   \n",
      "                                                                                                  \n",
      " activation_233 (Activation)    (None, 32, 32, 64)   0           ['batch_normalization_258[0][0]']\n",
      "                                                                                                  \n",
      " conv2d_259 (Conv2D)            (None, 32, 32, 64)   36928       ['activation_233[0][0]']         \n",
      "                                                                                                  \n",
      " batch_normalization_259 (Batch  (None, 32, 32, 64)  256         ['conv2d_259[0][0]']             \n",
      " Normalization)                                                                                   \n",
      "                                                                                                  \n",
      " add_105 (Add)                  (None, 32, 32, 64)   0           ['batch_normalization_259[0][0]',\n",
      "                                                                  'activation_232[0][0]']         \n",
      "                                                                                                  \n",
      " activation_234 (Activation)    (None, 32, 32, 64)   0           ['add_105[0][0]']                \n",
      "                                                                                                  \n",
      " conv2d_260 (Conv2D)            (None, 16, 16, 128)  73856       ['activation_234[0][0]']         \n",
      "                                                                                                  \n",
      " batch_normalization_260 (Batch  (None, 16, 16, 128)  512        ['conv2d_260[0][0]']             \n",
      " Normalization)                                                                                   \n",
      "                                                                                                  \n",
      " activation_235 (Activation)    (None, 16, 16, 128)  0           ['batch_normalization_260[0][0]']\n",
      "                                                                                                  \n",
      " conv2d_261 (Conv2D)            (None, 16, 16, 128)  147584      ['activation_235[0][0]']         \n",
      "                                                                                                  \n",
      " conv2d_262 (Conv2D)            (None, 16, 16, 128)  8320        ['activation_234[0][0]']         \n",
      "                                                                                                  \n",
      " batch_normalization_261 (Batch  (None, 16, 16, 128)  512        ['conv2d_261[0][0]']             \n",
      " Normalization)                                                                                   \n",
      "                                                                                                  \n",
      " batch_normalization_262 (Batch  (None, 16, 16, 128)  512        ['conv2d_262[0][0]']             \n",
      " Normalization)                                                                                   \n",
      "                                                                                                  \n",
      " add_106 (Add)                  (None, 16, 16, 128)  0           ['batch_normalization_261[0][0]',\n",
      "                                                                  'batch_normalization_262[0][0]']\n",
      "                                                                                                  \n",
      " activation_236 (Activation)    (None, 16, 16, 128)  0           ['add_106[0][0]']                \n",
      "                                                                                                  \n",
      " conv2d_263 (Conv2D)            (None, 16, 16, 128)  147584      ['activation_236[0][0]']         \n",
      "                                                                                                  \n",
      " batch_normalization_263 (Batch  (None, 16, 16, 128)  512        ['conv2d_263[0][0]']             \n",
      " Normalization)                                                                                   \n",
      "                                                                                                  \n",
      " activation_237 (Activation)    (None, 16, 16, 128)  0           ['batch_normalization_263[0][0]']\n",
      "                                                                                                  \n",
      " conv2d_264 (Conv2D)            (None, 16, 16, 128)  147584      ['activation_237[0][0]']         \n",
      "                                                                                                  \n",
      " batch_normalization_264 (Batch  (None, 16, 16, 128)  512        ['conv2d_264[0][0]']             \n",
      " Normalization)                                                                                   \n",
      "                                                                                                  \n",
      " add_107 (Add)                  (None, 16, 16, 128)  0           ['batch_normalization_264[0][0]',\n",
      "                                                                  'activation_236[0][0]']         \n",
      "                                                                                                  \n",
      " activation_238 (Activation)    (None, 16, 16, 128)  0           ['add_107[0][0]']                \n",
      "                                                                                                  \n",
      " average_pooling2d_22 (AverageP  (None, 8, 8, 128)   0           ['activation_238[0][0]']         \n",
      " ooling2D)                                                                                        \n",
      "                                                                                                  \n",
      " flatten_22 (Flatten)           (None, 8192)         0           ['average_pooling2d_22[0][0]']   \n",
      "                                                                                                  \n",
      " dense_22 (Dense)               (None, 10)           81930       ['flatten_22[0][0]']             \n",
      "                                                                                                  \n",
      "==================================================================================================\n",
      "Total params: 760,202\n",
      "Trainable params: 758,282\n",
      "Non-trainable params: 1,920\n",
      "__________________________________________________________________________________________________\n"
     ]
    }
   ],
   "source": [
    "# Build ResNet Model 2\n",
    "resnet_model_2 = build_resnet(init_filters=64, res_layers=[2, 2], conv_kernel_size=(3,3), skip_kernel_size=(1, 1), conv_per_layer=2, pool_size=(2, 2), optimizer='SGD')\n",
    "resnet_model_2.summary()"
   ]
  },
  {
   "cell_type": "code",
   "execution_count": 117,
   "id": "8f9394ed",
   "metadata": {},
   "outputs": [
    {
     "name": "stdout",
     "output_type": "stream",
     "text": [
      "Model: \"model_23\"\n",
      "__________________________________________________________________________________________________\n",
      " Layer (type)                   Output Shape         Param #     Connected to                     \n",
      "==================================================================================================\n",
      " input_24 (InputLayer)          [(None, 32, 32, 3)]  0           []                               \n",
      "                                                                                                  \n",
      " conv2d_265 (Conv2D)            (None, 32, 32, 64)   1792        ['input_24[0][0]']               \n",
      "                                                                                                  \n",
      " batch_normalization_265 (Batch  (None, 32, 32, 64)  256         ['conv2d_265[0][0]']             \n",
      " Normalization)                                                                                   \n",
      "                                                                                                  \n",
      " activation_239 (Activation)    (None, 32, 32, 64)   0           ['batch_normalization_265[0][0]']\n",
      "                                                                                                  \n",
      " conv2d_266 (Conv2D)            (None, 32, 32, 64)   36928       ['activation_239[0][0]']         \n",
      "                                                                                                  \n",
      " batch_normalization_266 (Batch  (None, 32, 32, 64)  256         ['conv2d_266[0][0]']             \n",
      " Normalization)                                                                                   \n",
      "                                                                                                  \n",
      " activation_240 (Activation)    (None, 32, 32, 64)   0           ['batch_normalization_266[0][0]']\n",
      "                                                                                                  \n",
      " conv2d_267 (Conv2D)            (None, 32, 32, 64)   36928       ['activation_240[0][0]']         \n",
      "                                                                                                  \n",
      " batch_normalization_267 (Batch  (None, 32, 32, 64)  256         ['conv2d_267[0][0]']             \n",
      " Normalization)                                                                                   \n",
      "                                                                                                  \n",
      " add_108 (Add)                  (None, 32, 32, 64)   0           ['batch_normalization_267[0][0]',\n",
      "                                                                  'activation_239[0][0]']         \n",
      "                                                                                                  \n",
      " activation_241 (Activation)    (None, 32, 32, 64)   0           ['add_108[0][0]']                \n",
      "                                                                                                  \n",
      " conv2d_268 (Conv2D)            (None, 32, 32, 64)   36928       ['activation_241[0][0]']         \n",
      "                                                                                                  \n",
      " batch_normalization_268 (Batch  (None, 32, 32, 64)  256         ['conv2d_268[0][0]']             \n",
      " Normalization)                                                                                   \n",
      "                                                                                                  \n",
      " activation_242 (Activation)    (None, 32, 32, 64)   0           ['batch_normalization_268[0][0]']\n",
      "                                                                                                  \n",
      " conv2d_269 (Conv2D)            (None, 32, 32, 64)   36928       ['activation_242[0][0]']         \n",
      "                                                                                                  \n",
      " batch_normalization_269 (Batch  (None, 32, 32, 64)  256         ['conv2d_269[0][0]']             \n",
      " Normalization)                                                                                   \n",
      "                                                                                                  \n",
      " add_109 (Add)                  (None, 32, 32, 64)   0           ['batch_normalization_269[0][0]',\n",
      "                                                                  'activation_241[0][0]']         \n",
      "                                                                                                  \n",
      " activation_243 (Activation)    (None, 32, 32, 64)   0           ['add_109[0][0]']                \n",
      "                                                                                                  \n",
      " conv2d_270 (Conv2D)            (None, 32, 32, 64)   36928       ['activation_243[0][0]']         \n",
      "                                                                                                  \n",
      " batch_normalization_270 (Batch  (None, 32, 32, 64)  256         ['conv2d_270[0][0]']             \n",
      " Normalization)                                                                                   \n",
      "                                                                                                  \n",
      " activation_244 (Activation)    (None, 32, 32, 64)   0           ['batch_normalization_270[0][0]']\n",
      "                                                                                                  \n",
      " conv2d_271 (Conv2D)            (None, 32, 32, 64)   36928       ['activation_244[0][0]']         \n",
      "                                                                                                  \n",
      " batch_normalization_271 (Batch  (None, 32, 32, 64)  256         ['conv2d_271[0][0]']             \n",
      " Normalization)                                                                                   \n",
      "                                                                                                  \n",
      " add_110 (Add)                  (None, 32, 32, 64)   0           ['batch_normalization_271[0][0]',\n",
      "                                                                  'activation_243[0][0]']         \n",
      "                                                                                                  \n",
      " activation_245 (Activation)    (None, 32, 32, 64)   0           ['add_110[0][0]']                \n",
      "                                                                                                  \n",
      " conv2d_272 (Conv2D)            (None, 16, 16, 128)  73856       ['activation_245[0][0]']         \n",
      "                                                                                                  \n",
      " batch_normalization_272 (Batch  (None, 16, 16, 128)  512        ['conv2d_272[0][0]']             \n",
      " Normalization)                                                                                   \n",
      "                                                                                                  \n",
      " activation_246 (Activation)    (None, 16, 16, 128)  0           ['batch_normalization_272[0][0]']\n",
      "                                                                                                  \n",
      " conv2d_273 (Conv2D)            (None, 16, 16, 128)  147584      ['activation_246[0][0]']         \n",
      "                                                                                                  \n",
      " conv2d_274 (Conv2D)            (None, 16, 16, 128)  8320        ['activation_245[0][0]']         \n",
      "                                                                                                  \n",
      " batch_normalization_273 (Batch  (None, 16, 16, 128)  512        ['conv2d_273[0][0]']             \n",
      " Normalization)                                                                                   \n",
      "                                                                                                  \n",
      " batch_normalization_274 (Batch  (None, 16, 16, 128)  512        ['conv2d_274[0][0]']             \n",
      " Normalization)                                                                                   \n",
      "                                                                                                  \n",
      " add_111 (Add)                  (None, 16, 16, 128)  0           ['batch_normalization_273[0][0]',\n",
      "                                                                  'batch_normalization_274[0][0]']\n",
      "                                                                                                  \n",
      " activation_247 (Activation)    (None, 16, 16, 128)  0           ['add_111[0][0]']                \n",
      "                                                                                                  \n",
      " conv2d_275 (Conv2D)            (None, 16, 16, 128)  147584      ['activation_247[0][0]']         \n",
      "                                                                                                  \n",
      " batch_normalization_275 (Batch  (None, 16, 16, 128)  512        ['conv2d_275[0][0]']             \n",
      " Normalization)                                                                                   \n",
      "                                                                                                  \n",
      " activation_248 (Activation)    (None, 16, 16, 128)  0           ['batch_normalization_275[0][0]']\n",
      "                                                                                                  \n",
      " conv2d_276 (Conv2D)            (None, 16, 16, 128)  147584      ['activation_248[0][0]']         \n",
      "                                                                                                  \n",
      " batch_normalization_276 (Batch  (None, 16, 16, 128)  512        ['conv2d_276[0][0]']             \n",
      " Normalization)                                                                                   \n",
      "                                                                                                  \n",
      " add_112 (Add)                  (None, 16, 16, 128)  0           ['batch_normalization_276[0][0]',\n",
      "                                                                  'activation_247[0][0]']         \n",
      "                                                                                                  \n",
      " activation_249 (Activation)    (None, 16, 16, 128)  0           ['add_112[0][0]']                \n",
      "                                                                                                  \n",
      " conv2d_277 (Conv2D)            (None, 16, 16, 128)  147584      ['activation_249[0][0]']         \n",
      "                                                                                                  \n",
      " batch_normalization_277 (Batch  (None, 16, 16, 128)  512        ['conv2d_277[0][0]']             \n",
      " Normalization)                                                                                   \n",
      "                                                                                                  \n",
      " activation_250 (Activation)    (None, 16, 16, 128)  0           ['batch_normalization_277[0][0]']\n",
      "                                                                                                  \n",
      " conv2d_278 (Conv2D)            (None, 16, 16, 128)  147584      ['activation_250[0][0]']         \n",
      "                                                                                                  \n",
      " batch_normalization_278 (Batch  (None, 16, 16, 128)  512        ['conv2d_278[0][0]']             \n",
      " Normalization)                                                                                   \n",
      "                                                                                                  \n",
      " add_113 (Add)                  (None, 16, 16, 128)  0           ['batch_normalization_278[0][0]',\n",
      "                                                                  'activation_249[0][0]']         \n",
      "                                                                                                  \n",
      " activation_251 (Activation)    (None, 16, 16, 128)  0           ['add_113[0][0]']                \n",
      "                                                                                                  \n",
      " average_pooling2d_23 (AverageP  (None, 8, 8, 128)   0           ['activation_251[0][0]']         \n",
      " ooling2D)                                                                                        \n",
      "                                                                                                  \n",
      " flatten_23 (Flatten)           (None, 8192)         0           ['average_pooling2d_23[0][0]']   \n",
      "                                                                                                  \n",
      " dense_23 (Dense)               (None, 10)           81930       ['flatten_23[0][0]']             \n",
      "                                                                                                  \n",
      "==================================================================================================\n",
      "Total params: 1,130,762\n",
      "Trainable params: 1,128,074\n",
      "Non-trainable params: 2,688\n",
      "__________________________________________________________________________________________________\n"
     ]
    }
   ],
   "source": [
    "# Build ResNet Model 3\n",
    "resnet_model_3 = build_resnet(init_filters=64, res_layers=[3, 3], conv_kernel_size=(3,3), skip_kernel_size=(1, 1), conv_per_layer=2, pool_size=(2, 2), optimizer='SGD')\n",
    "resnet_model_3.summary()"
   ]
  },
  {
   "cell_type": "code",
   "execution_count": 118,
   "id": "054645b7",
   "metadata": {},
   "outputs": [
    {
     "name": "stdout",
     "output_type": "stream",
     "text": [
      "Model: \"model_24\"\n",
      "__________________________________________________________________________________________________\n",
      " Layer (type)                   Output Shape         Param #     Connected to                     \n",
      "==================================================================================================\n",
      " input_25 (InputLayer)          [(None, 32, 32, 3)]  0           []                               \n",
      "                                                                                                  \n",
      " conv2d_279 (Conv2D)            (None, 32, 32, 64)   1792        ['input_25[0][0]']               \n",
      "                                                                                                  \n",
      " batch_normalization_279 (Batch  (None, 32, 32, 64)  256         ['conv2d_279[0][0]']             \n",
      " Normalization)                                                                                   \n",
      "                                                                                                  \n",
      " activation_252 (Activation)    (None, 32, 32, 64)   0           ['batch_normalization_279[0][0]']\n",
      "                                                                                                  \n",
      " conv2d_280 (Conv2D)            (None, 32, 32, 64)   36928       ['activation_252[0][0]']         \n",
      "                                                                                                  \n",
      " batch_normalization_280 (Batch  (None, 32, 32, 64)  256         ['conv2d_280[0][0]']             \n",
      " Normalization)                                                                                   \n",
      "                                                                                                  \n",
      " activation_253 (Activation)    (None, 32, 32, 64)   0           ['batch_normalization_280[0][0]']\n",
      "                                                                                                  \n",
      " conv2d_281 (Conv2D)            (None, 32, 32, 64)   36928       ['activation_253[0][0]']         \n",
      "                                                                                                  \n",
      " batch_normalization_281 (Batch  (None, 32, 32, 64)  256         ['conv2d_281[0][0]']             \n",
      " Normalization)                                                                                   \n",
      "                                                                                                  \n",
      " add_114 (Add)                  (None, 32, 32, 64)   0           ['batch_normalization_281[0][0]',\n",
      "                                                                  'activation_252[0][0]']         \n",
      "                                                                                                  \n",
      " activation_254 (Activation)    (None, 32, 32, 64)   0           ['add_114[0][0]']                \n",
      "                                                                                                  \n",
      " conv2d_282 (Conv2D)            (None, 32, 32, 64)   36928       ['activation_254[0][0]']         \n",
      "                                                                                                  \n",
      " batch_normalization_282 (Batch  (None, 32, 32, 64)  256         ['conv2d_282[0][0]']             \n",
      " Normalization)                                                                                   \n",
      "                                                                                                  \n",
      " activation_255 (Activation)    (None, 32, 32, 64)   0           ['batch_normalization_282[0][0]']\n",
      "                                                                                                  \n",
      " conv2d_283 (Conv2D)            (None, 32, 32, 64)   36928       ['activation_255[0][0]']         \n",
      "                                                                                                  \n",
      " batch_normalization_283 (Batch  (None, 32, 32, 64)  256         ['conv2d_283[0][0]']             \n",
      " Normalization)                                                                                   \n",
      "                                                                                                  \n",
      " add_115 (Add)                  (None, 32, 32, 64)   0           ['batch_normalization_283[0][0]',\n",
      "                                                                  'activation_254[0][0]']         \n",
      "                                                                                                  \n",
      " activation_256 (Activation)    (None, 32, 32, 64)   0           ['add_115[0][0]']                \n",
      "                                                                                                  \n",
      " conv2d_284 (Conv2D)            (None, 32, 32, 64)   36928       ['activation_256[0][0]']         \n",
      "                                                                                                  \n",
      " batch_normalization_284 (Batch  (None, 32, 32, 64)  256         ['conv2d_284[0][0]']             \n",
      " Normalization)                                                                                   \n",
      "                                                                                                  \n",
      " activation_257 (Activation)    (None, 32, 32, 64)   0           ['batch_normalization_284[0][0]']\n",
      "                                                                                                  \n",
      " conv2d_285 (Conv2D)            (None, 32, 32, 64)   36928       ['activation_257[0][0]']         \n",
      "                                                                                                  \n",
      " batch_normalization_285 (Batch  (None, 32, 32, 64)  256         ['conv2d_285[0][0]']             \n",
      " Normalization)                                                                                   \n",
      "                                                                                                  \n",
      " add_116 (Add)                  (None, 32, 32, 64)   0           ['batch_normalization_285[0][0]',\n",
      "                                                                  'activation_256[0][0]']         \n",
      "                                                                                                  \n",
      " activation_258 (Activation)    (None, 32, 32, 64)   0           ['add_116[0][0]']                \n",
      "                                                                                                  \n",
      " conv2d_286 (Conv2D)            (None, 32, 32, 64)   36928       ['activation_258[0][0]']         \n",
      "                                                                                                  \n",
      " batch_normalization_286 (Batch  (None, 32, 32, 64)  256         ['conv2d_286[0][0]']             \n",
      " Normalization)                                                                                   \n",
      "                                                                                                  \n",
      " activation_259 (Activation)    (None, 32, 32, 64)   0           ['batch_normalization_286[0][0]']\n",
      "                                                                                                  \n",
      " conv2d_287 (Conv2D)            (None, 32, 32, 64)   36928       ['activation_259[0][0]']         \n",
      "                                                                                                  \n",
      " batch_normalization_287 (Batch  (None, 32, 32, 64)  256         ['conv2d_287[0][0]']             \n",
      " Normalization)                                                                                   \n",
      "                                                                                                  \n",
      " add_117 (Add)                  (None, 32, 32, 64)   0           ['batch_normalization_287[0][0]',\n",
      "                                                                  'activation_258[0][0]']         \n",
      "                                                                                                  \n",
      " activation_260 (Activation)    (None, 32, 32, 64)   0           ['add_117[0][0]']                \n",
      "                                                                                                  \n",
      " conv2d_288 (Conv2D)            (None, 16, 16, 128)  73856       ['activation_260[0][0]']         \n",
      "                                                                                                  \n",
      " batch_normalization_288 (Batch  (None, 16, 16, 128)  512        ['conv2d_288[0][0]']             \n",
      " Normalization)                                                                                   \n",
      "                                                                                                  \n",
      " activation_261 (Activation)    (None, 16, 16, 128)  0           ['batch_normalization_288[0][0]']\n",
      "                                                                                                  \n",
      " conv2d_289 (Conv2D)            (None, 16, 16, 128)  147584      ['activation_261[0][0]']         \n",
      "                                                                                                  \n",
      " conv2d_290 (Conv2D)            (None, 16, 16, 128)  8320        ['activation_260[0][0]']         \n",
      "                                                                                                  \n",
      " batch_normalization_289 (Batch  (None, 16, 16, 128)  512        ['conv2d_289[0][0]']             \n",
      " Normalization)                                                                                   \n",
      "                                                                                                  \n",
      " batch_normalization_290 (Batch  (None, 16, 16, 128)  512        ['conv2d_290[0][0]']             \n",
      " Normalization)                                                                                   \n",
      "                                                                                                  \n",
      " add_118 (Add)                  (None, 16, 16, 128)  0           ['batch_normalization_289[0][0]',\n",
      "                                                                  'batch_normalization_290[0][0]']\n",
      "                                                                                                  \n",
      " activation_262 (Activation)    (None, 16, 16, 128)  0           ['add_118[0][0]']                \n",
      "                                                                                                  \n",
      " conv2d_291 (Conv2D)            (None, 16, 16, 128)  147584      ['activation_262[0][0]']         \n",
      "                                                                                                  \n",
      " batch_normalization_291 (Batch  (None, 16, 16, 128)  512        ['conv2d_291[0][0]']             \n",
      " Normalization)                                                                                   \n",
      "                                                                                                  \n",
      " activation_263 (Activation)    (None, 16, 16, 128)  0           ['batch_normalization_291[0][0]']\n",
      "                                                                                                  \n",
      " conv2d_292 (Conv2D)            (None, 16, 16, 128)  147584      ['activation_263[0][0]']         \n",
      "                                                                                                  \n",
      " batch_normalization_292 (Batch  (None, 16, 16, 128)  512        ['conv2d_292[0][0]']             \n",
      " Normalization)                                                                                   \n",
      "                                                                                                  \n",
      " add_119 (Add)                  (None, 16, 16, 128)  0           ['batch_normalization_292[0][0]',\n",
      "                                                                  'activation_262[0][0]']         \n",
      "                                                                                                  \n",
      " activation_264 (Activation)    (None, 16, 16, 128)  0           ['add_119[0][0]']                \n",
      "                                                                                                  \n",
      " conv2d_293 (Conv2D)            (None, 16, 16, 128)  147584      ['activation_264[0][0]']         \n",
      "                                                                                                  \n",
      " batch_normalization_293 (Batch  (None, 16, 16, 128)  512        ['conv2d_293[0][0]']             \n",
      " Normalization)                                                                                   \n",
      "                                                                                                  \n",
      " activation_265 (Activation)    (None, 16, 16, 128)  0           ['batch_normalization_293[0][0]']\n",
      "                                                                                                  \n",
      " conv2d_294 (Conv2D)            (None, 16, 16, 128)  147584      ['activation_265[0][0]']         \n",
      "                                                                                                  \n",
      " batch_normalization_294 (Batch  (None, 16, 16, 128)  512        ['conv2d_294[0][0]']             \n",
      " Normalization)                                                                                   \n",
      "                                                                                                  \n",
      " add_120 (Add)                  (None, 16, 16, 128)  0           ['batch_normalization_294[0][0]',\n",
      "                                                                  'activation_264[0][0]']         \n",
      "                                                                                                  \n",
      " activation_266 (Activation)    (None, 16, 16, 128)  0           ['add_120[0][0]']                \n",
      "                                                                                                  \n",
      " conv2d_295 (Conv2D)            (None, 16, 16, 128)  147584      ['activation_266[0][0]']         \n",
      "                                                                                                  \n",
      " batch_normalization_295 (Batch  (None, 16, 16, 128)  512        ['conv2d_295[0][0]']             \n",
      " Normalization)                                                                                   \n",
      "                                                                                                  \n",
      " activation_267 (Activation)    (None, 16, 16, 128)  0           ['batch_normalization_295[0][0]']\n",
      "                                                                                                  \n",
      " conv2d_296 (Conv2D)            (None, 16, 16, 128)  147584      ['activation_267[0][0]']         \n",
      "                                                                                                  \n",
      " batch_normalization_296 (Batch  (None, 16, 16, 128)  512        ['conv2d_296[0][0]']             \n",
      " Normalization)                                                                                   \n",
      "                                                                                                  \n",
      " add_121 (Add)                  (None, 16, 16, 128)  0           ['batch_normalization_296[0][0]',\n",
      "                                                                  'activation_266[0][0]']         \n",
      "                                                                                                  \n",
      " activation_268 (Activation)    (None, 16, 16, 128)  0           ['add_121[0][0]']                \n",
      "                                                                                                  \n",
      " average_pooling2d_24 (AverageP  (None, 8, 8, 128)   0           ['activation_268[0][0]']         \n",
      " ooling2D)                                                                                        \n",
      "                                                                                                  \n",
      " flatten_24 (Flatten)           (None, 8192)         0           ['average_pooling2d_24[0][0]']   \n",
      "                                                                                                  \n",
      " dense_24 (Dense)               (None, 10)           81930       ['flatten_24[0][0]']             \n",
      "                                                                                                  \n",
      "==================================================================================================\n",
      "Total params: 1,501,322\n",
      "Trainable params: 1,497,866\n",
      "Non-trainable params: 3,456\n",
      "__________________________________________________________________________________________________\n"
     ]
    }
   ],
   "source": [
    "# Build ResNet Model 4\n",
    "resnet_model_4 = build_resnet(init_filters=64, res_layers=[4, 4], conv_kernel_size=(3,3), skip_kernel_size=(1, 1), conv_per_layer=2, pool_size=(2, 2), optimizer='SGD')\n",
    "resnet_model_4.summary()"
   ]
  },
  {
   "cell_type": "markdown",
   "id": "9f75a436-2b04-487e-9952-927016ad50ee",
   "metadata": {},
   "source": [
    "TO DO:\n",
    "1. keras callbacks: save checkpoint with best performance on validation data (rishie)\n",
    "2. Add hyperparameter tuning as arguments (gio)\n",
    "3. Save graphs under different names (gio)\n",
    "4. ImageDataGenerator - read about this to add augmentation (rishie)\n",
    "5. Regularization - Dropouts in random/hyperparameter\n",
    "6. Loading custom data (rishie)"
   ]
  },
  {
   "cell_type": "markdown",
   "id": "21ea29e1-357f-4b5b-b82d-fb586217bfb5",
   "metadata": {},
   "source": [
    "### Enabling Keras Callbacks"
   ]
  },
  {
   "cell_type": "markdown",
   "id": "1ffde665-08e5-4313-a0a7-0c674c10a2d7",
   "metadata": {},
   "source": [
    "Callback to save the Keras model weights after every epoch that obtains the best validation accuracy thus far."
   ]
  },
  {
   "cell_type": "code",
   "execution_count": 119,
   "id": "ba744aba-257e-492e-9787-ec96351cbbc7",
   "metadata": {},
   "outputs": [],
   "source": [
    "from tensorflow.keras.callbacks import ModelCheckpoint\n",
    "\n",
    "# Title of the Hypothesis Tested\n",
    "title = \"Varying Blocks Per Residual Layers\"\n",
    "\n",
    "# These are used to distinguish the models from each other\n",
    "param_1 = \"One Block Per Layer\"\n",
    "param_2 = \"Two Blocks Per Layer\"\n",
    "param_3 = \"Three Blocks Per Layer\"\n",
    "param_4 = \"Four Blocks Per Layer\"\n",
    "\n",
    "checkpoint_filepath_1 = 'ckpt/' + title + '/' + param_1\n",
    "checkpoint_filepath_2 = 'ckpt/' + title + '/' + param_2 \n",
    "checkpoint_filepath_3 = 'ckpt/' + title + '/' + param_3\n",
    "checkpoint_filepath_4 = 'ckpt/' + title + '/' + param_4\n",
    "\n",
    "# Defining callback\n",
    "model_checkpoint_callback_1 = ModelCheckpoint(\n",
    "    filepath=checkpoint_filepath_1,\n",
    "    monitor='val_accuracy',\n",
    "    mode='max',\n",
    "    save_best_only=True)\n",
    "\n",
    "model_checkpoint_callback_2 = ModelCheckpoint(\n",
    "    filepath=checkpoint_filepath_2,\n",
    "    monitor='val_accuracy',\n",
    "    mode='max',\n",
    "    save_best_only=True)\n",
    "\n",
    "model_checkpoint_callback_3 = ModelCheckpoint(\n",
    "    filepath=checkpoint_filepath_3,\n",
    "    monitor='val_accuracy',\n",
    "    mode='max',\n",
    "    save_best_only=True)\n",
    "\n",
    "model_checkpoint_callback_4 = ModelCheckpoint(\n",
    "    filepath=checkpoint_filepath_4,\n",
    "    monitor='val_accuracy',\n",
    "    mode='max',\n",
    "    save_best_only=True)"
   ]
  },
  {
   "cell_type": "code",
   "execution_count": 120,
   "id": "eab307b7-65d6-4463-b8c9-ceef7339c059",
   "metadata": {},
   "outputs": [
    {
     "name": "stdout",
     "output_type": "stream",
     "text": [
      "Epoch 1/30\n",
      "620/625 [============================>.] - ETA: 0s - loss: 1.6315 - accuracy: 0.4526"
     ]
    },
    {
     "name": "stderr",
     "output_type": "stream",
     "text": [
      "WARNING:absl:Found untraced functions such as _jit_compiled_convolution_op, _jit_compiled_convolution_op, _jit_compiled_convolution_op, _jit_compiled_convolution_op, _jit_compiled_convolution_op while saving (showing 5 of 6). These functions will not be directly callable after loading.\n"
     ]
    },
    {
     "name": "stdout",
     "output_type": "stream",
     "text": [
      "INFO:tensorflow:Assets written to: ckpt/Varying Blocks Per Residual Layers\\One Block Per Layer\\assets\n"
     ]
    },
    {
     "name": "stderr",
     "output_type": "stream",
     "text": [
      "INFO:tensorflow:Assets written to: ckpt/Varying Blocks Per Residual Layers\\One Block Per Layer\\assets\n"
     ]
    },
    {
     "name": "stdout",
     "output_type": "stream",
     "text": [
      "625/625 [==============================] - 9s 13ms/step - loss: 1.6289 - accuracy: 0.4533 - val_loss: 1.2556 - val_accuracy: 0.5529\n",
      "Epoch 2/30\n",
      "624/625 [============================>.] - ETA: 0s - loss: 1.1381 - accuracy: 0.5973"
     ]
    },
    {
     "name": "stderr",
     "output_type": "stream",
     "text": [
      "WARNING:absl:Found untraced functions such as _jit_compiled_convolution_op, _jit_compiled_convolution_op, _jit_compiled_convolution_op, _jit_compiled_convolution_op, _jit_compiled_convolution_op while saving (showing 5 of 6). These functions will not be directly callable after loading.\n"
     ]
    },
    {
     "name": "stdout",
     "output_type": "stream",
     "text": [
      "INFO:tensorflow:Assets written to: ckpt/Varying Blocks Per Residual Layers\\One Block Per Layer\\assets\n"
     ]
    },
    {
     "name": "stderr",
     "output_type": "stream",
     "text": [
      "INFO:tensorflow:Assets written to: ckpt/Varying Blocks Per Residual Layers\\One Block Per Layer\\assets\n"
     ]
    },
    {
     "name": "stdout",
     "output_type": "stream",
     "text": [
      "625/625 [==============================] - 8s 12ms/step - loss: 1.1380 - accuracy: 0.5974 - val_loss: 1.1204 - val_accuracy: 0.6033\n",
      "Epoch 3/30\n",
      "622/625 [============================>.] - ETA: 0s - loss: 0.9735 - accuracy: 0.6585"
     ]
    },
    {
     "name": "stderr",
     "output_type": "stream",
     "text": [
      "WARNING:absl:Found untraced functions such as _jit_compiled_convolution_op, _jit_compiled_convolution_op, _jit_compiled_convolution_op, _jit_compiled_convolution_op, _jit_compiled_convolution_op while saving (showing 5 of 6). These functions will not be directly callable after loading.\n"
     ]
    },
    {
     "name": "stdout",
     "output_type": "stream",
     "text": [
      "INFO:tensorflow:Assets written to: ckpt/Varying Blocks Per Residual Layers\\One Block Per Layer\\assets\n"
     ]
    },
    {
     "name": "stderr",
     "output_type": "stream",
     "text": [
      "INFO:tensorflow:Assets written to: ckpt/Varying Blocks Per Residual Layers\\One Block Per Layer\\assets\n"
     ]
    },
    {
     "name": "stdout",
     "output_type": "stream",
     "text": [
      "625/625 [==============================] - 7s 12ms/step - loss: 0.9738 - accuracy: 0.6585 - val_loss: 1.0571 - val_accuracy: 0.6296\n",
      "Epoch 4/30\n",
      "625/625 [==============================] - 6s 9ms/step - loss: 0.8691 - accuracy: 0.6956 - val_loss: 1.0989 - val_accuracy: 0.6223\n",
      "Epoch 5/30\n",
      "625/625 [==============================] - 6s 9ms/step - loss: 0.7929 - accuracy: 0.7246 - val_loss: 1.0999 - val_accuracy: 0.6271\n",
      "Epoch 6/30\n",
      "621/625 [============================>.] - ETA: 0s - loss: 0.7280 - accuracy: 0.7471"
     ]
    },
    {
     "name": "stderr",
     "output_type": "stream",
     "text": [
      "WARNING:absl:Found untraced functions such as _jit_compiled_convolution_op, _jit_compiled_convolution_op, _jit_compiled_convolution_op, _jit_compiled_convolution_op, _jit_compiled_convolution_op while saving (showing 5 of 6). These functions will not be directly callable after loading.\n"
     ]
    },
    {
     "name": "stdout",
     "output_type": "stream",
     "text": [
      "INFO:tensorflow:Assets written to: ckpt/Varying Blocks Per Residual Layers\\One Block Per Layer\\assets\n"
     ]
    },
    {
     "name": "stderr",
     "output_type": "stream",
     "text": [
      "INFO:tensorflow:Assets written to: ckpt/Varying Blocks Per Residual Layers\\One Block Per Layer\\assets\n"
     ]
    },
    {
     "name": "stdout",
     "output_type": "stream",
     "text": [
      "625/625 [==============================] - 7s 12ms/step - loss: 0.7282 - accuracy: 0.7470 - val_loss: 0.9411 - val_accuracy: 0.6750\n",
      "Epoch 7/30\n",
      "624/625 [============================>.] - ETA: 0s - loss: 0.6751 - accuracy: 0.7662"
     ]
    },
    {
     "name": "stderr",
     "output_type": "stream",
     "text": [
      "WARNING:absl:Found untraced functions such as _jit_compiled_convolution_op, _jit_compiled_convolution_op, _jit_compiled_convolution_op, _jit_compiled_convolution_op, _jit_compiled_convolution_op while saving (showing 5 of 6). These functions will not be directly callable after loading.\n"
     ]
    },
    {
     "name": "stdout",
     "output_type": "stream",
     "text": [
      "INFO:tensorflow:Assets written to: ckpt/Varying Blocks Per Residual Layers\\One Block Per Layer\\assets\n"
     ]
    },
    {
     "name": "stderr",
     "output_type": "stream",
     "text": [
      "INFO:tensorflow:Assets written to: ckpt/Varying Blocks Per Residual Layers\\One Block Per Layer\\assets\n"
     ]
    },
    {
     "name": "stdout",
     "output_type": "stream",
     "text": [
      "625/625 [==============================] - 8s 12ms/step - loss: 0.6751 - accuracy: 0.7661 - val_loss: 0.8881 - val_accuracy: 0.6909\n",
      "Epoch 8/30\n",
      "625/625 [==============================] - 6s 10ms/step - loss: 0.6216 - accuracy: 0.7856 - val_loss: 1.1463 - val_accuracy: 0.6395\n",
      "Epoch 9/30\n",
      "625/625 [==============================] - 6s 9ms/step - loss: 0.5808 - accuracy: 0.8024 - val_loss: 0.9761 - val_accuracy: 0.6834\n",
      "Epoch 10/30\n",
      "625/625 [==============================] - 6s 9ms/step - loss: 0.5366 - accuracy: 0.8168 - val_loss: 0.9442 - val_accuracy: 0.6864\n",
      "Epoch 11/30\n",
      "625/625 [==============================] - 6s 9ms/step - loss: 0.4995 - accuracy: 0.8288 - val_loss: 1.0295 - val_accuracy: 0.6713\n",
      "Epoch 12/30\n",
      "620/625 [============================>.] - ETA: 0s - loss: 0.4633 - accuracy: 0.8446"
     ]
    },
    {
     "name": "stderr",
     "output_type": "stream",
     "text": [
      "WARNING:absl:Found untraced functions such as _jit_compiled_convolution_op, _jit_compiled_convolution_op, _jit_compiled_convolution_op, _jit_compiled_convolution_op, _jit_compiled_convolution_op while saving (showing 5 of 6). These functions will not be directly callable after loading.\n"
     ]
    },
    {
     "name": "stdout",
     "output_type": "stream",
     "text": [
      "INFO:tensorflow:Assets written to: ckpt/Varying Blocks Per Residual Layers\\One Block Per Layer\\assets\n"
     ]
    },
    {
     "name": "stderr",
     "output_type": "stream",
     "text": [
      "INFO:tensorflow:Assets written to: ckpt/Varying Blocks Per Residual Layers\\One Block Per Layer\\assets\n"
     ]
    },
    {
     "name": "stdout",
     "output_type": "stream",
     "text": [
      "625/625 [==============================] - 7s 11ms/step - loss: 0.4633 - accuracy: 0.8449 - val_loss: 0.9585 - val_accuracy: 0.6948\n",
      "Epoch 13/30\n",
      "625/625 [==============================] - 6s 9ms/step - loss: 0.4291 - accuracy: 0.8567 - val_loss: 0.9960 - val_accuracy: 0.6768\n",
      "Epoch 14/30\n",
      "625/625 [==============================] - ETA: 0s - loss: 0.3973 - accuracy: 0.8702"
     ]
    },
    {
     "name": "stderr",
     "output_type": "stream",
     "text": [
      "WARNING:absl:Found untraced functions such as _jit_compiled_convolution_op, _jit_compiled_convolution_op, _jit_compiled_convolution_op, _jit_compiled_convolution_op, _jit_compiled_convolution_op while saving (showing 5 of 6). These functions will not be directly callable after loading.\n"
     ]
    },
    {
     "name": "stdout",
     "output_type": "stream",
     "text": [
      "INFO:tensorflow:Assets written to: ckpt/Varying Blocks Per Residual Layers\\One Block Per Layer\\assets\n"
     ]
    },
    {
     "name": "stderr",
     "output_type": "stream",
     "text": [
      "INFO:tensorflow:Assets written to: ckpt/Varying Blocks Per Residual Layers\\One Block Per Layer\\assets\n"
     ]
    },
    {
     "name": "stdout",
     "output_type": "stream",
     "text": [
      "625/625 [==============================] - 7s 12ms/step - loss: 0.3973 - accuracy: 0.8702 - val_loss: 0.9018 - val_accuracy: 0.7029\n",
      "Epoch 15/30\n",
      "620/625 [============================>.] - ETA: 0s - loss: 0.3668 - accuracy: 0.8814"
     ]
    },
    {
     "name": "stderr",
     "output_type": "stream",
     "text": [
      "WARNING:absl:Found untraced functions such as _jit_compiled_convolution_op, _jit_compiled_convolution_op, _jit_compiled_convolution_op, _jit_compiled_convolution_op, _jit_compiled_convolution_op while saving (showing 5 of 6). These functions will not be directly callable after loading.\n"
     ]
    },
    {
     "name": "stdout",
     "output_type": "stream",
     "text": [
      "INFO:tensorflow:Assets written to: ckpt/Varying Blocks Per Residual Layers\\One Block Per Layer\\assets\n"
     ]
    },
    {
     "name": "stderr",
     "output_type": "stream",
     "text": [
      "INFO:tensorflow:Assets written to: ckpt/Varying Blocks Per Residual Layers\\One Block Per Layer\\assets\n"
     ]
    },
    {
     "name": "stdout",
     "output_type": "stream",
     "text": [
      "625/625 [==============================] - 8s 13ms/step - loss: 0.3663 - accuracy: 0.8817 - val_loss: 0.8740 - val_accuracy: 0.7035\n",
      "Epoch 16/30\n",
      "625/625 [==============================] - 6s 10ms/step - loss: 0.3377 - accuracy: 0.8941 - val_loss: 0.9181 - val_accuracy: 0.7030\n",
      "Epoch 17/30\n",
      "623/625 [============================>.] - ETA: 0s - loss: 0.3120 - accuracy: 0.9039"
     ]
    },
    {
     "name": "stderr",
     "output_type": "stream",
     "text": [
      "WARNING:absl:Found untraced functions such as _jit_compiled_convolution_op, _jit_compiled_convolution_op, _jit_compiled_convolution_op, _jit_compiled_convolution_op, _jit_compiled_convolution_op while saving (showing 5 of 6). These functions will not be directly callable after loading.\n"
     ]
    },
    {
     "name": "stdout",
     "output_type": "stream",
     "text": [
      "INFO:tensorflow:Assets written to: ckpt/Varying Blocks Per Residual Layers\\One Block Per Layer\\assets\n"
     ]
    },
    {
     "name": "stderr",
     "output_type": "stream",
     "text": [
      "INFO:tensorflow:Assets written to: ckpt/Varying Blocks Per Residual Layers\\One Block Per Layer\\assets\n"
     ]
    },
    {
     "name": "stdout",
     "output_type": "stream",
     "text": [
      "625/625 [==============================] - 8s 12ms/step - loss: 0.3124 - accuracy: 0.9036 - val_loss: 0.8970 - val_accuracy: 0.7053\n",
      "Epoch 18/30\n",
      "625/625 [==============================] - 6s 9ms/step - loss: 0.2840 - accuracy: 0.9143 - val_loss: 1.1073 - val_accuracy: 0.6699\n",
      "Epoch 19/30\n",
      "625/625 [==============================] - ETA: 0s - loss: 0.2615 - accuracy: 0.9247"
     ]
    },
    {
     "name": "stderr",
     "output_type": "stream",
     "text": [
      "WARNING:absl:Found untraced functions such as _jit_compiled_convolution_op, _jit_compiled_convolution_op, _jit_compiled_convolution_op, _jit_compiled_convolution_op, _jit_compiled_convolution_op while saving (showing 5 of 6). These functions will not be directly callable after loading.\n"
     ]
    },
    {
     "name": "stdout",
     "output_type": "stream",
     "text": [
      "INFO:tensorflow:Assets written to: ckpt/Varying Blocks Per Residual Layers\\One Block Per Layer\\assets\n"
     ]
    },
    {
     "name": "stderr",
     "output_type": "stream",
     "text": [
      "INFO:tensorflow:Assets written to: ckpt/Varying Blocks Per Residual Layers\\One Block Per Layer\\assets\n"
     ]
    },
    {
     "name": "stdout",
     "output_type": "stream",
     "text": [
      "625/625 [==============================] - 7s 12ms/step - loss: 0.2615 - accuracy: 0.9247 - val_loss: 0.9017 - val_accuracy: 0.7159\n",
      "Epoch 20/30\n",
      "625/625 [==============================] - ETA: 0s - loss: 0.2397 - accuracy: 0.9329"
     ]
    },
    {
     "name": "stderr",
     "output_type": "stream",
     "text": [
      "WARNING:absl:Found untraced functions such as _jit_compiled_convolution_op, _jit_compiled_convolution_op, _jit_compiled_convolution_op, _jit_compiled_convolution_op, _jit_compiled_convolution_op while saving (showing 5 of 6). These functions will not be directly callable after loading.\n"
     ]
    },
    {
     "name": "stdout",
     "output_type": "stream",
     "text": [
      "INFO:tensorflow:Assets written to: ckpt/Varying Blocks Per Residual Layers\\One Block Per Layer\\assets\n"
     ]
    },
    {
     "name": "stderr",
     "output_type": "stream",
     "text": [
      "INFO:tensorflow:Assets written to: ckpt/Varying Blocks Per Residual Layers\\One Block Per Layer\\assets\n"
     ]
    },
    {
     "name": "stdout",
     "output_type": "stream",
     "text": [
      "625/625 [==============================] - 7s 12ms/step - loss: 0.2397 - accuracy: 0.9329 - val_loss: 0.8582 - val_accuracy: 0.7258\n",
      "Epoch 21/30\n",
      "625/625 [==============================] - 6s 9ms/step - loss: 0.2164 - accuracy: 0.9432 - val_loss: 0.8978 - val_accuracy: 0.7189\n",
      "Epoch 22/30\n",
      "625/625 [==============================] - 5s 9ms/step - loss: 0.1987 - accuracy: 0.9501 - val_loss: 0.9004 - val_accuracy: 0.7179\n",
      "Epoch 23/30\n",
      "625/625 [==============================] - 5s 9ms/step - loss: 0.1834 - accuracy: 0.9544 - val_loss: 0.8973 - val_accuracy: 0.7242\n",
      "Epoch 24/30\n",
      "625/625 [==============================] - ETA: 0s - loss: 0.1654 - accuracy: 0.9632"
     ]
    },
    {
     "name": "stderr",
     "output_type": "stream",
     "text": [
      "WARNING:absl:Found untraced functions such as _jit_compiled_convolution_op, _jit_compiled_convolution_op, _jit_compiled_convolution_op, _jit_compiled_convolution_op, _jit_compiled_convolution_op while saving (showing 5 of 6). These functions will not be directly callable after loading.\n"
     ]
    },
    {
     "name": "stdout",
     "output_type": "stream",
     "text": [
      "INFO:tensorflow:Assets written to: ckpt/Varying Blocks Per Residual Layers\\One Block Per Layer\\assets\n"
     ]
    },
    {
     "name": "stderr",
     "output_type": "stream",
     "text": [
      "INFO:tensorflow:Assets written to: ckpt/Varying Blocks Per Residual Layers\\One Block Per Layer\\assets\n"
     ]
    },
    {
     "name": "stdout",
     "output_type": "stream",
     "text": [
      "625/625 [==============================] - 7s 11ms/step - loss: 0.1654 - accuracy: 0.9632 - val_loss: 0.9125 - val_accuracy: 0.7269\n",
      "Epoch 25/30\n",
      "625/625 [==============================] - 6s 9ms/step - loss: 0.1527 - accuracy: 0.9661 - val_loss: 1.0116 - val_accuracy: 0.7047\n",
      "Epoch 26/30\n",
      "624/625 [============================>.] - ETA: 0s - loss: 0.1361 - accuracy: 0.9735"
     ]
    },
    {
     "name": "stderr",
     "output_type": "stream",
     "text": [
      "WARNING:absl:Found untraced functions such as _jit_compiled_convolution_op, _jit_compiled_convolution_op, _jit_compiled_convolution_op, _jit_compiled_convolution_op, _jit_compiled_convolution_op while saving (showing 5 of 6). These functions will not be directly callable after loading.\n"
     ]
    },
    {
     "name": "stdout",
     "output_type": "stream",
     "text": [
      "INFO:tensorflow:Assets written to: ckpt/Varying Blocks Per Residual Layers\\One Block Per Layer\\assets\n"
     ]
    },
    {
     "name": "stderr",
     "output_type": "stream",
     "text": [
      "INFO:tensorflow:Assets written to: ckpt/Varying Blocks Per Residual Layers\\One Block Per Layer\\assets\n"
     ]
    },
    {
     "name": "stdout",
     "output_type": "stream",
     "text": [
      "625/625 [==============================] - 7s 12ms/step - loss: 0.1361 - accuracy: 0.9735 - val_loss: 0.9044 - val_accuracy: 0.7270\n",
      "Epoch 27/30\n",
      "621/625 [============================>.] - ETA: 0s - loss: 0.1235 - accuracy: 0.9776"
     ]
    },
    {
     "name": "stderr",
     "output_type": "stream",
     "text": [
      "WARNING:absl:Found untraced functions such as _jit_compiled_convolution_op, _jit_compiled_convolution_op, _jit_compiled_convolution_op, _jit_compiled_convolution_op, _jit_compiled_convolution_op while saving (showing 5 of 6). These functions will not be directly callable after loading.\n"
     ]
    },
    {
     "name": "stdout",
     "output_type": "stream",
     "text": [
      "INFO:tensorflow:Assets written to: ckpt/Varying Blocks Per Residual Layers\\One Block Per Layer\\assets\n"
     ]
    },
    {
     "name": "stderr",
     "output_type": "stream",
     "text": [
      "INFO:tensorflow:Assets written to: ckpt/Varying Blocks Per Residual Layers\\One Block Per Layer\\assets\n"
     ]
    },
    {
     "name": "stdout",
     "output_type": "stream",
     "text": [
      "625/625 [==============================] - 8s 12ms/step - loss: 0.1235 - accuracy: 0.9776 - val_loss: 0.8956 - val_accuracy: 0.7322\n",
      "Epoch 28/30\n",
      "625/625 [==============================] - 6s 10ms/step - loss: 0.1126 - accuracy: 0.9825 - val_loss: 0.9244 - val_accuracy: 0.7227\n",
      "Epoch 29/30\n",
      "625/625 [==============================] - 6s 9ms/step - loss: 0.1038 - accuracy: 0.9837 - val_loss: 0.9415 - val_accuracy: 0.7289\n",
      "Epoch 30/30\n",
      "625/625 [==============================] - 5s 9ms/step - loss: 0.0913 - accuracy: 0.9884 - val_loss: 0.9519 - val_accuracy: 0.7286\n",
      "Epoch 1/30\n",
      "624/625 [============================>.] - ETA: 0s - loss: 2.0928 - accuracy: 0.4069"
     ]
    },
    {
     "name": "stderr",
     "output_type": "stream",
     "text": [
      "WARNING:absl:Found untraced functions such as _jit_compiled_convolution_op, _jit_compiled_convolution_op, _jit_compiled_convolution_op, _jit_compiled_convolution_op, _jit_compiled_convolution_op while saving (showing 5 of 10). These functions will not be directly callable after loading.\n"
     ]
    },
    {
     "name": "stdout",
     "output_type": "stream",
     "text": [
      "INFO:tensorflow:Assets written to: ckpt/Varying Blocks Per Residual Layers\\Two Blocks Per Layer\\assets\n"
     ]
    },
    {
     "name": "stderr",
     "output_type": "stream",
     "text": [
      "INFO:tensorflow:Assets written to: ckpt/Varying Blocks Per Residual Layers\\Two Blocks Per Layer\\assets\n"
     ]
    },
    {
     "name": "stdout",
     "output_type": "stream",
     "text": [
      "625/625 [==============================] - 12s 18ms/step - loss: 2.0918 - accuracy: 0.4070 - val_loss: 1.3860 - val_accuracy: 0.5086\n",
      "Epoch 2/30\n",
      "624/625 [============================>.] - ETA: 0s - loss: 1.2283 - accuracy: 0.5660"
     ]
    },
    {
     "name": "stderr",
     "output_type": "stream",
     "text": [
      "WARNING:absl:Found untraced functions such as _jit_compiled_convolution_op, _jit_compiled_convolution_op, _jit_compiled_convolution_op, _jit_compiled_convolution_op, _jit_compiled_convolution_op while saving (showing 5 of 10). These functions will not be directly callable after loading.\n"
     ]
    },
    {
     "name": "stdout",
     "output_type": "stream",
     "text": [
      "INFO:tensorflow:Assets written to: ckpt/Varying Blocks Per Residual Layers\\Two Blocks Per Layer\\assets\n"
     ]
    },
    {
     "name": "stderr",
     "output_type": "stream",
     "text": [
      "INFO:tensorflow:Assets written to: ckpt/Varying Blocks Per Residual Layers\\Two Blocks Per Layer\\assets\n"
     ]
    },
    {
     "name": "stdout",
     "output_type": "stream",
     "text": [
      "625/625 [==============================] - 12s 20ms/step - loss: 1.2276 - accuracy: 0.5663 - val_loss: 1.1475 - val_accuracy: 0.5921\n",
      "Epoch 3/30\n",
      "624/625 [============================>.] - ETA: 0s - loss: 1.0376 - accuracy: 0.6326"
     ]
    },
    {
     "name": "stderr",
     "output_type": "stream",
     "text": [
      "WARNING:absl:Found untraced functions such as _jit_compiled_convolution_op, _jit_compiled_convolution_op, _jit_compiled_convolution_op, _jit_compiled_convolution_op, _jit_compiled_convolution_op while saving (showing 5 of 10). These functions will not be directly callable after loading.\n"
     ]
    },
    {
     "name": "stdout",
     "output_type": "stream",
     "text": [
      "INFO:tensorflow:Assets written to: ckpt/Varying Blocks Per Residual Layers\\Two Blocks Per Layer\\assets\n"
     ]
    },
    {
     "name": "stderr",
     "output_type": "stream",
     "text": [
      "INFO:tensorflow:Assets written to: ckpt/Varying Blocks Per Residual Layers\\Two Blocks Per Layer\\assets\n"
     ]
    },
    {
     "name": "stdout",
     "output_type": "stream",
     "text": [
      "625/625 [==============================] - 12s 19ms/step - loss: 1.0375 - accuracy: 0.6327 - val_loss: 1.1462 - val_accuracy: 0.6019\n",
      "Epoch 4/30\n",
      "624/625 [============================>.] - ETA: 0s - loss: 0.9048 - accuracy: 0.6811"
     ]
    },
    {
     "name": "stderr",
     "output_type": "stream",
     "text": [
      "WARNING:absl:Found untraced functions such as _jit_compiled_convolution_op, _jit_compiled_convolution_op, _jit_compiled_convolution_op, _jit_compiled_convolution_op, _jit_compiled_convolution_op while saving (showing 5 of 10). These functions will not be directly callable after loading.\n"
     ]
    },
    {
     "name": "stdout",
     "output_type": "stream",
     "text": [
      "INFO:tensorflow:Assets written to: ckpt/Varying Blocks Per Residual Layers\\Two Blocks Per Layer\\assets\n"
     ]
    },
    {
     "name": "stderr",
     "output_type": "stream",
     "text": [
      "INFO:tensorflow:Assets written to: ckpt/Varying Blocks Per Residual Layers\\Two Blocks Per Layer\\assets\n"
     ]
    },
    {
     "name": "stdout",
     "output_type": "stream",
     "text": [
      "625/625 [==============================] - 12s 20ms/step - loss: 0.9051 - accuracy: 0.6809 - val_loss: 1.0359 - val_accuracy: 0.6492\n",
      "Epoch 5/30\n",
      "623/625 [============================>.] - ETA: 0s - loss: 0.7943 - accuracy: 0.7234"
     ]
    },
    {
     "name": "stderr",
     "output_type": "stream",
     "text": [
      "WARNING:absl:Found untraced functions such as _jit_compiled_convolution_op, _jit_compiled_convolution_op, _jit_compiled_convolution_op, _jit_compiled_convolution_op, _jit_compiled_convolution_op while saving (showing 5 of 10). These functions will not be directly callable after loading.\n"
     ]
    },
    {
     "name": "stdout",
     "output_type": "stream",
     "text": [
      "INFO:tensorflow:Assets written to: ckpt/Varying Blocks Per Residual Layers\\Two Blocks Per Layer\\assets\n"
     ]
    },
    {
     "name": "stderr",
     "output_type": "stream",
     "text": [
      "INFO:tensorflow:Assets written to: ckpt/Varying Blocks Per Residual Layers\\Two Blocks Per Layer\\assets\n"
     ]
    },
    {
     "name": "stdout",
     "output_type": "stream",
     "text": [
      "625/625 [==============================] - 12s 19ms/step - loss: 0.7937 - accuracy: 0.7236 - val_loss: 0.9662 - val_accuracy: 0.6665\n",
      "Epoch 6/30\n",
      "625/625 [==============================] - ETA: 0s - loss: 0.7051 - accuracy: 0.7564"
     ]
    },
    {
     "name": "stderr",
     "output_type": "stream",
     "text": [
      "WARNING:absl:Found untraced functions such as _jit_compiled_convolution_op, _jit_compiled_convolution_op, _jit_compiled_convolution_op, _jit_compiled_convolution_op, _jit_compiled_convolution_op while saving (showing 5 of 10). These functions will not be directly callable after loading.\n"
     ]
    },
    {
     "name": "stdout",
     "output_type": "stream",
     "text": [
      "INFO:tensorflow:Assets written to: ckpt/Varying Blocks Per Residual Layers\\Two Blocks Per Layer\\assets\n"
     ]
    },
    {
     "name": "stderr",
     "output_type": "stream",
     "text": [
      "INFO:tensorflow:Assets written to: ckpt/Varying Blocks Per Residual Layers\\Two Blocks Per Layer\\assets\n"
     ]
    },
    {
     "name": "stdout",
     "output_type": "stream",
     "text": [
      "625/625 [==============================] - 11s 18ms/step - loss: 0.7051 - accuracy: 0.7564 - val_loss: 0.9228 - val_accuracy: 0.6886\n",
      "Epoch 7/30\n",
      "625/625 [==============================] - ETA: 0s - loss: 0.6288 - accuracy: 0.7832"
     ]
    },
    {
     "name": "stderr",
     "output_type": "stream",
     "text": [
      "WARNING:absl:Found untraced functions such as _jit_compiled_convolution_op, _jit_compiled_convolution_op, _jit_compiled_convolution_op, _jit_compiled_convolution_op, _jit_compiled_convolution_op while saving (showing 5 of 10). These functions will not be directly callable after loading.\n"
     ]
    },
    {
     "name": "stdout",
     "output_type": "stream",
     "text": [
      "INFO:tensorflow:Assets written to: ckpt/Varying Blocks Per Residual Layers\\Two Blocks Per Layer\\assets\n"
     ]
    },
    {
     "name": "stderr",
     "output_type": "stream",
     "text": [
      "INFO:tensorflow:Assets written to: ckpt/Varying Blocks Per Residual Layers\\Two Blocks Per Layer\\assets\n"
     ]
    },
    {
     "name": "stdout",
     "output_type": "stream",
     "text": [
      "625/625 [==============================] - 12s 19ms/step - loss: 0.6288 - accuracy: 0.7832 - val_loss: 0.8749 - val_accuracy: 0.7008\n",
      "Epoch 8/30\n",
      "625/625 [==============================] - 9s 15ms/step - loss: 0.5616 - accuracy: 0.8055 - val_loss: 1.0360 - val_accuracy: 0.6616\n",
      "Epoch 9/30\n",
      "625/625 [==============================] - 9s 14ms/step - loss: 0.4993 - accuracy: 0.8289 - val_loss: 0.9455 - val_accuracy: 0.6869\n",
      "Epoch 10/30\n",
      "625/625 [==============================] - ETA: 0s - loss: 0.4484 - accuracy: 0.8472"
     ]
    },
    {
     "name": "stderr",
     "output_type": "stream",
     "text": [
      "WARNING:absl:Found untraced functions such as _jit_compiled_convolution_op, _jit_compiled_convolution_op, _jit_compiled_convolution_op, _jit_compiled_convolution_op, _jit_compiled_convolution_op while saving (showing 5 of 10). These functions will not be directly callable after loading.\n"
     ]
    },
    {
     "name": "stdout",
     "output_type": "stream",
     "text": [
      "INFO:tensorflow:Assets written to: ckpt/Varying Blocks Per Residual Layers\\Two Blocks Per Layer\\assets\n"
     ]
    },
    {
     "name": "stderr",
     "output_type": "stream",
     "text": [
      "INFO:tensorflow:Assets written to: ckpt/Varying Blocks Per Residual Layers\\Two Blocks Per Layer\\assets\n"
     ]
    },
    {
     "name": "stdout",
     "output_type": "stream",
     "text": [
      "625/625 [==============================] - 11s 18ms/step - loss: 0.4484 - accuracy: 0.8472 - val_loss: 0.8902 - val_accuracy: 0.7042\n",
      "Epoch 11/30\n",
      "624/625 [============================>.] - ETA: 0s - loss: 0.3938 - accuracy: 0.8692"
     ]
    },
    {
     "name": "stderr",
     "output_type": "stream",
     "text": [
      "WARNING:absl:Found untraced functions such as _jit_compiled_convolution_op, _jit_compiled_convolution_op, _jit_compiled_convolution_op, _jit_compiled_convolution_op, _jit_compiled_convolution_op while saving (showing 5 of 10). These functions will not be directly callable after loading.\n"
     ]
    },
    {
     "name": "stdout",
     "output_type": "stream",
     "text": [
      "INFO:tensorflow:Assets written to: ckpt/Varying Blocks Per Residual Layers\\Two Blocks Per Layer\\assets\n"
     ]
    },
    {
     "name": "stderr",
     "output_type": "stream",
     "text": [
      "INFO:tensorflow:Assets written to: ckpt/Varying Blocks Per Residual Layers\\Two Blocks Per Layer\\assets\n"
     ]
    },
    {
     "name": "stdout",
     "output_type": "stream",
     "text": [
      "625/625 [==============================] - 12s 20ms/step - loss: 0.3936 - accuracy: 0.8693 - val_loss: 0.8167 - val_accuracy: 0.7308\n",
      "Epoch 12/30\n",
      "625/625 [==============================] - 10s 15ms/step - loss: 0.3464 - accuracy: 0.8860 - val_loss: 0.8572 - val_accuracy: 0.7168\n",
      "Epoch 13/30\n",
      "625/625 [==============================] - 9s 14ms/step - loss: 0.3018 - accuracy: 0.9041 - val_loss: 0.9349 - val_accuracy: 0.7045\n",
      "Epoch 14/30\n",
      "625/625 [==============================] - 9s 15ms/step - loss: 0.2594 - accuracy: 0.9227 - val_loss: 0.8555 - val_accuracy: 0.7225\n",
      "Epoch 15/30\n",
      "625/625 [==============================] - ETA: 0s - loss: 0.2246 - accuracy: 0.9350"
     ]
    },
    {
     "name": "stderr",
     "output_type": "stream",
     "text": [
      "WARNING:absl:Found untraced functions such as _jit_compiled_convolution_op, _jit_compiled_convolution_op, _jit_compiled_convolution_op, _jit_compiled_convolution_op, _jit_compiled_convolution_op while saving (showing 5 of 10). These functions will not be directly callable after loading.\n"
     ]
    },
    {
     "name": "stdout",
     "output_type": "stream",
     "text": [
      "INFO:tensorflow:Assets written to: ckpt/Varying Blocks Per Residual Layers\\Two Blocks Per Layer\\assets\n"
     ]
    },
    {
     "name": "stderr",
     "output_type": "stream",
     "text": [
      "INFO:tensorflow:Assets written to: ckpt/Varying Blocks Per Residual Layers\\Two Blocks Per Layer\\assets\n"
     ]
    },
    {
     "name": "stdout",
     "output_type": "stream",
     "text": [
      "625/625 [==============================] - 11s 18ms/step - loss: 0.2246 - accuracy: 0.9350 - val_loss: 0.8462 - val_accuracy: 0.7352\n",
      "Epoch 16/30\n",
      "625/625 [==============================] - 10s 15ms/step - loss: 0.1915 - accuracy: 0.9483 - val_loss: 0.9010 - val_accuracy: 0.7174\n",
      "Epoch 17/30\n",
      "625/625 [==============================] - 9s 14ms/step - loss: 0.1607 - accuracy: 0.9613 - val_loss: 0.8830 - val_accuracy: 0.7247\n",
      "Epoch 18/30\n",
      "625/625 [==============================] - ETA: 0s - loss: 0.1363 - accuracy: 0.9699"
     ]
    },
    {
     "name": "stderr",
     "output_type": "stream",
     "text": [
      "WARNING:absl:Found untraced functions such as _jit_compiled_convolution_op, _jit_compiled_convolution_op, _jit_compiled_convolution_op, _jit_compiled_convolution_op, _jit_compiled_convolution_op while saving (showing 5 of 10). These functions will not be directly callable after loading.\n"
     ]
    },
    {
     "name": "stdout",
     "output_type": "stream",
     "text": [
      "INFO:tensorflow:Assets written to: ckpt/Varying Blocks Per Residual Layers\\Two Blocks Per Layer\\assets\n"
     ]
    },
    {
     "name": "stderr",
     "output_type": "stream",
     "text": [
      "INFO:tensorflow:Assets written to: ckpt/Varying Blocks Per Residual Layers\\Two Blocks Per Layer\\assets\n"
     ]
    },
    {
     "name": "stdout",
     "output_type": "stream",
     "text": [
      "625/625 [==============================] - 12s 19ms/step - loss: 0.1363 - accuracy: 0.9699 - val_loss: 0.8382 - val_accuracy: 0.7438\n",
      "Epoch 19/30\n",
      "625/625 [==============================] - 10s 15ms/step - loss: 0.1166 - accuracy: 0.9771 - val_loss: 0.8871 - val_accuracy: 0.7383\n",
      "Epoch 20/30\n",
      "625/625 [==============================] - 9s 14ms/step - loss: 0.0976 - accuracy: 0.9840 - val_loss: 0.9194 - val_accuracy: 0.7329\n",
      "Epoch 21/30\n",
      "622/625 [============================>.] - ETA: 0s - loss: 0.0835 - accuracy: 0.9883"
     ]
    },
    {
     "name": "stderr",
     "output_type": "stream",
     "text": [
      "WARNING:absl:Found untraced functions such as _jit_compiled_convolution_op, _jit_compiled_convolution_op, _jit_compiled_convolution_op, _jit_compiled_convolution_op, _jit_compiled_convolution_op while saving (showing 5 of 10). These functions will not be directly callable after loading.\n"
     ]
    },
    {
     "name": "stdout",
     "output_type": "stream",
     "text": [
      "INFO:tensorflow:Assets written to: ckpt/Varying Blocks Per Residual Layers\\Two Blocks Per Layer\\assets\n"
     ]
    },
    {
     "name": "stderr",
     "output_type": "stream",
     "text": [
      "INFO:tensorflow:Assets written to: ckpt/Varying Blocks Per Residual Layers\\Two Blocks Per Layer\\assets\n"
     ]
    },
    {
     "name": "stdout",
     "output_type": "stream",
     "text": [
      "625/625 [==============================] - 11s 18ms/step - loss: 0.0834 - accuracy: 0.9884 - val_loss: 0.8696 - val_accuracy: 0.7472\n",
      "Epoch 22/30\n",
      "625/625 [==============================] - 10s 15ms/step - loss: 0.0688 - accuracy: 0.9923 - val_loss: 0.9220 - val_accuracy: 0.7373\n",
      "Epoch 23/30\n",
      "625/625 [==============================] - 9s 15ms/step - loss: 0.0574 - accuracy: 0.9954 - val_loss: 0.9333 - val_accuracy: 0.7338\n",
      "Epoch 24/30\n",
      "625/625 [==============================] - 9s 14ms/step - loss: 0.0490 - accuracy: 0.9967 - val_loss: 0.9038 - val_accuracy: 0.7446\n",
      "Epoch 25/30\n",
      "622/625 [============================>.] - ETA: 0s - loss: 0.0437 - accuracy: 0.9976"
     ]
    },
    {
     "name": "stderr",
     "output_type": "stream",
     "text": [
      "WARNING:absl:Found untraced functions such as _jit_compiled_convolution_op, _jit_compiled_convolution_op, _jit_compiled_convolution_op, _jit_compiled_convolution_op, _jit_compiled_convolution_op while saving (showing 5 of 10). These functions will not be directly callable after loading.\n"
     ]
    },
    {
     "name": "stdout",
     "output_type": "stream",
     "text": [
      "INFO:tensorflow:Assets written to: ckpt/Varying Blocks Per Residual Layers\\Two Blocks Per Layer\\assets\n"
     ]
    },
    {
     "name": "stderr",
     "output_type": "stream",
     "text": [
      "INFO:tensorflow:Assets written to: ckpt/Varying Blocks Per Residual Layers\\Two Blocks Per Layer\\assets\n"
     ]
    },
    {
     "name": "stdout",
     "output_type": "stream",
     "text": [
      "625/625 [==============================] - 11s 18ms/step - loss: 0.0437 - accuracy: 0.9976 - val_loss: 0.8899 - val_accuracy: 0.7477\n",
      "Epoch 26/30\n",
      "624/625 [============================>.] - ETA: 0s - loss: 0.0371 - accuracy: 0.9983"
     ]
    },
    {
     "name": "stderr",
     "output_type": "stream",
     "text": [
      "WARNING:absl:Found untraced functions such as _jit_compiled_convolution_op, _jit_compiled_convolution_op, _jit_compiled_convolution_op, _jit_compiled_convolution_op, _jit_compiled_convolution_op while saving (showing 5 of 10). These functions will not be directly callable after loading.\n"
     ]
    },
    {
     "name": "stdout",
     "output_type": "stream",
     "text": [
      "INFO:tensorflow:Assets written to: ckpt/Varying Blocks Per Residual Layers\\Two Blocks Per Layer\\assets\n"
     ]
    },
    {
     "name": "stderr",
     "output_type": "stream",
     "text": [
      "INFO:tensorflow:Assets written to: ckpt/Varying Blocks Per Residual Layers\\Two Blocks Per Layer\\assets\n"
     ]
    },
    {
     "name": "stdout",
     "output_type": "stream",
     "text": [
      "625/625 [==============================] - 11s 18ms/step - loss: 0.0371 - accuracy: 0.9983 - val_loss: 0.9165 - val_accuracy: 0.7482\n",
      "Epoch 27/30\n",
      "623/625 [============================>.] - ETA: 0s - loss: 0.0326 - accuracy: 0.9990"
     ]
    },
    {
     "name": "stderr",
     "output_type": "stream",
     "text": [
      "WARNING:absl:Found untraced functions such as _jit_compiled_convolution_op, _jit_compiled_convolution_op, _jit_compiled_convolution_op, _jit_compiled_convolution_op, _jit_compiled_convolution_op while saving (showing 5 of 10). These functions will not be directly callable after loading.\n"
     ]
    },
    {
     "name": "stdout",
     "output_type": "stream",
     "text": [
      "INFO:tensorflow:Assets written to: ckpt/Varying Blocks Per Residual Layers\\Two Blocks Per Layer\\assets\n"
     ]
    },
    {
     "name": "stderr",
     "output_type": "stream",
     "text": [
      "INFO:tensorflow:Assets written to: ckpt/Varying Blocks Per Residual Layers\\Two Blocks Per Layer\\assets\n"
     ]
    },
    {
     "name": "stdout",
     "output_type": "stream",
     "text": [
      "625/625 [==============================] - 11s 18ms/step - loss: 0.0326 - accuracy: 0.9990 - val_loss: 0.9074 - val_accuracy: 0.7526\n",
      "Epoch 28/30\n",
      "625/625 [==============================] - 9s 14ms/step - loss: 0.0286 - accuracy: 0.9993 - val_loss: 0.9157 - val_accuracy: 0.7490\n",
      "Epoch 29/30\n",
      "625/625 [==============================] - ETA: 0s - loss: 0.0259 - accuracy: 0.9995"
     ]
    },
    {
     "name": "stderr",
     "output_type": "stream",
     "text": [
      "WARNING:absl:Found untraced functions such as _jit_compiled_convolution_op, _jit_compiled_convolution_op, _jit_compiled_convolution_op, _jit_compiled_convolution_op, _jit_compiled_convolution_op while saving (showing 5 of 10). These functions will not be directly callable after loading.\n"
     ]
    },
    {
     "name": "stdout",
     "output_type": "stream",
     "text": [
      "INFO:tensorflow:Assets written to: ckpt/Varying Blocks Per Residual Layers\\Two Blocks Per Layer\\assets\n"
     ]
    },
    {
     "name": "stderr",
     "output_type": "stream",
     "text": [
      "INFO:tensorflow:Assets written to: ckpt/Varying Blocks Per Residual Layers\\Two Blocks Per Layer\\assets\n"
     ]
    },
    {
     "name": "stdout",
     "output_type": "stream",
     "text": [
      "625/625 [==============================] - 11s 17ms/step - loss: 0.0259 - accuracy: 0.9995 - val_loss: 0.9194 - val_accuracy: 0.7551\n",
      "Epoch 30/30\n",
      "622/625 [============================>.] - ETA: 0s - loss: 0.0232 - accuracy: 0.9995"
     ]
    },
    {
     "name": "stderr",
     "output_type": "stream",
     "text": [
      "WARNING:absl:Found untraced functions such as _jit_compiled_convolution_op, _jit_compiled_convolution_op, _jit_compiled_convolution_op, _jit_compiled_convolution_op, _jit_compiled_convolution_op while saving (showing 5 of 10). These functions will not be directly callable after loading.\n"
     ]
    },
    {
     "name": "stdout",
     "output_type": "stream",
     "text": [
      "INFO:tensorflow:Assets written to: ckpt/Varying Blocks Per Residual Layers\\Two Blocks Per Layer\\assets\n"
     ]
    },
    {
     "name": "stderr",
     "output_type": "stream",
     "text": [
      "INFO:tensorflow:Assets written to: ckpt/Varying Blocks Per Residual Layers\\Two Blocks Per Layer\\assets\n"
     ]
    },
    {
     "name": "stdout",
     "output_type": "stream",
     "text": [
      "625/625 [==============================] - 12s 20ms/step - loss: 0.0233 - accuracy: 0.9995 - val_loss: 0.9293 - val_accuracy: 0.7558\n",
      "Epoch 1/30\n",
      "623/625 [============================>.] - ETA: 0s - loss: 2.2659 - accuracy: 0.4030"
     ]
    },
    {
     "name": "stderr",
     "output_type": "stream",
     "text": [
      "WARNING:absl:Found untraced functions such as _jit_compiled_convolution_op, _jit_compiled_convolution_op, _jit_compiled_convolution_op, _jit_compiled_convolution_op, _jit_compiled_convolution_op while saving (showing 5 of 14). These functions will not be directly callable after loading.\n"
     ]
    },
    {
     "name": "stdout",
     "output_type": "stream",
     "text": [
      "INFO:tensorflow:Assets written to: ckpt/Varying Blocks Per Residual Layers\\Three Blocks Per Layer\\assets\n"
     ]
    },
    {
     "name": "stderr",
     "output_type": "stream",
     "text": [
      "INFO:tensorflow:Assets written to: ckpt/Varying Blocks Per Residual Layers\\Three Blocks Per Layer\\assets\n"
     ]
    },
    {
     "name": "stdout",
     "output_type": "stream",
     "text": [
      "625/625 [==============================] - 18s 27ms/step - loss: 2.2637 - accuracy: 0.4032 - val_loss: 1.4837 - val_accuracy: 0.4767\n",
      "Epoch 2/30\n",
      "625/625 [==============================] - ETA: 0s - loss: 1.2698 - accuracy: 0.5473"
     ]
    },
    {
     "name": "stderr",
     "output_type": "stream",
     "text": [
      "WARNING:absl:Found untraced functions such as _jit_compiled_convolution_op, _jit_compiled_convolution_op, _jit_compiled_convolution_op, _jit_compiled_convolution_op, _jit_compiled_convolution_op while saving (showing 5 of 14). These functions will not be directly callable after loading.\n"
     ]
    },
    {
     "name": "stdout",
     "output_type": "stream",
     "text": [
      "INFO:tensorflow:Assets written to: ckpt/Varying Blocks Per Residual Layers\\Three Blocks Per Layer\\assets\n"
     ]
    },
    {
     "name": "stderr",
     "output_type": "stream",
     "text": [
      "INFO:tensorflow:Assets written to: ckpt/Varying Blocks Per Residual Layers\\Three Blocks Per Layer\\assets\n"
     ]
    },
    {
     "name": "stdout",
     "output_type": "stream",
     "text": [
      "625/625 [==============================] - 17s 26ms/step - loss: 1.2698 - accuracy: 0.5473 - val_loss: 1.2397 - val_accuracy: 0.5556\n",
      "Epoch 3/30\n",
      "623/625 [============================>.] - ETA: 0s - loss: 1.0986 - accuracy: 0.6100"
     ]
    },
    {
     "name": "stderr",
     "output_type": "stream",
     "text": [
      "WARNING:absl:Found untraced functions such as _jit_compiled_convolution_op, _jit_compiled_convolution_op, _jit_compiled_convolution_op, _jit_compiled_convolution_op, _jit_compiled_convolution_op while saving (showing 5 of 14). These functions will not be directly callable after loading.\n"
     ]
    },
    {
     "name": "stdout",
     "output_type": "stream",
     "text": [
      "INFO:tensorflow:Assets written to: ckpt/Varying Blocks Per Residual Layers\\Three Blocks Per Layer\\assets\n"
     ]
    },
    {
     "name": "stderr",
     "output_type": "stream",
     "text": [
      "INFO:tensorflow:Assets written to: ckpt/Varying Blocks Per Residual Layers\\Three Blocks Per Layer\\assets\n"
     ]
    },
    {
     "name": "stdout",
     "output_type": "stream",
     "text": [
      "625/625 [==============================] - 16s 26ms/step - loss: 1.0982 - accuracy: 0.6100 - val_loss: 1.1465 - val_accuracy: 0.5868\n",
      "Epoch 4/30\n",
      "625/625 [==============================] - ETA: 0s - loss: 0.9735 - accuracy: 0.6550"
     ]
    },
    {
     "name": "stderr",
     "output_type": "stream",
     "text": [
      "WARNING:absl:Found untraced functions such as _jit_compiled_convolution_op, _jit_compiled_convolution_op, _jit_compiled_convolution_op, _jit_compiled_convolution_op, _jit_compiled_convolution_op while saving (showing 5 of 14). These functions will not be directly callable after loading.\n"
     ]
    },
    {
     "name": "stdout",
     "output_type": "stream",
     "text": [
      "INFO:tensorflow:Assets written to: ckpt/Varying Blocks Per Residual Layers\\Three Blocks Per Layer\\assets\n"
     ]
    },
    {
     "name": "stderr",
     "output_type": "stream",
     "text": [
      "INFO:tensorflow:Assets written to: ckpt/Varying Blocks Per Residual Layers\\Three Blocks Per Layer\\assets\n"
     ]
    },
    {
     "name": "stdout",
     "output_type": "stream",
     "text": [
      "625/625 [==============================] - 16s 25ms/step - loss: 0.9735 - accuracy: 0.6550 - val_loss: 1.0615 - val_accuracy: 0.6371\n",
      "Epoch 5/30\n",
      "625/625 [==============================] - ETA: 0s - loss: 0.8671 - accuracy: 0.6967"
     ]
    },
    {
     "name": "stderr",
     "output_type": "stream",
     "text": [
      "WARNING:absl:Found untraced functions such as _jit_compiled_convolution_op, _jit_compiled_convolution_op, _jit_compiled_convolution_op, _jit_compiled_convolution_op, _jit_compiled_convolution_op while saving (showing 5 of 14). These functions will not be directly callable after loading.\n"
     ]
    },
    {
     "name": "stdout",
     "output_type": "stream",
     "text": [
      "INFO:tensorflow:Assets written to: ckpt/Varying Blocks Per Residual Layers\\Three Blocks Per Layer\\assets\n"
     ]
    },
    {
     "name": "stderr",
     "output_type": "stream",
     "text": [
      "INFO:tensorflow:Assets written to: ckpt/Varying Blocks Per Residual Layers\\Three Blocks Per Layer\\assets\n"
     ]
    },
    {
     "name": "stdout",
     "output_type": "stream",
     "text": [
      "625/625 [==============================] - 16s 26ms/step - loss: 0.8671 - accuracy: 0.6967 - val_loss: 1.0532 - val_accuracy: 0.6450\n",
      "Epoch 6/30\n",
      "624/625 [============================>.] - ETA: 0s - loss: 0.7808 - accuracy: 0.7250"
     ]
    },
    {
     "name": "stderr",
     "output_type": "stream",
     "text": [
      "WARNING:absl:Found untraced functions such as _jit_compiled_convolution_op, _jit_compiled_convolution_op, _jit_compiled_convolution_op, _jit_compiled_convolution_op, _jit_compiled_convolution_op while saving (showing 5 of 14). These functions will not be directly callable after loading.\n"
     ]
    },
    {
     "name": "stdout",
     "output_type": "stream",
     "text": [
      "INFO:tensorflow:Assets written to: ckpt/Varying Blocks Per Residual Layers\\Three Blocks Per Layer\\assets\n"
     ]
    },
    {
     "name": "stderr",
     "output_type": "stream",
     "text": [
      "INFO:tensorflow:Assets written to: ckpt/Varying Blocks Per Residual Layers\\Three Blocks Per Layer\\assets\n"
     ]
    },
    {
     "name": "stdout",
     "output_type": "stream",
     "text": [
      "625/625 [==============================] - 16s 26ms/step - loss: 0.7805 - accuracy: 0.7252 - val_loss: 0.9204 - val_accuracy: 0.6863\n",
      "Epoch 7/30\n",
      "625/625 [==============================] - ETA: 0s - loss: 0.7088 - accuracy: 0.7525"
     ]
    },
    {
     "name": "stderr",
     "output_type": "stream",
     "text": [
      "WARNING:absl:Found untraced functions such as _jit_compiled_convolution_op, _jit_compiled_convolution_op, _jit_compiled_convolution_op, _jit_compiled_convolution_op, _jit_compiled_convolution_op while saving (showing 5 of 14). These functions will not be directly callable after loading.\n"
     ]
    },
    {
     "name": "stdout",
     "output_type": "stream",
     "text": [
      "INFO:tensorflow:Assets written to: ckpt/Varying Blocks Per Residual Layers\\Three Blocks Per Layer\\assets\n"
     ]
    },
    {
     "name": "stderr",
     "output_type": "stream",
     "text": [
      "INFO:tensorflow:Assets written to: ckpt/Varying Blocks Per Residual Layers\\Three Blocks Per Layer\\assets\n"
     ]
    },
    {
     "name": "stdout",
     "output_type": "stream",
     "text": [
      "625/625 [==============================] - 17s 27ms/step - loss: 0.7088 - accuracy: 0.7525 - val_loss: 0.9143 - val_accuracy: 0.6921\n",
      "Epoch 8/30\n",
      "623/625 [============================>.] - ETA: 0s - loss: 0.6361 - accuracy: 0.7745"
     ]
    },
    {
     "name": "stderr",
     "output_type": "stream",
     "text": [
      "WARNING:absl:Found untraced functions such as _jit_compiled_convolution_op, _jit_compiled_convolution_op, _jit_compiled_convolution_op, _jit_compiled_convolution_op, _jit_compiled_convolution_op while saving (showing 5 of 14). These functions will not be directly callable after loading.\n"
     ]
    },
    {
     "name": "stdout",
     "output_type": "stream",
     "text": [
      "INFO:tensorflow:Assets written to: ckpt/Varying Blocks Per Residual Layers\\Three Blocks Per Layer\\assets\n"
     ]
    },
    {
     "name": "stderr",
     "output_type": "stream",
     "text": [
      "INFO:tensorflow:Assets written to: ckpt/Varying Blocks Per Residual Layers\\Three Blocks Per Layer\\assets\n"
     ]
    },
    {
     "name": "stdout",
     "output_type": "stream",
     "text": [
      "625/625 [==============================] - 16s 26ms/step - loss: 0.6360 - accuracy: 0.7745 - val_loss: 0.9129 - val_accuracy: 0.6989\n",
      "Epoch 9/30\n",
      "625/625 [==============================] - 13s 21ms/step - loss: 0.5744 - accuracy: 0.7990 - val_loss: 0.9263 - val_accuracy: 0.6957\n",
      "Epoch 10/30\n",
      "624/625 [============================>.] - ETA: 0s - loss: 0.5203 - accuracy: 0.8185"
     ]
    },
    {
     "name": "stderr",
     "output_type": "stream",
     "text": [
      "WARNING:absl:Found untraced functions such as _jit_compiled_convolution_op, _jit_compiled_convolution_op, _jit_compiled_convolution_op, _jit_compiled_convolution_op, _jit_compiled_convolution_op while saving (showing 5 of 14). These functions will not be directly callable after loading.\n"
     ]
    },
    {
     "name": "stdout",
     "output_type": "stream",
     "text": [
      "INFO:tensorflow:Assets written to: ckpt/Varying Blocks Per Residual Layers\\Three Blocks Per Layer\\assets\n"
     ]
    },
    {
     "name": "stderr",
     "output_type": "stream",
     "text": [
      "INFO:tensorflow:Assets written to: ckpt/Varying Blocks Per Residual Layers\\Three Blocks Per Layer\\assets\n"
     ]
    },
    {
     "name": "stdout",
     "output_type": "stream",
     "text": [
      "625/625 [==============================] - 16s 25ms/step - loss: 0.5203 - accuracy: 0.8186 - val_loss: 0.9755 - val_accuracy: 0.7081\n",
      "Epoch 11/30\n",
      "625/625 [==============================] - 12s 20ms/step - loss: 0.4538 - accuracy: 0.8414 - val_loss: 0.9610 - val_accuracy: 0.6960\n",
      "Epoch 12/30\n",
      "625/625 [==============================] - 12s 19ms/step - loss: 0.3961 - accuracy: 0.8618 - val_loss: 1.0012 - val_accuracy: 0.6897\n",
      "Epoch 13/30\n",
      "625/625 [==============================] - 12s 19ms/step - loss: 0.3359 - accuracy: 0.8843 - val_loss: 1.1718 - val_accuracy: 0.6598\n",
      "Epoch 14/30\n",
      "625/625 [==============================] - ETA: 0s - loss: 0.2826 - accuracy: 0.9043"
     ]
    },
    {
     "name": "stderr",
     "output_type": "stream",
     "text": [
      "WARNING:absl:Found untraced functions such as _jit_compiled_convolution_op, _jit_compiled_convolution_op, _jit_compiled_convolution_op, _jit_compiled_convolution_op, _jit_compiled_convolution_op while saving (showing 5 of 14). These functions will not be directly callable after loading.\n"
     ]
    },
    {
     "name": "stdout",
     "output_type": "stream",
     "text": [
      "INFO:tensorflow:Assets written to: ckpt/Varying Blocks Per Residual Layers\\Three Blocks Per Layer\\assets\n"
     ]
    },
    {
     "name": "stderr",
     "output_type": "stream",
     "text": [
      "INFO:tensorflow:Assets written to: ckpt/Varying Blocks Per Residual Layers\\Three Blocks Per Layer\\assets\n"
     ]
    },
    {
     "name": "stdout",
     "output_type": "stream",
     "text": [
      "625/625 [==============================] - 16s 25ms/step - loss: 0.2826 - accuracy: 0.9043 - val_loss: 0.9183 - val_accuracy: 0.7189\n",
      "Epoch 15/30\n",
      "625/625 [==============================] - 13s 21ms/step - loss: 0.2345 - accuracy: 0.9230 - val_loss: 1.1084 - val_accuracy: 0.6880\n",
      "Epoch 16/30\n",
      "625/625 [==============================] - 12s 20ms/step - loss: 0.1851 - accuracy: 0.9417 - val_loss: 1.0435 - val_accuracy: 0.7074\n",
      "Epoch 17/30\n",
      "625/625 [==============================] - 12s 20ms/step - loss: 0.1358 - accuracy: 0.9613 - val_loss: 1.0777 - val_accuracy: 0.7044\n",
      "Epoch 18/30\n",
      "624/625 [============================>.] - ETA: 0s - loss: 0.0996 - accuracy: 0.9745"
     ]
    },
    {
     "name": "stderr",
     "output_type": "stream",
     "text": [
      "WARNING:absl:Found untraced functions such as _jit_compiled_convolution_op, _jit_compiled_convolution_op, _jit_compiled_convolution_op, _jit_compiled_convolution_op, _jit_compiled_convolution_op while saving (showing 5 of 14). These functions will not be directly callable after loading.\n"
     ]
    },
    {
     "name": "stdout",
     "output_type": "stream",
     "text": [
      "INFO:tensorflow:Assets written to: ckpt/Varying Blocks Per Residual Layers\\Three Blocks Per Layer\\assets\n"
     ]
    },
    {
     "name": "stderr",
     "output_type": "stream",
     "text": [
      "INFO:tensorflow:Assets written to: ckpt/Varying Blocks Per Residual Layers\\Three Blocks Per Layer\\assets\n"
     ]
    },
    {
     "name": "stdout",
     "output_type": "stream",
     "text": [
      "625/625 [==============================] - 16s 26ms/step - loss: 0.0997 - accuracy: 0.9745 - val_loss: 1.0163 - val_accuracy: 0.7241\n",
      "Epoch 19/30\n",
      "624/625 [============================>.] - ETA: 0s - loss: 0.0675 - accuracy: 0.9878"
     ]
    },
    {
     "name": "stderr",
     "output_type": "stream",
     "text": [
      "WARNING:absl:Found untraced functions such as _jit_compiled_convolution_op, _jit_compiled_convolution_op, _jit_compiled_convolution_op, _jit_compiled_convolution_op, _jit_compiled_convolution_op while saving (showing 5 of 14). These functions will not be directly callable after loading.\n"
     ]
    },
    {
     "name": "stdout",
     "output_type": "stream",
     "text": [
      "INFO:tensorflow:Assets written to: ckpt/Varying Blocks Per Residual Layers\\Three Blocks Per Layer\\assets\n"
     ]
    },
    {
     "name": "stderr",
     "output_type": "stream",
     "text": [
      "INFO:tensorflow:Assets written to: ckpt/Varying Blocks Per Residual Layers\\Three Blocks Per Layer\\assets\n"
     ]
    },
    {
     "name": "stdout",
     "output_type": "stream",
     "text": [
      "625/625 [==============================] - 17s 26ms/step - loss: 0.0675 - accuracy: 0.9879 - val_loss: 0.9786 - val_accuracy: 0.7368\n",
      "Epoch 20/30\n",
      "623/625 [============================>.] - ETA: 0s - loss: 0.0490 - accuracy: 0.9929"
     ]
    },
    {
     "name": "stderr",
     "output_type": "stream",
     "text": [
      "WARNING:absl:Found untraced functions such as _jit_compiled_convolution_op, _jit_compiled_convolution_op, _jit_compiled_convolution_op, _jit_compiled_convolution_op, _jit_compiled_convolution_op while saving (showing 5 of 14). These functions will not be directly callable after loading.\n"
     ]
    },
    {
     "name": "stdout",
     "output_type": "stream",
     "text": [
      "INFO:tensorflow:Assets written to: ckpt/Varying Blocks Per Residual Layers\\Three Blocks Per Layer\\assets\n"
     ]
    },
    {
     "name": "stderr",
     "output_type": "stream",
     "text": [
      "INFO:tensorflow:Assets written to: ckpt/Varying Blocks Per Residual Layers\\Three Blocks Per Layer\\assets\n"
     ]
    },
    {
     "name": "stdout",
     "output_type": "stream",
     "text": [
      "625/625 [==============================] - 17s 27ms/step - loss: 0.0490 - accuracy: 0.9929 - val_loss: 1.0008 - val_accuracy: 0.7398\n",
      "Epoch 21/30\n",
      "625/625 [==============================] - ETA: 0s - loss: 0.0374 - accuracy: 0.9963"
     ]
    },
    {
     "name": "stderr",
     "output_type": "stream",
     "text": [
      "WARNING:absl:Found untraced functions such as _jit_compiled_convolution_op, _jit_compiled_convolution_op, _jit_compiled_convolution_op, _jit_compiled_convolution_op, _jit_compiled_convolution_op while saving (showing 5 of 14). These functions will not be directly callable after loading.\n"
     ]
    },
    {
     "name": "stdout",
     "output_type": "stream",
     "text": [
      "INFO:tensorflow:Assets written to: ckpt/Varying Blocks Per Residual Layers\\Three Blocks Per Layer\\assets\n"
     ]
    },
    {
     "name": "stderr",
     "output_type": "stream",
     "text": [
      "INFO:tensorflow:Assets written to: ckpt/Varying Blocks Per Residual Layers\\Three Blocks Per Layer\\assets\n"
     ]
    },
    {
     "name": "stdout",
     "output_type": "stream",
     "text": [
      "625/625 [==============================] - 16s 25ms/step - loss: 0.0374 - accuracy: 0.9963 - val_loss: 0.9943 - val_accuracy: 0.7461\n",
      "Epoch 22/30\n",
      "625/625 [==============================] - 13s 20ms/step - loss: 0.0266 - accuracy: 0.9983 - val_loss: 1.0378 - val_accuracy: 0.7414\n",
      "Epoch 23/30\n",
      "623/625 [============================>.] - ETA: 0s - loss: 0.0219 - accuracy: 0.9990"
     ]
    },
    {
     "name": "stderr",
     "output_type": "stream",
     "text": [
      "WARNING:absl:Found untraced functions such as _jit_compiled_convolution_op, _jit_compiled_convolution_op, _jit_compiled_convolution_op, _jit_compiled_convolution_op, _jit_compiled_convolution_op while saving (showing 5 of 14). These functions will not be directly callable after loading.\n"
     ]
    },
    {
     "name": "stdout",
     "output_type": "stream",
     "text": [
      "INFO:tensorflow:Assets written to: ckpt/Varying Blocks Per Residual Layers\\Three Blocks Per Layer\\assets\n"
     ]
    },
    {
     "name": "stderr",
     "output_type": "stream",
     "text": [
      "INFO:tensorflow:Assets written to: ckpt/Varying Blocks Per Residual Layers\\Three Blocks Per Layer\\assets\n"
     ]
    },
    {
     "name": "stdout",
     "output_type": "stream",
     "text": [
      "625/625 [==============================] - 16s 26ms/step - loss: 0.0219 - accuracy: 0.9990 - val_loss: 0.9891 - val_accuracy: 0.7534\n",
      "Epoch 24/30\n",
      "625/625 [==============================] - 13s 20ms/step - loss: 0.0169 - accuracy: 0.9995 - val_loss: 1.0514 - val_accuracy: 0.7506\n",
      "Epoch 25/30\n",
      "624/625 [============================>.] - ETA: 0s - loss: 0.0149 - accuracy: 0.9997"
     ]
    },
    {
     "name": "stderr",
     "output_type": "stream",
     "text": [
      "WARNING:absl:Found untraced functions such as _jit_compiled_convolution_op, _jit_compiled_convolution_op, _jit_compiled_convolution_op, _jit_compiled_convolution_op, _jit_compiled_convolution_op while saving (showing 5 of 14). These functions will not be directly callable after loading.\n"
     ]
    },
    {
     "name": "stdout",
     "output_type": "stream",
     "text": [
      "INFO:tensorflow:Assets written to: ckpt/Varying Blocks Per Residual Layers\\Three Blocks Per Layer\\assets\n"
     ]
    },
    {
     "name": "stderr",
     "output_type": "stream",
     "text": [
      "INFO:tensorflow:Assets written to: ckpt/Varying Blocks Per Residual Layers\\Three Blocks Per Layer\\assets\n"
     ]
    },
    {
     "name": "stdout",
     "output_type": "stream",
     "text": [
      "625/625 [==============================] - 16s 26ms/step - loss: 0.0149 - accuracy: 0.9998 - val_loss: 0.9901 - val_accuracy: 0.7599\n",
      "Epoch 26/30\n",
      "625/625 [==============================] - 13s 21ms/step - loss: 0.0133 - accuracy: 0.9996 - val_loss: 1.0207 - val_accuracy: 0.7591\n",
      "Epoch 27/30\n",
      "625/625 [==============================] - 13s 20ms/step - loss: 0.0110 - accuracy: 0.9998 - val_loss: 1.0122 - val_accuracy: 0.7574\n",
      "Epoch 28/30\n",
      "625/625 [==============================] - ETA: 0s - loss: 0.0098 - accuracy: 0.9999"
     ]
    },
    {
     "name": "stderr",
     "output_type": "stream",
     "text": [
      "WARNING:absl:Found untraced functions such as _jit_compiled_convolution_op, _jit_compiled_convolution_op, _jit_compiled_convolution_op, _jit_compiled_convolution_op, _jit_compiled_convolution_op while saving (showing 5 of 14). These functions will not be directly callable after loading.\n"
     ]
    },
    {
     "name": "stdout",
     "output_type": "stream",
     "text": [
      "INFO:tensorflow:Assets written to: ckpt/Varying Blocks Per Residual Layers\\Three Blocks Per Layer\\assets\n"
     ]
    },
    {
     "name": "stderr",
     "output_type": "stream",
     "text": [
      "INFO:tensorflow:Assets written to: ckpt/Varying Blocks Per Residual Layers\\Three Blocks Per Layer\\assets\n"
     ]
    },
    {
     "name": "stdout",
     "output_type": "stream",
     "text": [
      "625/625 [==============================] - 15s 24ms/step - loss: 0.0098 - accuracy: 0.9999 - val_loss: 1.0043 - val_accuracy: 0.7654\n",
      "Epoch 29/30\n",
      "625/625 [==============================] - 13s 21ms/step - loss: 0.0088 - accuracy: 0.9999 - val_loss: 1.0250 - val_accuracy: 0.7549\n",
      "Epoch 30/30\n",
      "625/625 [==============================] - 12s 20ms/step - loss: 0.0077 - accuracy: 0.9999 - val_loss: 1.0283 - val_accuracy: 0.7630\n",
      "Epoch 1/30\n",
      "623/625 [============================>.] - ETA: 0s - loss: 2.3534 - accuracy: 0.3912"
     ]
    },
    {
     "name": "stderr",
     "output_type": "stream",
     "text": [
      "WARNING:absl:Found untraced functions such as _jit_compiled_convolution_op, _jit_compiled_convolution_op, _jit_compiled_convolution_op, _jit_compiled_convolution_op, _jit_compiled_convolution_op while saving (showing 5 of 18). These functions will not be directly callable after loading.\n"
     ]
    },
    {
     "name": "stdout",
     "output_type": "stream",
     "text": [
      "INFO:tensorflow:Assets written to: ckpt/Varying Blocks Per Residual Layers\\Four Blocks Per Layer\\assets\n"
     ]
    },
    {
     "name": "stderr",
     "output_type": "stream",
     "text": [
      "INFO:tensorflow:Assets written to: ckpt/Varying Blocks Per Residual Layers\\Four Blocks Per Layer\\assets\n"
     ]
    },
    {
     "name": "stdout",
     "output_type": "stream",
     "text": [
      "625/625 [==============================] - 21s 32ms/step - loss: 2.3506 - accuracy: 0.3914 - val_loss: 1.4414 - val_accuracy: 0.4926\n",
      "Epoch 2/30\n",
      "624/625 [============================>.] - ETA: 0s - loss: 1.2792 - accuracy: 0.5457"
     ]
    },
    {
     "name": "stderr",
     "output_type": "stream",
     "text": [
      "WARNING:absl:Found untraced functions such as _jit_compiled_convolution_op, _jit_compiled_convolution_op, _jit_compiled_convolution_op, _jit_compiled_convolution_op, _jit_compiled_convolution_op while saving (showing 5 of 18). These functions will not be directly callable after loading.\n"
     ]
    },
    {
     "name": "stdout",
     "output_type": "stream",
     "text": [
      "INFO:tensorflow:Assets written to: ckpt/Varying Blocks Per Residual Layers\\Four Blocks Per Layer\\assets\n"
     ]
    },
    {
     "name": "stderr",
     "output_type": "stream",
     "text": [
      "INFO:tensorflow:Assets written to: ckpt/Varying Blocks Per Residual Layers\\Four Blocks Per Layer\\assets\n"
     ]
    },
    {
     "name": "stdout",
     "output_type": "stream",
     "text": [
      "625/625 [==============================] - 21s 33ms/step - loss: 1.2792 - accuracy: 0.5458 - val_loss: 1.2235 - val_accuracy: 0.5599\n",
      "Epoch 3/30\n",
      "624/625 [============================>.] - ETA: 0s - loss: 1.1018 - accuracy: 0.6068"
     ]
    },
    {
     "name": "stderr",
     "output_type": "stream",
     "text": [
      "WARNING:absl:Found untraced functions such as _jit_compiled_convolution_op, _jit_compiled_convolution_op, _jit_compiled_convolution_op, _jit_compiled_convolution_op, _jit_compiled_convolution_op while saving (showing 5 of 18). These functions will not be directly callable after loading.\n"
     ]
    },
    {
     "name": "stdout",
     "output_type": "stream",
     "text": [
      "INFO:tensorflow:Assets written to: ckpt/Varying Blocks Per Residual Layers\\Four Blocks Per Layer\\assets\n"
     ]
    },
    {
     "name": "stderr",
     "output_type": "stream",
     "text": [
      "INFO:tensorflow:Assets written to: ckpt/Varying Blocks Per Residual Layers\\Four Blocks Per Layer\\assets\n"
     ]
    },
    {
     "name": "stdout",
     "output_type": "stream",
     "text": [
      "625/625 [==============================] - 21s 33ms/step - loss: 1.1015 - accuracy: 0.6069 - val_loss: 1.1953 - val_accuracy: 0.5776\n",
      "Epoch 4/30\n",
      "624/625 [============================>.] - ETA: 0s - loss: 0.9737 - accuracy: 0.6563"
     ]
    },
    {
     "name": "stderr",
     "output_type": "stream",
     "text": [
      "WARNING:absl:Found untraced functions such as _jit_compiled_convolution_op, _jit_compiled_convolution_op, _jit_compiled_convolution_op, _jit_compiled_convolution_op, _jit_compiled_convolution_op while saving (showing 5 of 18). These functions will not be directly callable after loading.\n"
     ]
    },
    {
     "name": "stdout",
     "output_type": "stream",
     "text": [
      "INFO:tensorflow:Assets written to: ckpt/Varying Blocks Per Residual Layers\\Four Blocks Per Layer\\assets\n"
     ]
    },
    {
     "name": "stderr",
     "output_type": "stream",
     "text": [
      "INFO:tensorflow:Assets written to: ckpt/Varying Blocks Per Residual Layers\\Four Blocks Per Layer\\assets\n"
     ]
    },
    {
     "name": "stdout",
     "output_type": "stream",
     "text": [
      "625/625 [==============================] - 21s 33ms/step - loss: 0.9734 - accuracy: 0.6565 - val_loss: 0.9982 - val_accuracy: 0.6448\n",
      "Epoch 5/30\n",
      "625/625 [==============================] - ETA: 0s - loss: 0.8642 - accuracy: 0.6951"
     ]
    },
    {
     "name": "stderr",
     "output_type": "stream",
     "text": [
      "WARNING:absl:Found untraced functions such as _jit_compiled_convolution_op, _jit_compiled_convolution_op, _jit_compiled_convolution_op, _jit_compiled_convolution_op, _jit_compiled_convolution_op while saving (showing 5 of 18). These functions will not be directly callable after loading.\n"
     ]
    },
    {
     "name": "stdout",
     "output_type": "stream",
     "text": [
      "INFO:tensorflow:Assets written to: ckpt/Varying Blocks Per Residual Layers\\Four Blocks Per Layer\\assets\n"
     ]
    },
    {
     "name": "stderr",
     "output_type": "stream",
     "text": [
      "INFO:tensorflow:Assets written to: ckpt/Varying Blocks Per Residual Layers\\Four Blocks Per Layer\\assets\n"
     ]
    },
    {
     "name": "stdout",
     "output_type": "stream",
     "text": [
      "625/625 [==============================] - 21s 33ms/step - loss: 0.8642 - accuracy: 0.6951 - val_loss: 0.9580 - val_accuracy: 0.6623\n",
      "Epoch 6/30\n",
      "625/625 [==============================] - ETA: 0s - loss: 0.7710 - accuracy: 0.7276"
     ]
    },
    {
     "name": "stderr",
     "output_type": "stream",
     "text": [
      "WARNING:absl:Found untraced functions such as _jit_compiled_convolution_op, _jit_compiled_convolution_op, _jit_compiled_convolution_op, _jit_compiled_convolution_op, _jit_compiled_convolution_op while saving (showing 5 of 18). These functions will not be directly callable after loading.\n"
     ]
    },
    {
     "name": "stdout",
     "output_type": "stream",
     "text": [
      "INFO:tensorflow:Assets written to: ckpt/Varying Blocks Per Residual Layers\\Four Blocks Per Layer\\assets\n"
     ]
    },
    {
     "name": "stderr",
     "output_type": "stream",
     "text": [
      "INFO:tensorflow:Assets written to: ckpt/Varying Blocks Per Residual Layers\\Four Blocks Per Layer\\assets\n"
     ]
    },
    {
     "name": "stdout",
     "output_type": "stream",
     "text": [
      "625/625 [==============================] - 21s 34ms/step - loss: 0.7710 - accuracy: 0.7276 - val_loss: 0.8859 - val_accuracy: 0.6855\n",
      "Epoch 7/30\n",
      "623/625 [============================>.] - ETA: 0s - loss: 0.6952 - accuracy: 0.7574"
     ]
    },
    {
     "name": "stderr",
     "output_type": "stream",
     "text": [
      "WARNING:absl:Found untraced functions such as _jit_compiled_convolution_op, _jit_compiled_convolution_op, _jit_compiled_convolution_op, _jit_compiled_convolution_op, _jit_compiled_convolution_op while saving (showing 5 of 18). These functions will not be directly callable after loading.\n"
     ]
    },
    {
     "name": "stdout",
     "output_type": "stream",
     "text": [
      "INFO:tensorflow:Assets written to: ckpt/Varying Blocks Per Residual Layers\\Four Blocks Per Layer\\assets\n"
     ]
    },
    {
     "name": "stderr",
     "output_type": "stream",
     "text": [
      "INFO:tensorflow:Assets written to: ckpt/Varying Blocks Per Residual Layers\\Four Blocks Per Layer\\assets\n"
     ]
    },
    {
     "name": "stdout",
     "output_type": "stream",
     "text": [
      "625/625 [==============================] - 21s 33ms/step - loss: 0.6953 - accuracy: 0.7574 - val_loss: 0.8675 - val_accuracy: 0.7007\n",
      "Epoch 8/30\n",
      "623/625 [============================>.] - ETA: 0s - loss: 0.6293 - accuracy: 0.7830"
     ]
    },
    {
     "name": "stderr",
     "output_type": "stream",
     "text": [
      "WARNING:absl:Found untraced functions such as _jit_compiled_convolution_op, _jit_compiled_convolution_op, _jit_compiled_convolution_op, _jit_compiled_convolution_op, _jit_compiled_convolution_op while saving (showing 5 of 18). These functions will not be directly callable after loading.\n"
     ]
    },
    {
     "name": "stdout",
     "output_type": "stream",
     "text": [
      "INFO:tensorflow:Assets written to: ckpt/Varying Blocks Per Residual Layers\\Four Blocks Per Layer\\assets\n"
     ]
    },
    {
     "name": "stderr",
     "output_type": "stream",
     "text": [
      "INFO:tensorflow:Assets written to: ckpt/Varying Blocks Per Residual Layers\\Four Blocks Per Layer\\assets\n"
     ]
    },
    {
     "name": "stdout",
     "output_type": "stream",
     "text": [
      "625/625 [==============================] - 21s 33ms/step - loss: 0.6289 - accuracy: 0.7831 - val_loss: 0.8417 - val_accuracy: 0.7147\n",
      "Epoch 9/30\n",
      "625/625 [==============================] - 17s 26ms/step - loss: 0.5629 - accuracy: 0.8044 - val_loss: 0.9309 - val_accuracy: 0.6922\n",
      "Epoch 10/30\n",
      "625/625 [==============================] - 16s 25ms/step - loss: 0.5070 - accuracy: 0.8218 - val_loss: 0.8591 - val_accuracy: 0.7136\n",
      "Epoch 11/30\n",
      "625/625 [==============================] - 16s 25ms/step - loss: 0.4493 - accuracy: 0.8416 - val_loss: 0.9483 - val_accuracy: 0.7065\n",
      "Epoch 12/30\n",
      "625/625 [==============================] - ETA: 0s - loss: 0.3949 - accuracy: 0.8630"
     ]
    },
    {
     "name": "stderr",
     "output_type": "stream",
     "text": [
      "WARNING:absl:Found untraced functions such as _jit_compiled_convolution_op, _jit_compiled_convolution_op, _jit_compiled_convolution_op, _jit_compiled_convolution_op, _jit_compiled_convolution_op while saving (showing 5 of 18). These functions will not be directly callable after loading.\n"
     ]
    },
    {
     "name": "stdout",
     "output_type": "stream",
     "text": [
      "INFO:tensorflow:Assets written to: ckpt/Varying Blocks Per Residual Layers\\Four Blocks Per Layer\\assets\n"
     ]
    },
    {
     "name": "stderr",
     "output_type": "stream",
     "text": [
      "INFO:tensorflow:Assets written to: ckpt/Varying Blocks Per Residual Layers\\Four Blocks Per Layer\\assets\n"
     ]
    },
    {
     "name": "stdout",
     "output_type": "stream",
     "text": [
      "625/625 [==============================] - 20s 32ms/step - loss: 0.3949 - accuracy: 0.8630 - val_loss: 0.8324 - val_accuracy: 0.7410\n",
      "Epoch 13/30\n",
      "625/625 [==============================] - 16s 26ms/step - loss: 0.3389 - accuracy: 0.8816 - val_loss: 0.8591 - val_accuracy: 0.7315\n",
      "Epoch 14/30\n",
      "625/625 [==============================] - 16s 26ms/step - loss: 0.2824 - accuracy: 0.9033 - val_loss: 1.1728 - val_accuracy: 0.6866\n",
      "Epoch 15/30\n",
      "625/625 [==============================] - 17s 27ms/step - loss: 0.2347 - accuracy: 0.9203 - val_loss: 0.9254 - val_accuracy: 0.7283\n",
      "Epoch 16/30\n",
      "625/625 [==============================] - 16s 26ms/step - loss: 0.1879 - accuracy: 0.9384 - val_loss: 0.9149 - val_accuracy: 0.7397\n",
      "Epoch 17/30\n",
      "625/625 [==============================] - 16s 25ms/step - loss: 0.1436 - accuracy: 0.9556 - val_loss: 1.0337 - val_accuracy: 0.7265\n",
      "Epoch 18/30\n",
      "625/625 [==============================] - 16s 25ms/step - loss: 0.1109 - accuracy: 0.9674 - val_loss: 1.0028 - val_accuracy: 0.7352\n",
      "Epoch 19/30\n",
      "625/625 [==============================] - 16s 25ms/step - loss: 0.0755 - accuracy: 0.9818 - val_loss: 1.0245 - val_accuracy: 0.7387\n",
      "Epoch 20/30\n",
      "625/625 [==============================] - ETA: 0s - loss: 0.0576 - accuracy: 0.9879"
     ]
    },
    {
     "name": "stderr",
     "output_type": "stream",
     "text": [
      "WARNING:absl:Found untraced functions such as _jit_compiled_convolution_op, _jit_compiled_convolution_op, _jit_compiled_convolution_op, _jit_compiled_convolution_op, _jit_compiled_convolution_op while saving (showing 5 of 18). These functions will not be directly callable after loading.\n"
     ]
    },
    {
     "name": "stdout",
     "output_type": "stream",
     "text": [
      "INFO:tensorflow:Assets written to: ckpt/Varying Blocks Per Residual Layers\\Four Blocks Per Layer\\assets\n"
     ]
    },
    {
     "name": "stderr",
     "output_type": "stream",
     "text": [
      "INFO:tensorflow:Assets written to: ckpt/Varying Blocks Per Residual Layers\\Four Blocks Per Layer\\assets\n"
     ]
    },
    {
     "name": "stdout",
     "output_type": "stream",
     "text": [
      "625/625 [==============================] - 20s 32ms/step - loss: 0.0576 - accuracy: 0.9879 - val_loss: 1.0705 - val_accuracy: 0.7443\n",
      "Epoch 21/30\n",
      "625/625 [==============================] - 17s 27ms/step - loss: 0.0401 - accuracy: 0.9933 - val_loss: 1.0718 - val_accuracy: 0.7367\n",
      "Epoch 22/30\n",
      "624/625 [============================>.] - ETA: 0s - loss: 0.0268 - accuracy: 0.9971"
     ]
    },
    {
     "name": "stderr",
     "output_type": "stream",
     "text": [
      "WARNING:absl:Found untraced functions such as _jit_compiled_convolution_op, _jit_compiled_convolution_op, _jit_compiled_convolution_op, _jit_compiled_convolution_op, _jit_compiled_convolution_op while saving (showing 5 of 18). These functions will not be directly callable after loading.\n"
     ]
    },
    {
     "name": "stdout",
     "output_type": "stream",
     "text": [
      "INFO:tensorflow:Assets written to: ckpt/Varying Blocks Per Residual Layers\\Four Blocks Per Layer\\assets\n"
     ]
    },
    {
     "name": "stderr",
     "output_type": "stream",
     "text": [
      "INFO:tensorflow:Assets written to: ckpt/Varying Blocks Per Residual Layers\\Four Blocks Per Layer\\assets\n"
     ]
    },
    {
     "name": "stdout",
     "output_type": "stream",
     "text": [
      "625/625 [==============================] - 20s 32ms/step - loss: 0.0268 - accuracy: 0.9971 - val_loss: 0.9534 - val_accuracy: 0.7678\n",
      "Epoch 23/30\n",
      "625/625 [==============================] - 16s 25ms/step - loss: 0.0220 - accuracy: 0.9979 - val_loss: 1.0531 - val_accuracy: 0.7559\n",
      "Epoch 24/30\n",
      "625/625 [==============================] - 16s 25ms/step - loss: 0.0181 - accuracy: 0.9984 - val_loss: 1.0686 - val_accuracy: 0.7561\n",
      "Epoch 25/30\n",
      "625/625 [==============================] - ETA: 0s - loss: 0.0129 - accuracy: 0.9992"
     ]
    },
    {
     "name": "stderr",
     "output_type": "stream",
     "text": [
      "WARNING:absl:Found untraced functions such as _jit_compiled_convolution_op, _jit_compiled_convolution_op, _jit_compiled_convolution_op, _jit_compiled_convolution_op, _jit_compiled_convolution_op while saving (showing 5 of 18). These functions will not be directly callable after loading.\n"
     ]
    },
    {
     "name": "stdout",
     "output_type": "stream",
     "text": [
      "INFO:tensorflow:Assets written to: ckpt/Varying Blocks Per Residual Layers\\Four Blocks Per Layer\\assets\n"
     ]
    },
    {
     "name": "stderr",
     "output_type": "stream",
     "text": [
      "INFO:tensorflow:Assets written to: ckpt/Varying Blocks Per Residual Layers\\Four Blocks Per Layer\\assets\n"
     ]
    },
    {
     "name": "stdout",
     "output_type": "stream",
     "text": [
      "625/625 [==============================] - 20s 32ms/step - loss: 0.0129 - accuracy: 0.9992 - val_loss: 0.9791 - val_accuracy: 0.7745\n",
      "Epoch 26/30\n",
      "625/625 [==============================] - 16s 25ms/step - loss: 0.0110 - accuracy: 0.9997 - val_loss: 1.0004 - val_accuracy: 0.7699\n",
      "Epoch 27/30\n",
      "625/625 [==============================] - 16s 25ms/step - loss: 0.0082 - accuracy: 0.9998 - val_loss: 1.0105 - val_accuracy: 0.7683\n",
      "Epoch 28/30\n",
      "625/625 [==============================] - 16s 25ms/step - loss: 0.0073 - accuracy: 0.9999 - val_loss: 0.9974 - val_accuracy: 0.7726\n",
      "Epoch 29/30\n",
      "507/625 [=======================>......] - ETA: 2s - loss: 0.0065 - accuracy: 0.9998"
     ]
    }
   ],
   "source": [
    "# Augmenting on the fly with datagen.flow()\n",
    "batch_size=64\n",
    "epochs=30\n",
    "\n",
    "# For running multiple networks at the same time, create dictionary to store history values and lists to store all other info\n",
    "histories = {}\n",
    "keys = [param_1, param_2, param_3, param_4] #\n",
    "models = [resnet_model_1, resnet_model_2, resnet_model_3, resnet_model_4] #\n",
    "checkpoints = [model_checkpoint_callback_1, model_checkpoint_callback_2, model_checkpoint_callback_3, model_checkpoint_callback_4] #\n",
    "# Explain whats happening here!!!\n",
    "for i in range(len(models)):\n",
    "# Directly use .flow() to load our dataset in batches for training\n",
    "    histories[keys[i]] = models[i].fit(datagen.flow(X_train, Y_train, batch_size=batch_size), \n",
    "                                    epochs = epochs, # set number of epochs\n",
    "                                    steps_per_epoch = X_train.shape[0]//batch_size, # number of images composing one epoch\n",
    "                                    validation_data = (X_val, Y_val), # data for validation\n",
    "                                    callbacks=[checkpoints[i]], # model checkpoint\n",
    "                                    verbose=1)"
   ]
  },
  {
   "cell_type": "code",
   "execution_count": null,
   "id": "20c1c13c-94ec-4db0-bd63-d9fab2a944a5",
   "metadata": {},
   "outputs": [],
   "source": [
    "# resnet_history = resnet_model.fit(X_train, Y_train, batch_size=64, epochs=10, verbose=1, validation_data=(X_val, Y_val))\n"
   ]
  },
  {
   "cell_type": "code",
   "execution_count": null,
   "id": "d57c86c0-89d5-4354-bf65-b85ab9afc86e",
   "metadata": {},
   "outputs": [
    {
     "data": {
      "image/png": "[encoded data removed]",
      "text/plain": [
       "<Figure size 640x480 with 1 Axes>"
      ]
     },
     "metadata": {},
     "output_type": "display_data"
    },
    {
     "data": {
      "image/png": "[encoded data removed]",
      "text/plain": [
       "<Figure size 640x480 with 1 Axes>"
      ]
     },
     "metadata": {},
     "output_type": "display_data"
    }
   ],
   "source": [
    "# Plot accuracy and loss\n",
    "# accuracy_title = title + ' Accuracy'\n",
    "# loss_title = title + ' Loss'\n",
    "# plot_accuracy(resnet_history, accuracy_title)\n",
    "# plot_loss(resnet_history, loss_title)\n",
    "\n",
    "# Plot all models' accuracies and losses on the same graph:\n",
    "plot_multiple_accuracies(histories, title)\n",
    "plot_multiple_losses(histories, title)"
   ]
  },
  {
   "cell_type": "code",
   "execution_count": null,
   "id": "f7c1672b-ff0f-4d37-a851-99c4ebca920e",
   "metadata": {},
   "outputs": [],
   "source": [
    "# Load the model with the maximum validation accuracy from checkpoint on disk\n",
    "test_model_1 = tf.keras.models.load_model(checkpoint_filepath_1)\n",
    "test_model_2 = tf.keras.models.load_model(checkpoint_filepath_2)\n",
    "test_model_3 = tf.keras.models.load_model(checkpoint_filepath_3)\n",
    "test_model_4 = tf.keras.models.load_model(checkpoint_filepath_4)"
   ]
  },
  {
   "cell_type": "code",
   "execution_count": null,
   "id": "b75da5b5",
   "metadata": {},
   "outputs": [
    {
     "name": "stdout",
     "output_type": "stream",
     "text": [
      "Varying Residual Layers:\n",
      "Test Accuracy: 72.08%\n",
      "Test Accuracy: 74.18%\n",
      "Test Accuracy: 75.70%\n"
     ]
    }
   ],
   "source": [
    "# Evaluate test set using best version of each model and save outputs to a file\n",
    "print(title + ':')\n",
    "accuracy_list = []\n",
    "for i in range(len(models)):\n",
    "    accuracy_list.append(evaluate_model(models[i], X_test, Y_test))\n",
    "\n",
    "with open(\"Test_Accuracy.txt\", 'a') as file:\n",
    "    file_title = title + ':\\n'\n",
    "    file.write(file_title)\n",
    "    for i in range(len(accuracy_list)):\n",
    "        acc_string = str(keys[i]) + '\\t' + str(accuracy_list[i]) + '\\n'\n",
    "        file.write(acc_string)\n",
    "    file.write('\\n')"
   ]
  },
  {
   "cell_type": "code",
   "execution_count": null,
   "id": "39d3d353-8e23-4514-95f8-93656db323d0",
   "metadata": {},
   "outputs": [],
   "source": [
    "from playsound import playsound\n",
    "playsound(\"GOT TO GO.mp3\")\n",
    "playsound(\"GOT TO GO.mp3\")\n",
    "playsound(\"GOT TO GO.mp3\")"
   ]
  },
  {
   "cell_type": "code",
   "execution_count": null,
   "id": "6c96f168",
   "metadata": {},
   "outputs": [],
   "source": [
    "# Extra setup for loading specific models and evaluating\n",
    "# test_model = tf.keras.models.load_model(\"ckpt\\Baseline ResNet Model\\Baseline\")\n",
    "# evaluate_model(test_model, X_test, Y_test)"
   ]
  }
 ],
 "metadata": {
  "kernelspec": {
   "display_name": "Python 3 (ipykernel)",
   "language": "python",
   "name": "python3"
  },
  "language_info": {
   "codemirror_mode": {
    "name": "ipython",
    "version": 3
   },
   "file_extension": ".py",
   "mimetype": "text/x-python",
   "name": "python",
   "nbconvert_exporter": "python",
   "pygments_lexer": "ipython3",
   "version": "3.9.19"
  }
 },
 "nbformat": 4,
 "nbformat_minor": 5
}
