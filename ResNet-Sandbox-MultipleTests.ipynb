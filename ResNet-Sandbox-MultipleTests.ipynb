{
 "cells": [
  {
   "cell_type": "code",
   "execution_count": 178,
   "id": "b81209df-79ac-426a-8419-a29c2bd1baa6",
   "metadata": {},
   "outputs": [],
   "source": [
    "# # QC tensorflow installation\n",
    "# import tensorflow as tf\n",
    "# import keras\n",
    "# print(tf.__version__)\n",
    "# print(keras.__version__)\n",
    "\n",
    "# Command Space\n",
    "# %"
   ]
  },
  {
   "cell_type": "markdown",
   "id": "7dac8b42-d252-4718-af26-0c9c3b436a75",
   "metadata": {},
   "source": [
    "## Import Libraries"
   ]
  },
  {
   "cell_type": "code",
   "execution_count": 179,
   "id": "361e577f-7ec1-46cf-b375-9140a936f494",
   "metadata": {},
   "outputs": [],
   "source": [
    "# Import required libraries\n",
    "import numpy as np\n",
    "import tensorflow as tf\n",
    "# from tensorflow.keras.datasets import cifar10\n",
    "from tensorflow.keras.utils import to_categorical\n",
    "import os"
   ]
  },
  {
   "cell_type": "markdown",
   "id": "adaf2235-c57c-43bd-90ec-f7e5b761d31f",
   "metadata": {},
   "source": [
    "## Load CIFAR-10 Dataset"
   ]
  },
  {
   "cell_type": "markdown",
   "id": "a097b531-e0bf-47b4-9095-4db98a8b1bc4",
   "metadata": {},
   "source": [
    "We load the CIFAR-10 dataset, perform some preprocessing like normalization and one hot encoding of labels/targets."
   ]
  },
  {
   "cell_type": "code",
   "execution_count": 180,
   "id": "f5cf2a0e-283f-4cb9-ac73-1a70c2a4c460",
   "metadata": {},
   "outputs": [],
   "source": [
    "import numpy as np\n",
    "import os\n",
    "\n",
    "def unpickle(file):\n",
    "    import pickle\n",
    "    with open(file, 'rb') as fo:\n",
    "        dict = pickle.load(fo, encoding='bytes')\n",
    "    return dict\n",
    "\n",
    "def load_cifar10_train_test(data_dir):\n",
    "    \"\"\"\n",
    "    Function to load CIFAR-10 training and test data.\n",
    "\n",
    "    Args:\n",
    "    data_dir (str): Path to the directory containing CIFAR-10 data files.\n",
    "\n",
    "    Returns:\n",
    "    X_train (ndarray): Training data features\n",
    "    Y_train (ndarray): Training data labels\n",
    "    X_test (ndarray): Test data features\n",
    "    Y_test (ndarray): Test data labels\n",
    "    \"\"\"\n",
    "    X_train = []\n",
    "    Y_train = []\n",
    "\n",
    "    for i in range(1, 6):  # Load training data from 5 batches\n",
    "        batch_file = os.path.join(data_dir, 'data_batch_' + str(i))\n",
    "        batch_data = unpickle(batch_file)\n",
    "        X_train.append(batch_data[b'data'])\n",
    "        Y_train += batch_data[b'labels']\n",
    "\n",
    "    X_train = np.concatenate(X_train, axis=0)\n",
    "    Y_train = np.array(Y_train)\n",
    "\n",
    "    # Load test data from the test batch\n",
    "    test_batch_file = os.path.join(data_dir, 'test_batch')\n",
    "    test_batch_data = unpickle(test_batch_file)\n",
    "\n",
    "    X_test = test_batch_data[b'data']\n",
    "    Y_test = np.array(test_batch_data[b'labels'])\n",
    "\n",
    "    # Reshaping and re-arranging color channels to represent RGB image required as input to CNN\n",
    "    # Reshape to (50000, 3, 32, 32) and move the color channel axis to the last dimension\n",
    "    X_train = X_train.reshape(-1, 3, 32, 32).transpose(0, 2, 3, 1)\n",
    "    X_test = X_test.reshape(-1, 3, 32, 32).transpose(0, 2, 3, 1)\n",
    "\n",
    "    return X_train, Y_train, X_test, Y_test\n"
   ]
  },
  {
   "cell_type": "markdown",
   "id": "f625c3d2-ee3b-4220-abc6-4d06361e2216",
   "metadata": {},
   "source": [
    "Create validation data from train set (20% split):"
   ]
  },
  {
   "cell_type": "code",
   "execution_count": 181,
   "id": "24a6ac71-a72e-4d96-bc86-2b87d9502d22",
   "metadata": {},
   "outputs": [],
   "source": [
    "from sklearn.model_selection import train_test_split\n",
    "\n",
    "# Directory containing CIFAR-10 data files\n",
    "data_dir = 'dataset\\cifar-10-python\\cifar-10-batches-py'\n",
    "\n",
    "# Load CIFAR-10 training and test data\n",
    "X_train, Y_train, X_test, Y_test = load_cifar10_train_test(data_dir)\n",
    "\n",
    "# Split the training data into training and validation sets\n",
    "X_train, X_val, Y_train, Y_val = train_test_split(X_train, Y_train, test_size=0.2, random_state=42)"
   ]
  },
  {
   "cell_type": "code",
   "execution_count": 182,
   "id": "6d50c0cf-998d-443e-8ac9-3eb806bc3fc2",
   "metadata": {},
   "outputs": [
    {
     "name": "stdout",
     "output_type": "stream",
     "text": [
      "Train Set:\n",
      "X_train shape:  (40000, 32, 32, 3)\n",
      "Y_train shape:  (40000,)\n",
      "Validation Set:\n",
      "X_val shape:  (10000, 32, 32, 3)\n",
      "Y_val shape:  (10000,)\n",
      "Test Set:\n",
      "X_test shape:  (10000, 32, 32, 3)\n",
      "Y_test shape:  (10000,)\n"
     ]
    }
   ],
   "source": [
    "# Ensuring we parsed the data correctly:\n",
    "print('Train Set:')\n",
    "print('X_train shape: ', X_train.shape)\n",
    "print('Y_train shape: ', Y_train.shape)\n",
    "print('Validation Set:')\n",
    "print('X_val shape: ', X_val.shape)\n",
    "print('Y_val shape: ', Y_val.shape)\n",
    "print('Test Set:')\n",
    "print('X_test shape: ', X_test.shape)\n",
    "print('Y_test shape: ', Y_test.shape)"
   ]
  },
  {
   "cell_type": "code",
   "execution_count": null,
   "id": "b7bbbb3d-d1ed-4869-9304-91bc93d7bdfe",
   "metadata": {},
   "outputs": [],
   "source": []
  },
  {
   "cell_type": "markdown",
   "id": "582e8395-050d-4301-b644-10132f9ef65b",
   "metadata": {},
   "source": [
    "### Setup ImageDataGenerator"
   ]
  },
  {
   "cell_type": "markdown",
   "id": "d5dd1f67-0177-4f1b-8b5f-1cb04f8b2005",
   "metadata": {},
   "source": [
    "In order to make the most of fewer training examples, we will \"augment\" them via a number of random transformations, so that our model would never see twice the exact same picture. This helps prevent overfitting and helps the model generalize better.\n",
    "\n",
    "NOTE: ImageDataGenerator will NOT add new images to your data set in a sense that it will not make your epochs bigger. Instead, in each epoch it will provide slightly altered images (depending on your configuration). It will always generate new images, no matter how many epochs you have.\n",
    "\n",
    "So in each epoch model will train on different images, but not too different. This should prevent overfitting and in some way simulates online learning."
   ]
  },
  {
   "cell_type": "code",
   "execution_count": 183,
   "id": "53a45da3-7b78-47b5-94ea-e0f1c5b553ce",
   "metadata": {},
   "outputs": [],
   "source": [
    "from keras.preprocessing.image import ImageDataGenerator\n",
    "\n",
    "# Construct the training image generator for data augmentation\n",
    "# datagen = ImageDataGenerator(\n",
    "#         rotation_range=10, # rotation\n",
    "#         width_shift_range=0.2, # horizontal shift\n",
    "#         height_shift_range=0.2, # vertical shift\n",
    "#         zoom_range=0.2, # zoom\n",
    "#         horizontal_flip=True, # horizontal flip\n",
    "#         # brightness_range=[0.2,1.0] # brightness\n",
    "# )\n",
    "\n",
    "# For purposes of creating a baseline, construct empty ImageDataGenerator\n",
    "datagen = ImageDataGenerator()"
   ]
  },
  {
   "cell_type": "code",
   "execution_count": 184,
   "id": "17205f2c-7c42-400c-b04d-fd5224108345",
   "metadata": {},
   "outputs": [
    {
     "data": {
      "image/png": "[encoded data removed]",
      "text/plain": [
       "<Figure size 640x480 with 9 Axes>"
      ]
     },
     "metadata": {},
     "output_type": "display_data"
    }
   ],
   "source": [
    "# Example of image augmentation on sample image:\n",
    "from numpy import expand_dims\n",
    "from tensorflow.keras.preprocessing.image import load_img\n",
    "from tensorflow.keras.preprocessing.image import img_to_array\n",
    "from matplotlib import pyplot\n",
    "\n",
    "\n",
    "img = load_img('bird.jpeg') # load image\n",
    "data = img_to_array(img) # convert to numpy array\n",
    "samples = expand_dims(data, 0) # expand dimension to one sample\n",
    "\n",
    "# Prepare iterator\n",
    "it = datagen.flow(samples, batch_size=1)\n",
    "\n",
    "# Generate samples and plot\n",
    "for i in range(9):\n",
    "    pyplot.subplot(330 + 1 + i) # define subplot\n",
    "    batch = it.next() # generate batch of images\n",
    "    image = batch[0].astype('uint8') # convert to unsigned integers\n",
    "    pyplot.imshow(image)\n",
    "\n",
    "# show the figure\n",
    "pyplot.show()\n",
    "# Adapted code for displaying augmentation results: https://machinelearningmastery.com/how-to-configure-image-data-augmentation-when-training-deep-learning-neural-networks/"
   ]
  },
  {
   "cell_type": "markdown",
   "id": "cbeeb566-5b54-44c9-ab65-1a744b38d38f",
   "metadata": {},
   "source": [
    "### Pre-processing dataset"
   ]
  },
  {
   "cell_type": "code",
   "execution_count": 185,
   "id": "9e7c5089-eebb-40a6-b6e1-f5d6213d1f19",
   "metadata": {},
   "outputs": [],
   "source": [
    "# Normalize the data\n",
    "X_train = X_train / 255.0\n",
    "X_test = X_test / 255.0\n",
    "X_val = X_val / 255.0\n",
    "\n",
    "# One-hot encode the labels\n",
    "Y_train = to_categorical(Y_train, 10)\n",
    "Y_test = to_categorical(Y_test, 10)\n",
    "Y_val = to_categorical(Y_val, 10)"
   ]
  },
  {
   "cell_type": "markdown",
   "id": "8e4ce6fe-5790-4b37-ab5b-a5e74b2e2170",
   "metadata": {},
   "source": [
    "## Build and Train Model"
   ]
  },
  {
   "cell_type": "markdown",
   "id": "f61736cc-8513-4578-aa91-2b7057c078e3",
   "metadata": {},
   "source": [
    "The following cell has the supporting utility functions to plot accuracy curves, loss curves from training process and final evaluation of the classification model. I have provided inline comments explaining purpose of each function and code used. "
   ]
  },
  {
   "cell_type": "code",
   "execution_count": 186,
   "id": "2348212c-b019-4fe2-bf4f-f8eda7e7c5bf",
   "metadata": {},
   "outputs": [],
   "source": [
    "# Import required libraries\n",
    "import matplotlib.pyplot as plt\n",
    "\n",
    "def plot_accuracy(history, title):\n",
    "    \"\"\"\n",
    "    Function to plot accuracy curves for both training and validation sets.\n",
    "\n",
    "    Args:\n",
    "    history (History): Keras History object containing training history\n",
    "    title (str): Title of the plot\n",
    "    \"\"\"\n",
    "    new_title = title + \" Accuracy\"\n",
    "    plt.plot(history.history['accuracy'], label='train_accuracy')\n",
    "    plt.plot(history.history['val_accuracy'], label='val_accuracy')\n",
    "    plt.title(new_title)\n",
    "    plt.xlabel('Epoch')\n",
    "    plt.ylabel('Accuracy')\n",
    "    plt.legend(loc='lower right')\n",
    "    save_plot(plt, new_title)\n",
    "    plt.show()\n",
    "    \n",
    "def plot_multiple_accuracies(models, title):\n",
    "    \"\"\"\n",
    "    Function to plot accuracy curves for both training and validation sets of multiple models at once.\n",
    "\n",
    "    Args:\n",
    "    models (Dictionary): Contains Keras History objects with training history assigned by keys that pertain to the hyperparameter value used\n",
    "    title (str): Title of the plot\n",
    "    \"\"\"\n",
    "    new_title = title + \" Accuracy\"\n",
    "    for key in models.keys():\n",
    "        history = models[key]\n",
    "        plt.plot(history.history['accuracy'], label='train_accuracy' + \"_\" + key)\n",
    "        plt.plot(history.history['val_accuracy'], label='val_accuracy' + \"_\" + key)\n",
    "    plt.title(new_title)\n",
    "    plt.xlabel('Epoch')\n",
    "    plt.ylabel('Accuracy')\n",
    "    plt.legend(loc='lower right')\n",
    "    save_plot(plt, new_title)\n",
    "    plt.show()\n",
    "\n",
    "def plot_loss(history, title):\n",
    "    \"\"\"\n",
    "    Function to plot loss curves for both training and validation sets.\n",
    "\n",
    "    Args:\n",
    "    history (History): Keras History object containing training history\n",
    "    title (str): Title of the plot\n",
    "    \"\"\"\n",
    "    new_title = title + \" Loss\"\n",
    "    plt.plot(history.history['loss'], label='train_loss')\n",
    "    plt.plot(history.history['val_loss'], label='val_loss')\n",
    "    plt.title(new_title = title + \" Loss\")\n",
    "    plt.xlabel('Epoch')\n",
    "    plt.ylabel('Loss')\n",
    "    plt.legend(loc='upper right')\n",
    "    save_plot(plt, new_title = title + \" Loss\")\n",
    "    plt.show()\n",
    "    \n",
    "def plot_multiple_losses(models, title):\n",
    "    \"\"\"\n",
    "    Function to plot loss curves for both training and validation sets.\n",
    "\n",
    "    Args:\n",
    "    models (Dictionary): Contains Keras History objects with training history assigned by keys that pertain to the hyperparameter value used\n",
    "    title (str): Title of the plot\n",
    "    \"\"\"\n",
    "    new_title = title + \" Loss\"\n",
    "    for key in models.keys():\n",
    "        history = models[key]\n",
    "        plt.plot(history.history['loss'], label='train_loss' + \"_\" + key)\n",
    "        plt.plot(history.history['val_loss'], label='val_loss' + \"_\" + key)\n",
    "    plt.title(new_title)\n",
    "    plt.xlabel('Epoch')\n",
    "    plt.ylabel('Loss')\n",
    "    plt.legend(loc='upper right')\n",
    "    save_plot(plt, new_title)\n",
    "    plt.show()\n",
    "\n",
    "def evaluate_model(model, X_test, Y_test):\n",
    "    \"\"\"\n",
    "    Function to evaluate the performance of a trained model on the test dataset.\n",
    "\n",
    "    Args:\n",
    "    model (Sequential): Trained Keras model\n",
    "    X_test (ndarray): Test dataset features\n",
    "    Y_test (ndarray): One-hot encoded labels for test dataset\n",
    "    \"\"\"\n",
    "    _, accuracy = model.evaluate(X_test, Y_test, verbose=0)\n",
    "    print(\"Test Accuracy: %.2f%%\" % (accuracy * 100))\n",
    "    return accuracy * 100\n",
    "    \n",
    "def save_plot(plt, name):\n",
    "    \"\"\"\n",
    "    Function to save a plot. Call function before plt.show().\n",
    "\n",
    "    Args:\n",
    "    plt (matplotlib.pyplot object): Plot to save\n",
    "    name (String): A String for the name of the output file. Cannot contain spaces\n",
    "    \"\"\"\n",
    "    filepath = \"Graphs/\" + name\n",
    "    # if os.path.isfile(filepath):\n",
    "    #     filepath += \"_second\"\n",
    "    #     print(\"Same filename. Please alter the params_string. You will not get another warning before losing figures!!\")\n",
    "    plt.savefig(filepath)\n"
   ]
  },
  {
   "cell_type": "code",
   "execution_count": 201,
   "id": "af83176a-7b41-4e0a-abf1-b774e13d1eda",
   "metadata": {},
   "outputs": [],
   "source": [
    "from tensorflow.keras.layers import Input, Add, Activation, AveragePooling2D, BatchNormalization\n",
    "from tensorflow.keras.layers import Conv2D, MaxPooling2D, Dense, Flatten, Dropout\n",
    "from tensorflow.keras.regularizers import l2\n",
    "from tensorflow.keras.models import Model\n",
    "\n",
    "def resnet_block(inputs, filters, kernel_size, strides, skip_kernel_size=(1, 1), activation='relu', num_layers=2, dropout=0):\n",
    "    \"\"\"\n",
    "    Function to create a single ResNet block.\n",
    "\n",
    "    Args:\n",
    "    inputs (tensor): Input tensor\n",
    "    filters (int): Number of filters in the convolutional layers\n",
    "    kernel_size (int or tuple): Size of the convolutional kernel\n",
    "    strides (int or tuple): Strides of the convolutional kernel\n",
    "    skip_kernel_size (int or tuple): Size of the skip connection kernel\n",
    "    activation (str): Activation function to use\n",
    "    num_layers (int): Number of convolutional layers per block\n",
    "\n",
    "    Returns:\n",
    "    tensor: Output tensor of the ResNet block\n",
    "    \"\"\"\n",
    "    shortcut = inputs\n",
    "\n",
    "    # Create initial convolutional layer and batch normalization without an activation layer afterwards\n",
    "    x = Conv2D(filters, kernel_size, strides=strides, padding='same', kernel_initializer='he_normal')(inputs)\n",
    "    x = Dropout(dropout)(x)\n",
    "    x = BatchNormalization()(x)\n",
    "    \n",
    "    # Create (num_layers - 1) convolutional layers with activation layer beforehand\n",
    "    # Final layer does not have an activation layer as desired\n",
    "    if num_layers > 1:\n",
    "        for i in range(num_layers - 1):\n",
    "            x = Activation(activation)(x)\n",
    "            x = Conv2D(filters, kernel_size, padding='same', kernel_initializer='he_normal')(x)\n",
    "            x = Dropout(dropout)(x)\n",
    "            x = BatchNormalization()(x)\n",
    "    \n",
    "\n",
    "    # Shortcut connection\n",
    "    if strides != 1 or inputs.shape[-1] != filters:\n",
    "        # change (1,1) to variable (the kernel size in the ith skip connection)\n",
    "        shortcut = Conv2D(filters, skip_kernel_size, strides=strides, padding='same', kernel_initializer='he_normal')(inputs)\n",
    "        shortcut = Dropout(dropout)(shortcut)\n",
    "        shortcut = BatchNormalization()(shortcut)\n",
    "\n",
    "    x = Add()([x, shortcut])\n",
    "    x = Activation(activation)(x)\n",
    "    return x\n",
    "\n",
    "def build_resnet(init_filters=64, res_layers=[2, 2], conv_kernel_size=(3,3), skip_kernel_size=(1, 1), conv_per_layer=2, pool_size=(8, 8), optimizer='adam', dropout=0):\n",
    "    \"\"\"\n",
    "    Function to build a ResNet model using multiple Resnet style blocks.\n",
    "    \n",
    "    Args:\n",
    "    init_filters (int): Number of filters in the first layer\n",
    "    res_layers (list of ints): Network architecture as a list where the length of the list is the number of Residual Layers and the value of each element is the number of blocks in that layer\n",
    "    conv_kernel_size (int or tuple): Size of the convolutional kernel\n",
    "    skip_kernel_size (int or tuple): Size of the skip connection kernel\n",
    "    conv_per_layer (int): Number of convolutional layers per residual block\n",
    "    pool_size (int or tuple): Size of the pooling layer\n",
    "    optimizer (String): Acceptable keras optimizers such as SGD or adam\n",
    "\n",
    "    Returns:\n",
    "    model (Model): Compiled ResNet model\n",
    "    \"\"\"\n",
    "    inputs = Input(shape=(32, 32, 3))\n",
    "    num_filters = init_filters\n",
    "    num_blocks_list = res_layers  # ResNet Style architecture for CIFAR-10\n",
    "\n",
    "    x = Conv2D(num_filters, conv_kernel_size, padding='same', kernel_initializer='he_normal')(inputs)\n",
    "    x = BatchNormalization()(x)\n",
    "    x = Activation('relu')(x)\n",
    "\n",
    "    # Add ResNet blocks\n",
    "    for i, num_blocks in enumerate(num_blocks_list):\n",
    "        for j in range(num_blocks):\n",
    "            strides = 1\n",
    "            if i > 0 and j == 0:  # Downsample at the beginning of each stage\n",
    "                strides = 2\n",
    "            x = resnet_block(x, num_filters, conv_kernel_size, strides, skip_kernel_size=skip_kernel_size, num_layers=conv_per_layer, dropout=dropout)\n",
    "\n",
    "        num_filters *= 2  # Double the number of filters after each stage\n",
    "\n",
    "    x = AveragePooling2D(pool_size=pool_size)(x) # pool size could be hyperparameter\n",
    "    x = Flatten()(x)\n",
    "    outputs = Dense(10, activation='softmax')(x)\n",
    "\n",
    "    model = Model(inputs=inputs, outputs=outputs)\n",
    "    # optimizer can be a parameter: vanilla sgd, sgd with fixed learning rate, or adam \n",
    "    model.compile(optimizer=optimizer, loss='categorical_crossentropy', metrics=['accuracy'])\n",
    "\n",
    "    return model\n"
   ]
  },
  {
   "cell_type": "code",
   "execution_count": 202,
   "id": "3272e83f-c06f-4ce1-9c51-ab42259b4339",
   "metadata": {},
   "outputs": [
    {
     "name": "stdout",
     "output_type": "stream",
     "text": [
      "Model: \"model_41\"\n",
      "__________________________________________________________________________________________________\n",
      " Layer (type)                   Output Shape         Param #     Connected to                     \n",
      "==================================================================================================\n",
      " input_42 (InputLayer)          [(None, 32, 32, 3)]  0           []                               \n",
      "                                                                                                  \n",
      " conv2d_452 (Conv2D)            (None, 32, 32, 64)   1792        ['input_42[0][0]']               \n",
      "                                                                                                  \n",
      " batch_normalization_452 (Batch  (None, 32, 32, 64)  256         ['conv2d_452[0][0]']             \n",
      " Normalization)                                                                                   \n",
      "                                                                                                  \n",
      " activation_409 (Activation)    (None, 32, 32, 64)   0           ['batch_normalization_452[0][0]']\n",
      "                                                                                                  \n",
      " conv2d_453 (Conv2D)            (None, 32, 32, 64)   36928       ['activation_409[0][0]']         \n",
      "                                                                                                  \n",
      " dropout (Dropout)              (None, 32, 32, 64)   0           ['conv2d_453[0][0]']             \n",
      "                                                                                                  \n",
      " batch_normalization_453 (Batch  (None, 32, 32, 64)  256         ['dropout[0][0]']                \n",
      " Normalization)                                                                                   \n",
      "                                                                                                  \n",
      " activation_410 (Activation)    (None, 32, 32, 64)   0           ['batch_normalization_453[0][0]']\n",
      "                                                                                                  \n",
      " conv2d_454 (Conv2D)            (None, 32, 32, 64)   36928       ['activation_410[0][0]']         \n",
      "                                                                                                  \n",
      " dropout_1 (Dropout)            (None, 32, 32, 64)   0           ['conv2d_454[0][0]']             \n",
      "                                                                                                  \n",
      " batch_normalization_454 (Batch  (None, 32, 32, 64)  256         ['dropout_1[0][0]']              \n",
      " Normalization)                                                                                   \n",
      "                                                                                                  \n",
      " add_184 (Add)                  (None, 32, 32, 64)   0           ['batch_normalization_454[0][0]',\n",
      "                                                                  'activation_409[0][0]']         \n",
      "                                                                                                  \n",
      " activation_411 (Activation)    (None, 32, 32, 64)   0           ['add_184[0][0]']                \n",
      "                                                                                                  \n",
      " conv2d_455 (Conv2D)            (None, 32, 32, 64)   36928       ['activation_411[0][0]']         \n",
      "                                                                                                  \n",
      " dropout_2 (Dropout)            (None, 32, 32, 64)   0           ['conv2d_455[0][0]']             \n",
      "                                                                                                  \n",
      " batch_normalization_455 (Batch  (None, 32, 32, 64)  256         ['dropout_2[0][0]']              \n",
      " Normalization)                                                                                   \n",
      "                                                                                                  \n",
      " activation_412 (Activation)    (None, 32, 32, 64)   0           ['batch_normalization_455[0][0]']\n",
      "                                                                                                  \n",
      " conv2d_456 (Conv2D)            (None, 32, 32, 64)   36928       ['activation_412[0][0]']         \n",
      "                                                                                                  \n",
      " dropout_3 (Dropout)            (None, 32, 32, 64)   0           ['conv2d_456[0][0]']             \n",
      "                                                                                                  \n",
      " batch_normalization_456 (Batch  (None, 32, 32, 64)  256         ['dropout_3[0][0]']              \n",
      " Normalization)                                                                                   \n",
      "                                                                                                  \n",
      " add_185 (Add)                  (None, 32, 32, 64)   0           ['batch_normalization_456[0][0]',\n",
      "                                                                  'activation_411[0][0]']         \n",
      "                                                                                                  \n",
      " activation_413 (Activation)    (None, 32, 32, 64)   0           ['add_185[0][0]']                \n",
      "                                                                                                  \n",
      " conv2d_457 (Conv2D)            (None, 16, 16, 128)  73856       ['activation_413[0][0]']         \n",
      "                                                                                                  \n",
      " dropout_4 (Dropout)            (None, 16, 16, 128)  0           ['conv2d_457[0][0]']             \n",
      "                                                                                                  \n",
      " batch_normalization_457 (Batch  (None, 16, 16, 128)  512        ['dropout_4[0][0]']              \n",
      " Normalization)                                                                                   \n",
      "                                                                                                  \n",
      " activation_414 (Activation)    (None, 16, 16, 128)  0           ['batch_normalization_457[0][0]']\n",
      "                                                                                                  \n",
      " conv2d_458 (Conv2D)            (None, 16, 16, 128)  147584      ['activation_414[0][0]']         \n",
      "                                                                                                  \n",
      " conv2d_459 (Conv2D)            (None, 16, 16, 128)  8320        ['activation_413[0][0]']         \n",
      "                                                                                                  \n",
      " dropout_5 (Dropout)            (None, 16, 16, 128)  0           ['conv2d_458[0][0]']             \n",
      "                                                                                                  \n",
      " dropout_6 (Dropout)            (None, 16, 16, 128)  0           ['conv2d_459[0][0]']             \n",
      "                                                                                                  \n",
      " batch_normalization_458 (Batch  (None, 16, 16, 128)  512        ['dropout_5[0][0]']              \n",
      " Normalization)                                                                                   \n",
      "                                                                                                  \n",
      " batch_normalization_459 (Batch  (None, 16, 16, 128)  512        ['dropout_6[0][0]']              \n",
      " Normalization)                                                                                   \n",
      "                                                                                                  \n",
      " add_186 (Add)                  (None, 16, 16, 128)  0           ['batch_normalization_458[0][0]',\n",
      "                                                                  'batch_normalization_459[0][0]']\n",
      "                                                                                                  \n",
      " activation_415 (Activation)    (None, 16, 16, 128)  0           ['add_186[0][0]']                \n",
      "                                                                                                  \n",
      " conv2d_460 (Conv2D)            (None, 16, 16, 128)  147584      ['activation_415[0][0]']         \n",
      "                                                                                                  \n",
      " dropout_7 (Dropout)            (None, 16, 16, 128)  0           ['conv2d_460[0][0]']             \n",
      "                                                                                                  \n",
      " batch_normalization_460 (Batch  (None, 16, 16, 128)  512        ['dropout_7[0][0]']              \n",
      " Normalization)                                                                                   \n",
      "                                                                                                  \n",
      " activation_416 (Activation)    (None, 16, 16, 128)  0           ['batch_normalization_460[0][0]']\n",
      "                                                                                                  \n",
      " conv2d_461 (Conv2D)            (None, 16, 16, 128)  147584      ['activation_416[0][0]']         \n",
      "                                                                                                  \n",
      " dropout_8 (Dropout)            (None, 16, 16, 128)  0           ['conv2d_461[0][0]']             \n",
      "                                                                                                  \n",
      " batch_normalization_461 (Batch  (None, 16, 16, 128)  512        ['dropout_8[0][0]']              \n",
      " Normalization)                                                                                   \n",
      "                                                                                                  \n",
      " add_187 (Add)                  (None, 16, 16, 128)  0           ['batch_normalization_461[0][0]',\n",
      "                                                                  'activation_415[0][0]']         \n",
      "                                                                                                  \n",
      " activation_417 (Activation)    (None, 16, 16, 128)  0           ['add_187[0][0]']                \n",
      "                                                                                                  \n",
      " average_pooling2d_41 (AverageP  (None, 8, 8, 128)   0           ['activation_417[0][0]']         \n",
      " ooling2D)                                                                                        \n",
      "                                                                                                  \n",
      " flatten_41 (Flatten)           (None, 8192)         0           ['average_pooling2d_41[0][0]']   \n",
      "                                                                                                  \n",
      " dense_41 (Dense)               (None, 10)           81930       ['flatten_41[0][0]']             \n",
      "                                                                                                  \n",
      "==================================================================================================\n",
      "Total params: 760,202\n",
      "Trainable params: 758,282\n",
      "Non-trainable params: 1,920\n",
      "__________________________________________________________________________________________________\n"
     ]
    }
   ],
   "source": [
    "# Build ResNet Model 1\n",
    "resnet_model_1 = build_resnet(init_filters=64, res_layers=[2, 2], conv_kernel_size=(3,3), skip_kernel_size=(1, 1), conv_per_layer=2, pool_size=(2, 2), optimizer='SGD', dropout=0)\n",
    "resnet_model_1.summary()"
   ]
  },
  {
   "cell_type": "code",
   "execution_count": 203,
   "id": "2614e333",
   "metadata": {},
   "outputs": [
    {
     "name": "stdout",
     "output_type": "stream",
     "text": [
      "Model: \"model_42\"\n",
      "__________________________________________________________________________________________________\n",
      " Layer (type)                   Output Shape         Param #     Connected to                     \n",
      "==================================================================================================\n",
      " input_43 (InputLayer)          [(None, 32, 32, 3)]  0           []                               \n",
      "                                                                                                  \n",
      " conv2d_462 (Conv2D)            (None, 32, 32, 64)   1792        ['input_43[0][0]']               \n",
      "                                                                                                  \n",
      " batch_normalization_462 (Batch  (None, 32, 32, 64)  256         ['conv2d_462[0][0]']             \n",
      " Normalization)                                                                                   \n",
      "                                                                                                  \n",
      " activation_418 (Activation)    (None, 32, 32, 64)   0           ['batch_normalization_462[0][0]']\n",
      "                                                                                                  \n",
      " conv2d_463 (Conv2D)            (None, 32, 32, 64)   36928       ['activation_418[0][0]']         \n",
      "                                                                                                  \n",
      " dropout_9 (Dropout)            (None, 32, 32, 64)   0           ['conv2d_463[0][0]']             \n",
      "                                                                                                  \n",
      " batch_normalization_463 (Batch  (None, 32, 32, 64)  256         ['dropout_9[0][0]']              \n",
      " Normalization)                                                                                   \n",
      "                                                                                                  \n",
      " activation_419 (Activation)    (None, 32, 32, 64)   0           ['batch_normalization_463[0][0]']\n",
      "                                                                                                  \n",
      " conv2d_464 (Conv2D)            (None, 32, 32, 64)   36928       ['activation_419[0][0]']         \n",
      "                                                                                                  \n",
      " dropout_10 (Dropout)           (None, 32, 32, 64)   0           ['conv2d_464[0][0]']             \n",
      "                                                                                                  \n",
      " batch_normalization_464 (Batch  (None, 32, 32, 64)  256         ['dropout_10[0][0]']             \n",
      " Normalization)                                                                                   \n",
      "                                                                                                  \n",
      " add_188 (Add)                  (None, 32, 32, 64)   0           ['batch_normalization_464[0][0]',\n",
      "                                                                  'activation_418[0][0]']         \n",
      "                                                                                                  \n",
      " activation_420 (Activation)    (None, 32, 32, 64)   0           ['add_188[0][0]']                \n",
      "                                                                                                  \n",
      " conv2d_465 (Conv2D)            (None, 32, 32, 64)   36928       ['activation_420[0][0]']         \n",
      "                                                                                                  \n",
      " dropout_11 (Dropout)           (None, 32, 32, 64)   0           ['conv2d_465[0][0]']             \n",
      "                                                                                                  \n",
      " batch_normalization_465 (Batch  (None, 32, 32, 64)  256         ['dropout_11[0][0]']             \n",
      " Normalization)                                                                                   \n",
      "                                                                                                  \n",
      " activation_421 (Activation)    (None, 32, 32, 64)   0           ['batch_normalization_465[0][0]']\n",
      "                                                                                                  \n",
      " conv2d_466 (Conv2D)            (None, 32, 32, 64)   36928       ['activation_421[0][0]']         \n",
      "                                                                                                  \n",
      " dropout_12 (Dropout)           (None, 32, 32, 64)   0           ['conv2d_466[0][0]']             \n",
      "                                                                                                  \n",
      " batch_normalization_466 (Batch  (None, 32, 32, 64)  256         ['dropout_12[0][0]']             \n",
      " Normalization)                                                                                   \n",
      "                                                                                                  \n",
      " add_189 (Add)                  (None, 32, 32, 64)   0           ['batch_normalization_466[0][0]',\n",
      "                                                                  'activation_420[0][0]']         \n",
      "                                                                                                  \n",
      " activation_422 (Activation)    (None, 32, 32, 64)   0           ['add_189[0][0]']                \n",
      "                                                                                                  \n",
      " conv2d_467 (Conv2D)            (None, 16, 16, 128)  73856       ['activation_422[0][0]']         \n",
      "                                                                                                  \n",
      " dropout_13 (Dropout)           (None, 16, 16, 128)  0           ['conv2d_467[0][0]']             \n",
      "                                                                                                  \n",
      " batch_normalization_467 (Batch  (None, 16, 16, 128)  512        ['dropout_13[0][0]']             \n",
      " Normalization)                                                                                   \n",
      "                                                                                                  \n",
      " activation_423 (Activation)    (None, 16, 16, 128)  0           ['batch_normalization_467[0][0]']\n",
      "                                                                                                  \n",
      " conv2d_468 (Conv2D)            (None, 16, 16, 128)  147584      ['activation_423[0][0]']         \n",
      "                                                                                                  \n",
      " conv2d_469 (Conv2D)            (None, 16, 16, 128)  8320        ['activation_422[0][0]']         \n",
      "                                                                                                  \n",
      " dropout_14 (Dropout)           (None, 16, 16, 128)  0           ['conv2d_468[0][0]']             \n",
      "                                                                                                  \n",
      " dropout_15 (Dropout)           (None, 16, 16, 128)  0           ['conv2d_469[0][0]']             \n",
      "                                                                                                  \n",
      " batch_normalization_468 (Batch  (None, 16, 16, 128)  512        ['dropout_14[0][0]']             \n",
      " Normalization)                                                                                   \n",
      "                                                                                                  \n",
      " batch_normalization_469 (Batch  (None, 16, 16, 128)  512        ['dropout_15[0][0]']             \n",
      " Normalization)                                                                                   \n",
      "                                                                                                  \n",
      " add_190 (Add)                  (None, 16, 16, 128)  0           ['batch_normalization_468[0][0]',\n",
      "                                                                  'batch_normalization_469[0][0]']\n",
      "                                                                                                  \n",
      " activation_424 (Activation)    (None, 16, 16, 128)  0           ['add_190[0][0]']                \n",
      "                                                                                                  \n",
      " conv2d_470 (Conv2D)            (None, 16, 16, 128)  147584      ['activation_424[0][0]']         \n",
      "                                                                                                  \n",
      " dropout_16 (Dropout)           (None, 16, 16, 128)  0           ['conv2d_470[0][0]']             \n",
      "                                                                                                  \n",
      " batch_normalization_470 (Batch  (None, 16, 16, 128)  512        ['dropout_16[0][0]']             \n",
      " Normalization)                                                                                   \n",
      "                                                                                                  \n",
      " activation_425 (Activation)    (None, 16, 16, 128)  0           ['batch_normalization_470[0][0]']\n",
      "                                                                                                  \n",
      " conv2d_471 (Conv2D)            (None, 16, 16, 128)  147584      ['activation_425[0][0]']         \n",
      "                                                                                                  \n",
      " dropout_17 (Dropout)           (None, 16, 16, 128)  0           ['conv2d_471[0][0]']             \n",
      "                                                                                                  \n",
      " batch_normalization_471 (Batch  (None, 16, 16, 128)  512        ['dropout_17[0][0]']             \n",
      " Normalization)                                                                                   \n",
      "                                                                                                  \n",
      " add_191 (Add)                  (None, 16, 16, 128)  0           ['batch_normalization_471[0][0]',\n",
      "                                                                  'activation_424[0][0]']         \n",
      "                                                                                                  \n",
      " activation_426 (Activation)    (None, 16, 16, 128)  0           ['add_191[0][0]']                \n",
      "                                                                                                  \n",
      " average_pooling2d_42 (AverageP  (None, 8, 8, 128)   0           ['activation_426[0][0]']         \n",
      " ooling2D)                                                                                        \n",
      "                                                                                                  \n",
      " flatten_42 (Flatten)           (None, 8192)         0           ['average_pooling2d_42[0][0]']   \n",
      "                                                                                                  \n",
      " dense_42 (Dense)               (None, 10)           81930       ['flatten_42[0][0]']             \n",
      "                                                                                                  \n",
      "==================================================================================================\n",
      "Total params: 760,202\n",
      "Trainable params: 758,282\n",
      "Non-trainable params: 1,920\n",
      "__________________________________________________________________________________________________\n"
     ]
    }
   ],
   "source": [
    "# Build ResNet Model 2\n",
    "resnet_model_2 = build_resnet(init_filters=64, res_layers=[2, 2], conv_kernel_size=(3,3), skip_kernel_size=(1, 1), conv_per_layer=2, pool_size=(2, 2), optimizer='SGD', dropout=0.1)\n",
    "resnet_model_2.summary()"
   ]
  },
  {
   "cell_type": "code",
   "execution_count": 204,
   "id": "8f9394ed",
   "metadata": {},
   "outputs": [
    {
     "name": "stdout",
     "output_type": "stream",
     "text": [
      "Model: \"model_43\"\n",
      "__________________________________________________________________________________________________\n",
      " Layer (type)                   Output Shape         Param #     Connected to                     \n",
      "==================================================================================================\n",
      " input_44 (InputLayer)          [(None, 32, 32, 3)]  0           []                               \n",
      "                                                                                                  \n",
      " conv2d_472 (Conv2D)            (None, 32, 32, 64)   1792        ['input_44[0][0]']               \n",
      "                                                                                                  \n",
      " batch_normalization_472 (Batch  (None, 32, 32, 64)  256         ['conv2d_472[0][0]']             \n",
      " Normalization)                                                                                   \n",
      "                                                                                                  \n",
      " activation_427 (Activation)    (None, 32, 32, 64)   0           ['batch_normalization_472[0][0]']\n",
      "                                                                                                  \n",
      " conv2d_473 (Conv2D)            (None, 32, 32, 64)   36928       ['activation_427[0][0]']         \n",
      "                                                                                                  \n",
      " dropout_18 (Dropout)           (None, 32, 32, 64)   0           ['conv2d_473[0][0]']             \n",
      "                                                                                                  \n",
      " batch_normalization_473 (Batch  (None, 32, 32, 64)  256         ['dropout_18[0][0]']             \n",
      " Normalization)                                                                                   \n",
      "                                                                                                  \n",
      " activation_428 (Activation)    (None, 32, 32, 64)   0           ['batch_normalization_473[0][0]']\n",
      "                                                                                                  \n",
      " conv2d_474 (Conv2D)            (None, 32, 32, 64)   36928       ['activation_428[0][0]']         \n",
      "                                                                                                  \n",
      " dropout_19 (Dropout)           (None, 32, 32, 64)   0           ['conv2d_474[0][0]']             \n",
      "                                                                                                  \n",
      " batch_normalization_474 (Batch  (None, 32, 32, 64)  256         ['dropout_19[0][0]']             \n",
      " Normalization)                                                                                   \n",
      "                                                                                                  \n",
      " add_192 (Add)                  (None, 32, 32, 64)   0           ['batch_normalization_474[0][0]',\n",
      "                                                                  'activation_427[0][0]']         \n",
      "                                                                                                  \n",
      " activation_429 (Activation)    (None, 32, 32, 64)   0           ['add_192[0][0]']                \n",
      "                                                                                                  \n",
      " conv2d_475 (Conv2D)            (None, 32, 32, 64)   36928       ['activation_429[0][0]']         \n",
      "                                                                                                  \n",
      " dropout_20 (Dropout)           (None, 32, 32, 64)   0           ['conv2d_475[0][0]']             \n",
      "                                                                                                  \n",
      " batch_normalization_475 (Batch  (None, 32, 32, 64)  256         ['dropout_20[0][0]']             \n",
      " Normalization)                                                                                   \n",
      "                                                                                                  \n",
      " activation_430 (Activation)    (None, 32, 32, 64)   0           ['batch_normalization_475[0][0]']\n",
      "                                                                                                  \n",
      " conv2d_476 (Conv2D)            (None, 32, 32, 64)   36928       ['activation_430[0][0]']         \n",
      "                                                                                                  \n",
      " dropout_21 (Dropout)           (None, 32, 32, 64)   0           ['conv2d_476[0][0]']             \n",
      "                                                                                                  \n",
      " batch_normalization_476 (Batch  (None, 32, 32, 64)  256         ['dropout_21[0][0]']             \n",
      " Normalization)                                                                                   \n",
      "                                                                                                  \n",
      " add_193 (Add)                  (None, 32, 32, 64)   0           ['batch_normalization_476[0][0]',\n",
      "                                                                  'activation_429[0][0]']         \n",
      "                                                                                                  \n",
      " activation_431 (Activation)    (None, 32, 32, 64)   0           ['add_193[0][0]']                \n",
      "                                                                                                  \n",
      " conv2d_477 (Conv2D)            (None, 16, 16, 128)  73856       ['activation_431[0][0]']         \n",
      "                                                                                                  \n",
      " dropout_22 (Dropout)           (None, 16, 16, 128)  0           ['conv2d_477[0][0]']             \n",
      "                                                                                                  \n",
      " batch_normalization_477 (Batch  (None, 16, 16, 128)  512        ['dropout_22[0][0]']             \n",
      " Normalization)                                                                                   \n",
      "                                                                                                  \n",
      " activation_432 (Activation)    (None, 16, 16, 128)  0           ['batch_normalization_477[0][0]']\n",
      "                                                                                                  \n",
      " conv2d_478 (Conv2D)            (None, 16, 16, 128)  147584      ['activation_432[0][0]']         \n",
      "                                                                                                  \n",
      " conv2d_479 (Conv2D)            (None, 16, 16, 128)  8320        ['activation_431[0][0]']         \n",
      "                                                                                                  \n",
      " dropout_23 (Dropout)           (None, 16, 16, 128)  0           ['conv2d_478[0][0]']             \n",
      "                                                                                                  \n",
      " dropout_24 (Dropout)           (None, 16, 16, 128)  0           ['conv2d_479[0][0]']             \n",
      "                                                                                                  \n",
      " batch_normalization_478 (Batch  (None, 16, 16, 128)  512        ['dropout_23[0][0]']             \n",
      " Normalization)                                                                                   \n",
      "                                                                                                  \n",
      " batch_normalization_479 (Batch  (None, 16, 16, 128)  512        ['dropout_24[0][0]']             \n",
      " Normalization)                                                                                   \n",
      "                                                                                                  \n",
      " add_194 (Add)                  (None, 16, 16, 128)  0           ['batch_normalization_478[0][0]',\n",
      "                                                                  'batch_normalization_479[0][0]']\n",
      "                                                                                                  \n",
      " activation_433 (Activation)    (None, 16, 16, 128)  0           ['add_194[0][0]']                \n",
      "                                                                                                  \n",
      " conv2d_480 (Conv2D)            (None, 16, 16, 128)  147584      ['activation_433[0][0]']         \n",
      "                                                                                                  \n",
      " dropout_25 (Dropout)           (None, 16, 16, 128)  0           ['conv2d_480[0][0]']             \n",
      "                                                                                                  \n",
      " batch_normalization_480 (Batch  (None, 16, 16, 128)  512        ['dropout_25[0][0]']             \n",
      " Normalization)                                                                                   \n",
      "                                                                                                  \n",
      " activation_434 (Activation)    (None, 16, 16, 128)  0           ['batch_normalization_480[0][0]']\n",
      "                                                                                                  \n",
      " conv2d_481 (Conv2D)            (None, 16, 16, 128)  147584      ['activation_434[0][0]']         \n",
      "                                                                                                  \n",
      " dropout_26 (Dropout)           (None, 16, 16, 128)  0           ['conv2d_481[0][0]']             \n",
      "                                                                                                  \n",
      " batch_normalization_481 (Batch  (None, 16, 16, 128)  512        ['dropout_26[0][0]']             \n",
      " Normalization)                                                                                   \n",
      "                                                                                                  \n",
      " add_195 (Add)                  (None, 16, 16, 128)  0           ['batch_normalization_481[0][0]',\n",
      "                                                                  'activation_433[0][0]']         \n",
      "                                                                                                  \n",
      " activation_435 (Activation)    (None, 16, 16, 128)  0           ['add_195[0][0]']                \n",
      "                                                                                                  \n",
      " average_pooling2d_43 (AverageP  (None, 8, 8, 128)   0           ['activation_435[0][0]']         \n",
      " ooling2D)                                                                                        \n",
      "                                                                                                  \n",
      " flatten_43 (Flatten)           (None, 8192)         0           ['average_pooling2d_43[0][0]']   \n",
      "                                                                                                  \n",
      " dense_43 (Dense)               (None, 10)           81930       ['flatten_43[0][0]']             \n",
      "                                                                                                  \n",
      "==================================================================================================\n",
      "Total params: 760,202\n",
      "Trainable params: 758,282\n",
      "Non-trainable params: 1,920\n",
      "__________________________________________________________________________________________________\n"
     ]
    }
   ],
   "source": [
    "# Build ResNet Model 3\n",
    "resnet_model_3 = build_resnet(init_filters=64, res_layers=[2, 2], conv_kernel_size=(3,3), skip_kernel_size=(1, 1), conv_per_layer=2, pool_size=(2, 2), optimizer='SGD', dropout=0.25)\n",
    "resnet_model_3.summary()"
   ]
  },
  {
   "cell_type": "code",
   "execution_count": 206,
   "id": "054645b7",
   "metadata": {},
   "outputs": [
    {
     "name": "stdout",
     "output_type": "stream",
     "text": [
      "Model: \"model_45\"\n",
      "__________________________________________________________________________________________________\n",
      " Layer (type)                   Output Shape         Param #     Connected to                     \n",
      "==================================================================================================\n",
      " input_46 (InputLayer)          [(None, 32, 32, 3)]  0           []                               \n",
      "                                                                                                  \n",
      " conv2d_500 (Conv2D)            (None, 32, 32, 64)   1792        ['input_46[0][0]']               \n",
      "                                                                                                  \n",
      " batch_normalization_500 (Batch  (None, 32, 32, 64)  256         ['conv2d_500[0][0]']             \n",
      " Normalization)                                                                                   \n",
      "                                                                                                  \n",
      " activation_453 (Activation)    (None, 32, 32, 64)   0           ['batch_normalization_500[0][0]']\n",
      "                                                                                                  \n",
      " conv2d_501 (Conv2D)            (None, 32, 32, 64)   36928       ['activation_453[0][0]']         \n",
      "                                                                                                  \n",
      " dropout_44 (Dropout)           (None, 32, 32, 64)   0           ['conv2d_501[0][0]']             \n",
      "                                                                                                  \n",
      " batch_normalization_501 (Batch  (None, 32, 32, 64)  256         ['dropout_44[0][0]']             \n",
      " Normalization)                                                                                   \n",
      "                                                                                                  \n",
      " activation_454 (Activation)    (None, 32, 32, 64)   0           ['batch_normalization_501[0][0]']\n",
      "                                                                                                  \n",
      " conv2d_502 (Conv2D)            (None, 32, 32, 64)   36928       ['activation_454[0][0]']         \n",
      "                                                                                                  \n",
      " dropout_45 (Dropout)           (None, 32, 32, 64)   0           ['conv2d_502[0][0]']             \n",
      "                                                                                                  \n",
      " batch_normalization_502 (Batch  (None, 32, 32, 64)  256         ['dropout_45[0][0]']             \n",
      " Normalization)                                                                                   \n",
      "                                                                                                  \n",
      " add_204 (Add)                  (None, 32, 32, 64)   0           ['batch_normalization_502[0][0]',\n",
      "                                                                  'activation_453[0][0]']         \n",
      "                                                                                                  \n",
      " activation_455 (Activation)    (None, 32, 32, 64)   0           ['add_204[0][0]']                \n",
      "                                                                                                  \n",
      " conv2d_503 (Conv2D)            (None, 32, 32, 64)   36928       ['activation_455[0][0]']         \n",
      "                                                                                                  \n",
      " dropout_46 (Dropout)           (None, 32, 32, 64)   0           ['conv2d_503[0][0]']             \n",
      "                                                                                                  \n",
      " batch_normalization_503 (Batch  (None, 32, 32, 64)  256         ['dropout_46[0][0]']             \n",
      " Normalization)                                                                                   \n",
      "                                                                                                  \n",
      " activation_456 (Activation)    (None, 32, 32, 64)   0           ['batch_normalization_503[0][0]']\n",
      "                                                                                                  \n",
      " conv2d_504 (Conv2D)            (None, 32, 32, 64)   36928       ['activation_456[0][0]']         \n",
      "                                                                                                  \n",
      " dropout_47 (Dropout)           (None, 32, 32, 64)   0           ['conv2d_504[0][0]']             \n",
      "                                                                                                  \n",
      " batch_normalization_504 (Batch  (None, 32, 32, 64)  256         ['dropout_47[0][0]']             \n",
      " Normalization)                                                                                   \n",
      "                                                                                                  \n",
      " add_205 (Add)                  (None, 32, 32, 64)   0           ['batch_normalization_504[0][0]',\n",
      "                                                                  'activation_455[0][0]']         \n",
      "                                                                                                  \n",
      " activation_457 (Activation)    (None, 32, 32, 64)   0           ['add_205[0][0]']                \n",
      "                                                                                                  \n",
      " conv2d_505 (Conv2D)            (None, 16, 16, 128)  73856       ['activation_457[0][0]']         \n",
      "                                                                                                  \n",
      " dropout_48 (Dropout)           (None, 16, 16, 128)  0           ['conv2d_505[0][0]']             \n",
      "                                                                                                  \n",
      " batch_normalization_505 (Batch  (None, 16, 16, 128)  512        ['dropout_48[0][0]']             \n",
      " Normalization)                                                                                   \n",
      "                                                                                                  \n",
      " activation_458 (Activation)    (None, 16, 16, 128)  0           ['batch_normalization_505[0][0]']\n",
      "                                                                                                  \n",
      " conv2d_506 (Conv2D)            (None, 16, 16, 128)  147584      ['activation_458[0][0]']         \n",
      "                                                                                                  \n",
      " conv2d_507 (Conv2D)            (None, 16, 16, 128)  8320        ['activation_457[0][0]']         \n",
      "                                                                                                  \n",
      " dropout_49 (Dropout)           (None, 16, 16, 128)  0           ['conv2d_506[0][0]']             \n",
      "                                                                                                  \n",
      " dropout_50 (Dropout)           (None, 16, 16, 128)  0           ['conv2d_507[0][0]']             \n",
      "                                                                                                  \n",
      " batch_normalization_506 (Batch  (None, 16, 16, 128)  512        ['dropout_49[0][0]']             \n",
      " Normalization)                                                                                   \n",
      "                                                                                                  \n",
      " batch_normalization_507 (Batch  (None, 16, 16, 128)  512        ['dropout_50[0][0]']             \n",
      " Normalization)                                                                                   \n",
      "                                                                                                  \n",
      " add_206 (Add)                  (None, 16, 16, 128)  0           ['batch_normalization_506[0][0]',\n",
      "                                                                  'batch_normalization_507[0][0]']\n",
      "                                                                                                  \n",
      " activation_459 (Activation)    (None, 16, 16, 128)  0           ['add_206[0][0]']                \n",
      "                                                                                                  \n",
      " conv2d_508 (Conv2D)            (None, 16, 16, 128)  147584      ['activation_459[0][0]']         \n",
      "                                                                                                  \n",
      " dropout_51 (Dropout)           (None, 16, 16, 128)  0           ['conv2d_508[0][0]']             \n",
      "                                                                                                  \n",
      " batch_normalization_508 (Batch  (None, 16, 16, 128)  512        ['dropout_51[0][0]']             \n",
      " Normalization)                                                                                   \n",
      "                                                                                                  \n",
      " activation_460 (Activation)    (None, 16, 16, 128)  0           ['batch_normalization_508[0][0]']\n",
      "                                                                                                  \n",
      " conv2d_509 (Conv2D)            (None, 16, 16, 128)  147584      ['activation_460[0][0]']         \n",
      "                                                                                                  \n",
      " dropout_52 (Dropout)           (None, 16, 16, 128)  0           ['conv2d_509[0][0]']             \n",
      "                                                                                                  \n",
      " batch_normalization_509 (Batch  (None, 16, 16, 128)  512        ['dropout_52[0][0]']             \n",
      " Normalization)                                                                                   \n",
      "                                                                                                  \n",
      " add_207 (Add)                  (None, 16, 16, 128)  0           ['batch_normalization_509[0][0]',\n",
      "                                                                  'activation_459[0][0]']         \n",
      "                                                                                                  \n",
      " activation_461 (Activation)    (None, 16, 16, 128)  0           ['add_207[0][0]']                \n",
      "                                                                                                  \n",
      " average_pooling2d_45 (AverageP  (None, 8, 8, 128)   0           ['activation_461[0][0]']         \n",
      " ooling2D)                                                                                        \n",
      "                                                                                                  \n",
      " flatten_45 (Flatten)           (None, 8192)         0           ['average_pooling2d_45[0][0]']   \n",
      "                                                                                                  \n",
      " dense_45 (Dense)               (None, 10)           81930       ['flatten_45[0][0]']             \n",
      "                                                                                                  \n",
      "==================================================================================================\n",
      "Total params: 760,202\n",
      "Trainable params: 758,282\n",
      "Non-trainable params: 1,920\n",
      "__________________________________________________________________________________________________\n"
     ]
    }
   ],
   "source": [
    "# Build ResNet Model 4\n",
    "resnet_model_4 = build_resnet(init_filters=64, res_layers=[2, 2], conv_kernel_size=(3,3), skip_kernel_size=(1, 1), conv_per_layer=2, pool_size=(2, 2), optimizer='SGD', dropout=0.3)\n",
    "resnet_model_4.summary()"
   ]
  },
  {
   "cell_type": "markdown",
   "id": "9f75a436-2b04-487e-9952-927016ad50ee",
   "metadata": {},
   "source": [
    "TO DO:\n",
    "1. keras callbacks: save checkpoint with best performance on validation data (rishie)\n",
    "2. Add hyperparameter tuning as arguments (gio)\n",
    "3. Save graphs under different names (gio)\n",
    "4. ImageDataGenerator - read about this to add augmentation (rishie)\n",
    "5. Regularization - Dropouts in random/hyperparameter\n",
    "6. Loading custom data (rishie)"
   ]
  },
  {
   "cell_type": "markdown",
   "id": "21ea29e1-357f-4b5b-b82d-fb586217bfb5",
   "metadata": {},
   "source": [
    "### Enabling Keras Callbacks"
   ]
  },
  {
   "cell_type": "markdown",
   "id": "1ffde665-08e5-4313-a0a7-0c674c10a2d7",
   "metadata": {},
   "source": [
    "Callback to save the Keras model weights after every epoch that obtains the best validation accuracy thus far."
   ]
  },
  {
   "cell_type": "code",
   "execution_count": 192,
   "id": "ba744aba-257e-492e-9787-ec96351cbbc7",
   "metadata": {},
   "outputs": [],
   "source": [
    "from tensorflow.keras.callbacks import ModelCheckpoint\n",
    "\n",
    "# Title of the Hypothesis Tested\n",
    "title = \"Varying Dropout Layer Percentage\"\n",
    "\n",
    "# These are used to distinguish the models from each other\n",
    "param_1 = \"2x2 Avg Pool\"\n",
    "param_2 = \"4x4 Avg Pool\"\n",
    "param_3 = \"8x8 Avg Pool\"\n",
    "param_4 = \"Four Blocks Per Layer\"\n",
    "\n",
    "checkpoint_filepath_1 = 'ckpt/' + title + '/' + param_1\n",
    "checkpoint_filepath_2 = 'ckpt/' + title + '/' + param_2 \n",
    "checkpoint_filepath_3 = 'ckpt/' + title + '/' + param_3\n",
    "checkpoint_filepath_4 = 'ckpt/' + title + '/' + param_4\n",
    "\n",
    "# Defining callback\n",
    "model_checkpoint_callback_1 = ModelCheckpoint(\n",
    "    filepath=checkpoint_filepath_1,\n",
    "    monitor='val_accuracy',\n",
    "    mode='max',\n",
    "    save_best_only=True)\n",
    "\n",
    "model_checkpoint_callback_2 = ModelCheckpoint(\n",
    "    filepath=checkpoint_filepath_2,\n",
    "    monitor='val_accuracy',\n",
    "    mode='max',\n",
    "    save_best_only=True)\n",
    "\n",
    "model_checkpoint_callback_3 = ModelCheckpoint(\n",
    "    filepath=checkpoint_filepath_3,\n",
    "    monitor='val_accuracy',\n",
    "    mode='max',\n",
    "    save_best_only=True)\n",
    "\n",
    "model_checkpoint_callback_4 = ModelCheckpoint(\n",
    "    filepath=checkpoint_filepath_4,\n",
    "    monitor='val_accuracy',\n",
    "    mode='max',\n",
    "    save_best_only=True)"
   ]
  },
  {
   "cell_type": "code",
   "execution_count": 193,
   "id": "eab307b7-65d6-4463-b8c9-ceef7339c059",
   "metadata": {},
   "outputs": [
    {
     "name": "stdout",
     "output_type": "stream",
     "text": [
      "Epoch 1/30\n",
      "623/625 [============================>.] - ETA: 0s - loss: 2.1121 - accuracy: 0.4149"
     ]
    },
    {
     "name": "stderr",
     "output_type": "stream",
     "text": [
      "WARNING:absl:Found untraced functions such as _jit_compiled_convolution_op, _jit_compiled_convolution_op, _jit_compiled_convolution_op, _jit_compiled_convolution_op, _jit_compiled_convolution_op while saving (showing 5 of 10). These functions will not be directly callable after loading.\n"
     ]
    },
    {
     "name": "stdout",
     "output_type": "stream",
     "text": [
      "INFO:tensorflow:Assets written to: ckpt/Varying Pool Kernel Size\\2x2 Avg Pool\\assets\n"
     ]
    },
    {
     "name": "stderr",
     "output_type": "stream",
     "text": [
      "INFO:tensorflow:Assets written to: ckpt/Varying Pool Kernel Size\\2x2 Avg Pool\\assets\n"
     ]
    },
    {
     "name": "stdout",
     "output_type": "stream",
     "text": [
      "625/625 [==============================] - 13s 19ms/step - loss: 2.1099 - accuracy: 0.4153 - val_loss: 1.3494 - val_accuracy: 0.5352\n",
      "Epoch 2/30\n",
      "621/625 [============================>.] - ETA: 0s - loss: 1.2545 - accuracy: 0.5552"
     ]
    },
    {
     "name": "stderr",
     "output_type": "stream",
     "text": [
      "WARNING:absl:Found untraced functions such as _jit_compiled_convolution_op, _jit_compiled_convolution_op, _jit_compiled_convolution_op, _jit_compiled_convolution_op, _jit_compiled_convolution_op while saving (showing 5 of 10). These functions will not be directly callable after loading.\n"
     ]
    },
    {
     "name": "stdout",
     "output_type": "stream",
     "text": [
      "INFO:tensorflow:Assets written to: ckpt/Varying Pool Kernel Size\\2x2 Avg Pool\\assets\n"
     ]
    },
    {
     "name": "stderr",
     "output_type": "stream",
     "text": [
      "INFO:tensorflow:Assets written to: ckpt/Varying Pool Kernel Size\\2x2 Avg Pool\\assets\n"
     ]
    },
    {
     "name": "stdout",
     "output_type": "stream",
     "text": [
      "625/625 [==============================] - 12s 18ms/step - loss: 1.2546 - accuracy: 0.5549 - val_loss: 1.1104 - val_accuracy: 0.6095\n",
      "Epoch 3/30\n",
      "625/625 [==============================] - ETA: 0s - loss: 1.0441 - accuracy: 0.6337"
     ]
    },
    {
     "name": "stderr",
     "output_type": "stream",
     "text": [
      "WARNING:absl:Found untraced functions such as _jit_compiled_convolution_op, _jit_compiled_convolution_op, _jit_compiled_convolution_op, _jit_compiled_convolution_op, _jit_compiled_convolution_op while saving (showing 5 of 10). These functions will not be directly callable after loading.\n"
     ]
    },
    {
     "name": "stdout",
     "output_type": "stream",
     "text": [
      "INFO:tensorflow:Assets written to: ckpt/Varying Pool Kernel Size\\2x2 Avg Pool\\assets\n"
     ]
    },
    {
     "name": "stderr",
     "output_type": "stream",
     "text": [
      "INFO:tensorflow:Assets written to: ckpt/Varying Pool Kernel Size\\2x2 Avg Pool\\assets\n"
     ]
    },
    {
     "name": "stdout",
     "output_type": "stream",
     "text": [
      "625/625 [==============================] - 11s 18ms/step - loss: 1.0441 - accuracy: 0.6337 - val_loss: 1.1198 - val_accuracy: 0.6108\n",
      "Epoch 4/30\n",
      "621/625 [============================>.] - ETA: 0s - loss: 0.9160 - accuracy: 0.6767"
     ]
    },
    {
     "name": "stderr",
     "output_type": "stream",
     "text": [
      "WARNING:absl:Found untraced functions such as _jit_compiled_convolution_op, _jit_compiled_convolution_op, _jit_compiled_convolution_op, _jit_compiled_convolution_op, _jit_compiled_convolution_op while saving (showing 5 of 10). These functions will not be directly callable after loading.\n"
     ]
    },
    {
     "name": "stdout",
     "output_type": "stream",
     "text": [
      "INFO:tensorflow:Assets written to: ckpt/Varying Pool Kernel Size\\2x2 Avg Pool\\assets\n"
     ]
    },
    {
     "name": "stderr",
     "output_type": "stream",
     "text": [
      "INFO:tensorflow:Assets written to: ckpt/Varying Pool Kernel Size\\2x2 Avg Pool\\assets\n"
     ]
    },
    {
     "name": "stdout",
     "output_type": "stream",
     "text": [
      "625/625 [==============================] - 11s 18ms/step - loss: 0.9159 - accuracy: 0.6769 - val_loss: 1.0044 - val_accuracy: 0.6519\n",
      "Epoch 5/30\n",
      "625/625 [==============================] - 9s 14ms/step - loss: 0.8133 - accuracy: 0.7136 - val_loss: 1.0286 - val_accuracy: 0.6462\n",
      "Epoch 6/30\n",
      "625/625 [==============================] - 9s 14ms/step - loss: 0.7263 - accuracy: 0.7434 - val_loss: 1.0882 - val_accuracy: 0.6318\n",
      "Epoch 7/30\n",
      "623/625 [============================>.] - ETA: 0s - loss: 0.6485 - accuracy: 0.7736"
     ]
    },
    {
     "name": "stderr",
     "output_type": "stream",
     "text": [
      "WARNING:absl:Found untraced functions such as _jit_compiled_convolution_op, _jit_compiled_convolution_op, _jit_compiled_convolution_op, _jit_compiled_convolution_op, _jit_compiled_convolution_op while saving (showing 5 of 10). These functions will not be directly callable after loading.\n"
     ]
    },
    {
     "name": "stdout",
     "output_type": "stream",
     "text": [
      "INFO:tensorflow:Assets written to: ckpt/Varying Pool Kernel Size\\2x2 Avg Pool\\assets\n"
     ]
    },
    {
     "name": "stderr",
     "output_type": "stream",
     "text": [
      "INFO:tensorflow:Assets written to: ckpt/Varying Pool Kernel Size\\2x2 Avg Pool\\assets\n"
     ]
    },
    {
     "name": "stdout",
     "output_type": "stream",
     "text": [
      "625/625 [==============================] - 11s 17ms/step - loss: 0.6480 - accuracy: 0.7739 - val_loss: 0.8686 - val_accuracy: 0.6998\n",
      "Epoch 8/30\n",
      "625/625 [==============================] - 9s 14ms/step - loss: 0.5882 - accuracy: 0.7944 - val_loss: 1.0287 - val_accuracy: 0.6616\n",
      "Epoch 9/30\n",
      "625/625 [==============================] - 9s 15ms/step - loss: 0.5238 - accuracy: 0.8195 - val_loss: 0.9617 - val_accuracy: 0.6914\n",
      "Epoch 10/30\n",
      "625/625 [==============================] - 9s 15ms/step - loss: 0.4579 - accuracy: 0.8427 - val_loss: 1.0034 - val_accuracy: 0.6776\n",
      "Epoch 11/30\n",
      "622/625 [============================>.] - ETA: 0s - loss: 0.4007 - accuracy: 0.8641"
     ]
    },
    {
     "name": "stderr",
     "output_type": "stream",
     "text": [
      "WARNING:absl:Found untraced functions such as _jit_compiled_convolution_op, _jit_compiled_convolution_op, _jit_compiled_convolution_op, _jit_compiled_convolution_op, _jit_compiled_convolution_op while saving (showing 5 of 10). These functions will not be directly callable after loading.\n"
     ]
    },
    {
     "name": "stdout",
     "output_type": "stream",
     "text": [
      "INFO:tensorflow:Assets written to: ckpt/Varying Pool Kernel Size\\2x2 Avg Pool\\assets\n"
     ]
    },
    {
     "name": "stderr",
     "output_type": "stream",
     "text": [
      "INFO:tensorflow:Assets written to: ckpt/Varying Pool Kernel Size\\2x2 Avg Pool\\assets\n"
     ]
    },
    {
     "name": "stdout",
     "output_type": "stream",
     "text": [
      "625/625 [==============================] - 12s 19ms/step - loss: 0.4006 - accuracy: 0.8642 - val_loss: 0.8700 - val_accuracy: 0.7121\n",
      "Epoch 12/30\n",
      "625/625 [==============================] - 9s 15ms/step - loss: 0.3510 - accuracy: 0.8831 - val_loss: 0.9810 - val_accuracy: 0.6906\n",
      "Epoch 13/30\n",
      "625/625 [==============================] - 9s 15ms/step - loss: 0.3036 - accuracy: 0.9020 - val_loss: 0.9525 - val_accuracy: 0.7066\n",
      "Epoch 14/30\n",
      "622/625 [============================>.] - ETA: 0s - loss: 0.2548 - accuracy: 0.9203"
     ]
    },
    {
     "name": "stderr",
     "output_type": "stream",
     "text": [
      "WARNING:absl:Found untraced functions such as _jit_compiled_convolution_op, _jit_compiled_convolution_op, _jit_compiled_convolution_op, _jit_compiled_convolution_op, _jit_compiled_convolution_op while saving (showing 5 of 10). These functions will not be directly callable after loading.\n"
     ]
    },
    {
     "name": "stdout",
     "output_type": "stream",
     "text": [
      "INFO:tensorflow:Assets written to: ckpt/Varying Pool Kernel Size\\2x2 Avg Pool\\assets\n"
     ]
    },
    {
     "name": "stderr",
     "output_type": "stream",
     "text": [
      "INFO:tensorflow:Assets written to: ckpt/Varying Pool Kernel Size\\2x2 Avg Pool\\assets\n"
     ]
    },
    {
     "name": "stdout",
     "output_type": "stream",
     "text": [
      "625/625 [==============================] - 12s 19ms/step - loss: 0.2548 - accuracy: 0.9203 - val_loss: 0.9060 - val_accuracy: 0.7203\n",
      "Epoch 15/30\n",
      "624/625 [============================>.] - ETA: 0s - loss: 0.2168 - accuracy: 0.9367"
     ]
    },
    {
     "name": "stderr",
     "output_type": "stream",
     "text": [
      "WARNING:absl:Found untraced functions such as _jit_compiled_convolution_op, _jit_compiled_convolution_op, _jit_compiled_convolution_op, _jit_compiled_convolution_op, _jit_compiled_convolution_op while saving (showing 5 of 10). These functions will not be directly callable after loading.\n"
     ]
    },
    {
     "name": "stdout",
     "output_type": "stream",
     "text": [
      "INFO:tensorflow:Assets written to: ckpt/Varying Pool Kernel Size\\2x2 Avg Pool\\assets\n"
     ]
    },
    {
     "name": "stderr",
     "output_type": "stream",
     "text": [
      "INFO:tensorflow:Assets written to: ckpt/Varying Pool Kernel Size\\2x2 Avg Pool\\assets\n"
     ]
    },
    {
     "name": "stdout",
     "output_type": "stream",
     "text": [
      "625/625 [==============================] - 12s 19ms/step - loss: 0.2167 - accuracy: 0.9368 - val_loss: 0.8943 - val_accuracy: 0.7225\n",
      "Epoch 16/30\n",
      "625/625 [==============================] - ETA: 0s - loss: 0.1772 - accuracy: 0.9531"
     ]
    },
    {
     "name": "stderr",
     "output_type": "stream",
     "text": [
      "WARNING:absl:Found untraced functions such as _jit_compiled_convolution_op, _jit_compiled_convolution_op, _jit_compiled_convolution_op, _jit_compiled_convolution_op, _jit_compiled_convolution_op while saving (showing 5 of 10). These functions will not be directly callable after loading.\n"
     ]
    },
    {
     "name": "stdout",
     "output_type": "stream",
     "text": [
      "INFO:tensorflow:Assets written to: ckpt/Varying Pool Kernel Size\\2x2 Avg Pool\\assets\n"
     ]
    },
    {
     "name": "stderr",
     "output_type": "stream",
     "text": [
      "INFO:tensorflow:Assets written to: ckpt/Varying Pool Kernel Size\\2x2 Avg Pool\\assets\n"
     ]
    },
    {
     "name": "stdout",
     "output_type": "stream",
     "text": [
      "625/625 [==============================] - 12s 20ms/step - loss: 0.1772 - accuracy: 0.9531 - val_loss: 0.8965 - val_accuracy: 0.7304\n",
      "Epoch 17/30\n",
      "625/625 [==============================] - 10s 15ms/step - loss: 0.1506 - accuracy: 0.9635 - val_loss: 0.9618 - val_accuracy: 0.7231\n",
      "Epoch 18/30\n",
      "625/625 [==============================] - 9s 15ms/step - loss: 0.1214 - accuracy: 0.9752 - val_loss: 1.0114 - val_accuracy: 0.7104\n",
      "Epoch 19/30\n",
      "624/625 [============================>.] - ETA: 0s - loss: 0.0993 - accuracy: 0.9824"
     ]
    },
    {
     "name": "stderr",
     "output_type": "stream",
     "text": [
      "WARNING:absl:Found untraced functions such as _jit_compiled_convolution_op, _jit_compiled_convolution_op, _jit_compiled_convolution_op, _jit_compiled_convolution_op, _jit_compiled_convolution_op while saving (showing 5 of 10). These functions will not be directly callable after loading.\n"
     ]
    },
    {
     "name": "stdout",
     "output_type": "stream",
     "text": [
      "INFO:tensorflow:Assets written to: ckpt/Varying Pool Kernel Size\\2x2 Avg Pool\\assets\n"
     ]
    },
    {
     "name": "stderr",
     "output_type": "stream",
     "text": [
      "INFO:tensorflow:Assets written to: ckpt/Varying Pool Kernel Size\\2x2 Avg Pool\\assets\n"
     ]
    },
    {
     "name": "stdout",
     "output_type": "stream",
     "text": [
      "625/625 [==============================] - 12s 19ms/step - loss: 0.0993 - accuracy: 0.9825 - val_loss: 0.9038 - val_accuracy: 0.7391\n",
      "Epoch 20/30\n",
      "625/625 [==============================] - 10s 15ms/step - loss: 0.0822 - accuracy: 0.9881 - val_loss: 0.9099 - val_accuracy: 0.7365\n",
      "Epoch 21/30\n",
      "622/625 [============================>.] - ETA: 0s - loss: 0.0675 - accuracy: 0.9926"
     ]
    },
    {
     "name": "stderr",
     "output_type": "stream",
     "text": [
      "WARNING:absl:Found untraced functions such as _jit_compiled_convolution_op, _jit_compiled_convolution_op, _jit_compiled_convolution_op, _jit_compiled_convolution_op, _jit_compiled_convolution_op while saving (showing 5 of 10). These functions will not be directly callable after loading.\n"
     ]
    },
    {
     "name": "stdout",
     "output_type": "stream",
     "text": [
      "INFO:tensorflow:Assets written to: ckpt/Varying Pool Kernel Size\\2x2 Avg Pool\\assets\n"
     ]
    },
    {
     "name": "stderr",
     "output_type": "stream",
     "text": [
      "INFO:tensorflow:Assets written to: ckpt/Varying Pool Kernel Size\\2x2 Avg Pool\\assets\n"
     ]
    },
    {
     "name": "stdout",
     "output_type": "stream",
     "text": [
      "625/625 [==============================] - 12s 19ms/step - loss: 0.0676 - accuracy: 0.9926 - val_loss: 0.9338 - val_accuracy: 0.7407\n",
      "Epoch 22/30\n",
      "625/625 [==============================] - 10s 15ms/step - loss: 0.0572 - accuracy: 0.9949 - val_loss: 0.9947 - val_accuracy: 0.7292\n",
      "Epoch 23/30\n",
      "625/625 [==============================] - 9s 15ms/step - loss: 0.0469 - accuracy: 0.9969 - val_loss: 0.9751 - val_accuracy: 0.7354\n",
      "Epoch 24/30\n",
      "623/625 [============================>.] - ETA: 0s - loss: 0.0395 - accuracy: 0.9981"
     ]
    },
    {
     "name": "stderr",
     "output_type": "stream",
     "text": [
      "WARNING:absl:Found untraced functions such as _jit_compiled_convolution_op, _jit_compiled_convolution_op, _jit_compiled_convolution_op, _jit_compiled_convolution_op, _jit_compiled_convolution_op while saving (showing 5 of 10). These functions will not be directly callable after loading.\n"
     ]
    },
    {
     "name": "stdout",
     "output_type": "stream",
     "text": [
      "INFO:tensorflow:Assets written to: ckpt/Varying Pool Kernel Size\\2x2 Avg Pool\\assets\n"
     ]
    },
    {
     "name": "stderr",
     "output_type": "stream",
     "text": [
      "INFO:tensorflow:Assets written to: ckpt/Varying Pool Kernel Size\\2x2 Avg Pool\\assets\n"
     ]
    },
    {
     "name": "stdout",
     "output_type": "stream",
     "text": [
      "625/625 [==============================] - 12s 19ms/step - loss: 0.0395 - accuracy: 0.9981 - val_loss: 0.9257 - val_accuracy: 0.7474\n",
      "Epoch 25/30\n",
      "625/625 [==============================] - 10s 15ms/step - loss: 0.0344 - accuracy: 0.9987 - val_loss: 0.9353 - val_accuracy: 0.7463\n",
      "Epoch 26/30\n",
      "625/625 [==============================] - 9s 15ms/step - loss: 0.0309 - accuracy: 0.9985 - val_loss: 0.9965 - val_accuracy: 0.7380\n",
      "Epoch 27/30\n",
      "625/625 [==============================] - 9s 15ms/step - loss: 0.0273 - accuracy: 0.9992 - val_loss: 0.9702 - val_accuracy: 0.7467\n",
      "Epoch 28/30\n",
      "624/625 [============================>.] - ETA: 0s - loss: 0.0245 - accuracy: 0.9993"
     ]
    },
    {
     "name": "stderr",
     "output_type": "stream",
     "text": [
      "WARNING:absl:Found untraced functions such as _jit_compiled_convolution_op, _jit_compiled_convolution_op, _jit_compiled_convolution_op, _jit_compiled_convolution_op, _jit_compiled_convolution_op while saving (showing 5 of 10). These functions will not be directly callable after loading.\n"
     ]
    },
    {
     "name": "stdout",
     "output_type": "stream",
     "text": [
      "INFO:tensorflow:Assets written to: ckpt/Varying Pool Kernel Size\\2x2 Avg Pool\\assets\n"
     ]
    },
    {
     "name": "stderr",
     "output_type": "stream",
     "text": [
      "INFO:tensorflow:Assets written to: ckpt/Varying Pool Kernel Size\\2x2 Avg Pool\\assets\n"
     ]
    },
    {
     "name": "stdout",
     "output_type": "stream",
     "text": [
      "625/625 [==============================] - 12s 20ms/step - loss: 0.0245 - accuracy: 0.9993 - val_loss: 0.9498 - val_accuracy: 0.7503\n",
      "Epoch 29/30\n",
      "625/625 [==============================] - 9s 15ms/step - loss: 0.0224 - accuracy: 0.9995 - val_loss: 0.9857 - val_accuracy: 0.7480\n",
      "Epoch 30/30\n",
      "622/625 [============================>.] - ETA: 0s - loss: 0.0192 - accuracy: 0.9997"
     ]
    },
    {
     "name": "stderr",
     "output_type": "stream",
     "text": [
      "WARNING:absl:Found untraced functions such as _jit_compiled_convolution_op, _jit_compiled_convolution_op, _jit_compiled_convolution_op, _jit_compiled_convolution_op, _jit_compiled_convolution_op while saving (showing 5 of 10). These functions will not be directly callable after loading.\n"
     ]
    },
    {
     "name": "stdout",
     "output_type": "stream",
     "text": [
      "INFO:tensorflow:Assets written to: ckpt/Varying Pool Kernel Size\\2x2 Avg Pool\\assets\n"
     ]
    },
    {
     "name": "stderr",
     "output_type": "stream",
     "text": [
      "INFO:tensorflow:Assets written to: ckpt/Varying Pool Kernel Size\\2x2 Avg Pool\\assets\n"
     ]
    },
    {
     "name": "stdout",
     "output_type": "stream",
     "text": [
      "625/625 [==============================] - 12s 18ms/step - loss: 0.0192 - accuracy: 0.9997 - val_loss: 0.9650 - val_accuracy: 0.7528\n",
      "Epoch 1/30\n",
      "623/625 [============================>.] - ETA: 0s - loss: 1.5520 - accuracy: 0.4440"
     ]
    },
    {
     "name": "stderr",
     "output_type": "stream",
     "text": [
      "WARNING:absl:Found untraced functions such as _jit_compiled_convolution_op, _jit_compiled_convolution_op, _jit_compiled_convolution_op, _jit_compiled_convolution_op, _jit_compiled_convolution_op while saving (showing 5 of 10). These functions will not be directly callable after loading.\n"
     ]
    },
    {
     "name": "stdout",
     "output_type": "stream",
     "text": [
      "INFO:tensorflow:Assets written to: ckpt/Varying Pool Kernel Size\\4x4 Avg Pool\\assets\n"
     ]
    },
    {
     "name": "stderr",
     "output_type": "stream",
     "text": [
      "INFO:tensorflow:Assets written to: ckpt/Varying Pool Kernel Size\\4x4 Avg Pool\\assets\n"
     ]
    },
    {
     "name": "stdout",
     "output_type": "stream",
     "text": [
      "625/625 [==============================] - 13s 19ms/step - loss: 1.5510 - accuracy: 0.4443 - val_loss: 1.3172 - val_accuracy: 0.5379\n",
      "Epoch 2/30\n",
      "625/625 [==============================] - ETA: 0s - loss: 1.1827 - accuracy: 0.5788"
     ]
    },
    {
     "name": "stderr",
     "output_type": "stream",
     "text": [
      "WARNING:absl:Found untraced functions such as _jit_compiled_convolution_op, _jit_compiled_convolution_op, _jit_compiled_convolution_op, _jit_compiled_convolution_op, _jit_compiled_convolution_op while saving (showing 5 of 10). These functions will not be directly callable after loading.\n"
     ]
    },
    {
     "name": "stdout",
     "output_type": "stream",
     "text": [
      "INFO:tensorflow:Assets written to: ckpt/Varying Pool Kernel Size\\4x4 Avg Pool\\assets\n"
     ]
    },
    {
     "name": "stderr",
     "output_type": "stream",
     "text": [
      "INFO:tensorflow:Assets written to: ckpt/Varying Pool Kernel Size\\4x4 Avg Pool\\assets\n"
     ]
    },
    {
     "name": "stdout",
     "output_type": "stream",
     "text": [
      "625/625 [==============================] - 12s 20ms/step - loss: 1.1827 - accuracy: 0.5788 - val_loss: 1.1037 - val_accuracy: 0.6096\n",
      "Epoch 3/30\n",
      "624/625 [============================>.] - ETA: 0s - loss: 1.0224 - accuracy: 0.6393"
     ]
    },
    {
     "name": "stderr",
     "output_type": "stream",
     "text": [
      "WARNING:absl:Found untraced functions such as _jit_compiled_convolution_op, _jit_compiled_convolution_op, _jit_compiled_convolution_op, _jit_compiled_convolution_op, _jit_compiled_convolution_op while saving (showing 5 of 10). These functions will not be directly callable after loading.\n"
     ]
    },
    {
     "name": "stdout",
     "output_type": "stream",
     "text": [
      "INFO:tensorflow:Assets written to: ckpt/Varying Pool Kernel Size\\4x4 Avg Pool\\assets\n"
     ]
    },
    {
     "name": "stderr",
     "output_type": "stream",
     "text": [
      "INFO:tensorflow:Assets written to: ckpt/Varying Pool Kernel Size\\4x4 Avg Pool\\assets\n"
     ]
    },
    {
     "name": "stdout",
     "output_type": "stream",
     "text": [
      "625/625 [==============================] - 12s 19ms/step - loss: 1.0226 - accuracy: 0.6393 - val_loss: 1.0742 - val_accuracy: 0.6158\n",
      "Epoch 4/30\n",
      "625/625 [==============================] - 10s 15ms/step - loss: 0.9163 - accuracy: 0.6792 - val_loss: 1.1635 - val_accuracy: 0.5883\n",
      "Epoch 5/30\n",
      "625/625 [==============================] - ETA: 0s - loss: 0.8290 - accuracy: 0.7106"
     ]
    },
    {
     "name": "stderr",
     "output_type": "stream",
     "text": [
      "WARNING:absl:Found untraced functions such as _jit_compiled_convolution_op, _jit_compiled_convolution_op, _jit_compiled_convolution_op, _jit_compiled_convolution_op, _jit_compiled_convolution_op while saving (showing 5 of 10). These functions will not be directly callable after loading.\n"
     ]
    },
    {
     "name": "stdout",
     "output_type": "stream",
     "text": [
      "INFO:tensorflow:Assets written to: ckpt/Varying Pool Kernel Size\\4x4 Avg Pool\\assets\n"
     ]
    },
    {
     "name": "stderr",
     "output_type": "stream",
     "text": [
      "INFO:tensorflow:Assets written to: ckpt/Varying Pool Kernel Size\\4x4 Avg Pool\\assets\n"
     ]
    },
    {
     "name": "stdout",
     "output_type": "stream",
     "text": [
      "625/625 [==============================] - 12s 19ms/step - loss: 0.8290 - accuracy: 0.7106 - val_loss: 1.0455 - val_accuracy: 0.6402\n",
      "Epoch 6/30\n",
      "623/625 [============================>.] - ETA: 0s - loss: 0.7611 - accuracy: 0.7364"
     ]
    },
    {
     "name": "stderr",
     "output_type": "stream",
     "text": [
      "WARNING:absl:Found untraced functions such as _jit_compiled_convolution_op, _jit_compiled_convolution_op, _jit_compiled_convolution_op, _jit_compiled_convolution_op, _jit_compiled_convolution_op while saving (showing 5 of 10). These functions will not be directly callable after loading.\n"
     ]
    },
    {
     "name": "stdout",
     "output_type": "stream",
     "text": [
      "INFO:tensorflow:Assets written to: ckpt/Varying Pool Kernel Size\\4x4 Avg Pool\\assets\n"
     ]
    },
    {
     "name": "stderr",
     "output_type": "stream",
     "text": [
      "INFO:tensorflow:Assets written to: ckpt/Varying Pool Kernel Size\\4x4 Avg Pool\\assets\n"
     ]
    },
    {
     "name": "stdout",
     "output_type": "stream",
     "text": [
      "625/625 [==============================] - 12s 19ms/step - loss: 0.7613 - accuracy: 0.7364 - val_loss: 0.8525 - val_accuracy: 0.7065\n",
      "Epoch 7/30\n",
      "625/625 [==============================] - 10s 15ms/step - loss: 0.7041 - accuracy: 0.7581 - val_loss: 0.8991 - val_accuracy: 0.6867\n",
      "Epoch 8/30\n",
      "624/625 [============================>.] - ETA: 0s - loss: 0.6531 - accuracy: 0.7732"
     ]
    },
    {
     "name": "stderr",
     "output_type": "stream",
     "text": [
      "WARNING:absl:Found untraced functions such as _jit_compiled_convolution_op, _jit_compiled_convolution_op, _jit_compiled_convolution_op, _jit_compiled_convolution_op, _jit_compiled_convolution_op while saving (showing 5 of 10). These functions will not be directly callable after loading.\n"
     ]
    },
    {
     "name": "stdout",
     "output_type": "stream",
     "text": [
      "INFO:tensorflow:Assets written to: ckpt/Varying Pool Kernel Size\\4x4 Avg Pool\\assets\n"
     ]
    },
    {
     "name": "stderr",
     "output_type": "stream",
     "text": [
      "INFO:tensorflow:Assets written to: ckpt/Varying Pool Kernel Size\\4x4 Avg Pool\\assets\n"
     ]
    },
    {
     "name": "stdout",
     "output_type": "stream",
     "text": [
      "625/625 [==============================] - 12s 20ms/step - loss: 0.6534 - accuracy: 0.7732 - val_loss: 0.8590 - val_accuracy: 0.7090\n",
      "Epoch 9/30\n",
      "623/625 [============================>.] - ETA: 0s - loss: 0.6057 - accuracy: 0.7921"
     ]
    },
    {
     "name": "stderr",
     "output_type": "stream",
     "text": [
      "WARNING:absl:Found untraced functions such as _jit_compiled_convolution_op, _jit_compiled_convolution_op, _jit_compiled_convolution_op, _jit_compiled_convolution_op, _jit_compiled_convolution_op while saving (showing 5 of 10). These functions will not be directly callable after loading.\n"
     ]
    },
    {
     "name": "stdout",
     "output_type": "stream",
     "text": [
      "INFO:tensorflow:Assets written to: ckpt/Varying Pool Kernel Size\\4x4 Avg Pool\\assets\n"
     ]
    },
    {
     "name": "stderr",
     "output_type": "stream",
     "text": [
      "INFO:tensorflow:Assets written to: ckpt/Varying Pool Kernel Size\\4x4 Avg Pool\\assets\n"
     ]
    },
    {
     "name": "stdout",
     "output_type": "stream",
     "text": [
      "625/625 [==============================] - 12s 19ms/step - loss: 0.6057 - accuracy: 0.7921 - val_loss: 0.8252 - val_accuracy: 0.7184\n",
      "Epoch 10/30\n",
      "624/625 [============================>.] - ETA: 0s - loss: 0.5676 - accuracy: 0.8049"
     ]
    },
    {
     "name": "stderr",
     "output_type": "stream",
     "text": [
      "WARNING:absl:Found untraced functions such as _jit_compiled_convolution_op, _jit_compiled_convolution_op, _jit_compiled_convolution_op, _jit_compiled_convolution_op, _jit_compiled_convolution_op while saving (showing 5 of 10). These functions will not be directly callable after loading.\n"
     ]
    },
    {
     "name": "stdout",
     "output_type": "stream",
     "text": [
      "INFO:tensorflow:Assets written to: ckpt/Varying Pool Kernel Size\\4x4 Avg Pool\\assets\n"
     ]
    },
    {
     "name": "stderr",
     "output_type": "stream",
     "text": [
      "INFO:tensorflow:Assets written to: ckpt/Varying Pool Kernel Size\\4x4 Avg Pool\\assets\n"
     ]
    },
    {
     "name": "stdout",
     "output_type": "stream",
     "text": [
      "625/625 [==============================] - 12s 20ms/step - loss: 0.5678 - accuracy: 0.8048 - val_loss: 0.7909 - val_accuracy: 0.7326\n",
      "Epoch 11/30\n",
      "625/625 [==============================] - ETA: 0s - loss: 0.5253 - accuracy: 0.8209"
     ]
    },
    {
     "name": "stderr",
     "output_type": "stream",
     "text": [
      "WARNING:absl:Found untraced functions such as _jit_compiled_convolution_op, _jit_compiled_convolution_op, _jit_compiled_convolution_op, _jit_compiled_convolution_op, _jit_compiled_convolution_op while saving (showing 5 of 10). These functions will not be directly callable after loading.\n"
     ]
    },
    {
     "name": "stdout",
     "output_type": "stream",
     "text": [
      "INFO:tensorflow:Assets written to: ckpt/Varying Pool Kernel Size\\4x4 Avg Pool\\assets\n"
     ]
    },
    {
     "name": "stderr",
     "output_type": "stream",
     "text": [
      "INFO:tensorflow:Assets written to: ckpt/Varying Pool Kernel Size\\4x4 Avg Pool\\assets\n"
     ]
    },
    {
     "name": "stdout",
     "output_type": "stream",
     "text": [
      "625/625 [==============================] - 12s 19ms/step - loss: 0.5253 - accuracy: 0.8209 - val_loss: 0.7753 - val_accuracy: 0.7382\n",
      "Epoch 12/30\n",
      "623/625 [============================>.] - ETA: 0s - loss: 0.4942 - accuracy: 0.8308"
     ]
    },
    {
     "name": "stderr",
     "output_type": "stream",
     "text": [
      "WARNING:absl:Found untraced functions such as _jit_compiled_convolution_op, _jit_compiled_convolution_op, _jit_compiled_convolution_op, _jit_compiled_convolution_op, _jit_compiled_convolution_op while saving (showing 5 of 10). These functions will not be directly callable after loading.\n"
     ]
    },
    {
     "name": "stdout",
     "output_type": "stream",
     "text": [
      "INFO:tensorflow:Assets written to: ckpt/Varying Pool Kernel Size\\4x4 Avg Pool\\assets\n"
     ]
    },
    {
     "name": "stderr",
     "output_type": "stream",
     "text": [
      "INFO:tensorflow:Assets written to: ckpt/Varying Pool Kernel Size\\4x4 Avg Pool\\assets\n"
     ]
    },
    {
     "name": "stdout",
     "output_type": "stream",
     "text": [
      "625/625 [==============================] - 12s 19ms/step - loss: 0.4947 - accuracy: 0.8305 - val_loss: 0.7817 - val_accuracy: 0.7385\n",
      "Epoch 13/30\n",
      "625/625 [==============================] - 10s 15ms/step - loss: 0.4562 - accuracy: 0.8468 - val_loss: 0.8154 - val_accuracy: 0.7354\n",
      "Epoch 14/30\n",
      "622/625 [============================>.] - ETA: 0s - loss: 0.4225 - accuracy: 0.8589"
     ]
    },
    {
     "name": "stderr",
     "output_type": "stream",
     "text": [
      "WARNING:absl:Found untraced functions such as _jit_compiled_convolution_op, _jit_compiled_convolution_op, _jit_compiled_convolution_op, _jit_compiled_convolution_op, _jit_compiled_convolution_op while saving (showing 5 of 10). These functions will not be directly callable after loading.\n"
     ]
    },
    {
     "name": "stdout",
     "output_type": "stream",
     "text": [
      "INFO:tensorflow:Assets written to: ckpt/Varying Pool Kernel Size\\4x4 Avg Pool\\assets\n"
     ]
    },
    {
     "name": "stderr",
     "output_type": "stream",
     "text": [
      "INFO:tensorflow:Assets written to: ckpt/Varying Pool Kernel Size\\4x4 Avg Pool\\assets\n"
     ]
    },
    {
     "name": "stdout",
     "output_type": "stream",
     "text": [
      "625/625 [==============================] - 12s 19ms/step - loss: 0.4228 - accuracy: 0.8587 - val_loss: 0.7697 - val_accuracy: 0.7417\n",
      "Epoch 15/30\n",
      "625/625 [==============================] - 10s 15ms/step - loss: 0.3923 - accuracy: 0.8681 - val_loss: 0.9243 - val_accuracy: 0.7085\n",
      "Epoch 16/30\n",
      "625/625 [==============================] - 9s 15ms/step - loss: 0.3627 - accuracy: 0.8813 - val_loss: 0.8079 - val_accuracy: 0.7394\n",
      "Epoch 17/30\n",
      "625/625 [==============================] - 9s 15ms/step - loss: 0.3350 - accuracy: 0.8916 - val_loss: 0.8670 - val_accuracy: 0.7264\n",
      "Epoch 18/30\n",
      "622/625 [============================>.] - ETA: 0s - loss: 0.3040 - accuracy: 0.9030"
     ]
    },
    {
     "name": "stderr",
     "output_type": "stream",
     "text": [
      "WARNING:absl:Found untraced functions such as _jit_compiled_convolution_op, _jit_compiled_convolution_op, _jit_compiled_convolution_op, _jit_compiled_convolution_op, _jit_compiled_convolution_op while saving (showing 5 of 10). These functions will not be directly callable after loading.\n"
     ]
    },
    {
     "name": "stdout",
     "output_type": "stream",
     "text": [
      "INFO:tensorflow:Assets written to: ckpt/Varying Pool Kernel Size\\4x4 Avg Pool\\assets\n"
     ]
    },
    {
     "name": "stderr",
     "output_type": "stream",
     "text": [
      "INFO:tensorflow:Assets written to: ckpt/Varying Pool Kernel Size\\4x4 Avg Pool\\assets\n"
     ]
    },
    {
     "name": "stdout",
     "output_type": "stream",
     "text": [
      "625/625 [==============================] - 12s 19ms/step - loss: 0.3040 - accuracy: 0.9029 - val_loss: 0.8132 - val_accuracy: 0.7418\n",
      "Epoch 19/30\n",
      "625/625 [==============================] - 10s 15ms/step - loss: 0.2803 - accuracy: 0.9122 - val_loss: 0.9425 - val_accuracy: 0.7137\n",
      "Epoch 20/30\n",
      "625/625 [==============================] - 9s 15ms/step - loss: 0.2519 - accuracy: 0.9247 - val_loss: 0.8881 - val_accuracy: 0.7267\n",
      "Epoch 21/30\n",
      "624/625 [============================>.] - ETA: 0s - loss: 0.2298 - accuracy: 0.9320"
     ]
    },
    {
     "name": "stderr",
     "output_type": "stream",
     "text": [
      "WARNING:absl:Found untraced functions such as _jit_compiled_convolution_op, _jit_compiled_convolution_op, _jit_compiled_convolution_op, _jit_compiled_convolution_op, _jit_compiled_convolution_op while saving (showing 5 of 10). These functions will not be directly callable after loading.\n"
     ]
    },
    {
     "name": "stdout",
     "output_type": "stream",
     "text": [
      "INFO:tensorflow:Assets written to: ckpt/Varying Pool Kernel Size\\4x4 Avg Pool\\assets\n"
     ]
    },
    {
     "name": "stderr",
     "output_type": "stream",
     "text": [
      "INFO:tensorflow:Assets written to: ckpt/Varying Pool Kernel Size\\4x4 Avg Pool\\assets\n"
     ]
    },
    {
     "name": "stdout",
     "output_type": "stream",
     "text": [
      "625/625 [==============================] - 12s 19ms/step - loss: 0.2297 - accuracy: 0.9321 - val_loss: 0.7998 - val_accuracy: 0.7510\n",
      "Epoch 22/30\n",
      "625/625 [==============================] - 10s 15ms/step - loss: 0.2059 - accuracy: 0.9406 - val_loss: 0.8733 - val_accuracy: 0.7336\n",
      "Epoch 23/30\n",
      "625/625 [==============================] - 9s 15ms/step - loss: 0.1836 - accuracy: 0.9505 - val_loss: 0.8057 - val_accuracy: 0.7487\n",
      "Epoch 24/30\n",
      "625/625 [==============================] - 9s 15ms/step - loss: 0.1673 - accuracy: 0.9560 - val_loss: 0.9819 - val_accuracy: 0.7154\n",
      "Epoch 25/30\n",
      "623/625 [============================>.] - ETA: 0s - loss: 0.1464 - accuracy: 0.9639"
     ]
    },
    {
     "name": "stderr",
     "output_type": "stream",
     "text": [
      "WARNING:absl:Found untraced functions such as _jit_compiled_convolution_op, _jit_compiled_convolution_op, _jit_compiled_convolution_op, _jit_compiled_convolution_op, _jit_compiled_convolution_op while saving (showing 5 of 10). These functions will not be directly callable after loading.\n"
     ]
    },
    {
     "name": "stdout",
     "output_type": "stream",
     "text": [
      "INFO:tensorflow:Assets written to: ckpt/Varying Pool Kernel Size\\4x4 Avg Pool\\assets\n"
     ]
    },
    {
     "name": "stderr",
     "output_type": "stream",
     "text": [
      "INFO:tensorflow:Assets written to: ckpt/Varying Pool Kernel Size\\4x4 Avg Pool\\assets\n"
     ]
    },
    {
     "name": "stdout",
     "output_type": "stream",
     "text": [
      "625/625 [==============================] - 12s 19ms/step - loss: 0.1463 - accuracy: 0.9639 - val_loss: 0.8301 - val_accuracy: 0.7526\n",
      "Epoch 26/30\n",
      "622/625 [============================>.] - ETA: 0s - loss: 0.1298 - accuracy: 0.9699"
     ]
    },
    {
     "name": "stderr",
     "output_type": "stream",
     "text": [
      "WARNING:absl:Found untraced functions such as _jit_compiled_convolution_op, _jit_compiled_convolution_op, _jit_compiled_convolution_op, _jit_compiled_convolution_op, _jit_compiled_convolution_op while saving (showing 5 of 10). These functions will not be directly callable after loading.\n"
     ]
    },
    {
     "name": "stdout",
     "output_type": "stream",
     "text": [
      "INFO:tensorflow:Assets written to: ckpt/Varying Pool Kernel Size\\4x4 Avg Pool\\assets\n"
     ]
    },
    {
     "name": "stderr",
     "output_type": "stream",
     "text": [
      "INFO:tensorflow:Assets written to: ckpt/Varying Pool Kernel Size\\4x4 Avg Pool\\assets\n"
     ]
    },
    {
     "name": "stdout",
     "output_type": "stream",
     "text": [
      "625/625 [==============================] - 12s 20ms/step - loss: 0.1297 - accuracy: 0.9699 - val_loss: 0.8369 - val_accuracy: 0.7558\n",
      "Epoch 27/30\n",
      "622/625 [============================>.] - ETA: 0s - loss: 0.1123 - accuracy: 0.9757"
     ]
    },
    {
     "name": "stderr",
     "output_type": "stream",
     "text": [
      "WARNING:absl:Found untraced functions such as _jit_compiled_convolution_op, _jit_compiled_convolution_op, _jit_compiled_convolution_op, _jit_compiled_convolution_op, _jit_compiled_convolution_op while saving (showing 5 of 10). These functions will not be directly callable after loading.\n"
     ]
    },
    {
     "name": "stdout",
     "output_type": "stream",
     "text": [
      "INFO:tensorflow:Assets written to: ckpt/Varying Pool Kernel Size\\4x4 Avg Pool\\assets\n"
     ]
    },
    {
     "name": "stderr",
     "output_type": "stream",
     "text": [
      "INFO:tensorflow:Assets written to: ckpt/Varying Pool Kernel Size\\4x4 Avg Pool\\assets\n"
     ]
    },
    {
     "name": "stdout",
     "output_type": "stream",
     "text": [
      "625/625 [==============================] - 12s 19ms/step - loss: 0.1124 - accuracy: 0.9755 - val_loss: 0.7868 - val_accuracy: 0.7640\n",
      "Epoch 28/30\n",
      "622/625 [============================>.] - ETA: 0s - loss: 0.0988 - accuracy: 0.9813"
     ]
    },
    {
     "name": "stderr",
     "output_type": "stream",
     "text": [
      "WARNING:absl:Found untraced functions such as _jit_compiled_convolution_op, _jit_compiled_convolution_op, _jit_compiled_convolution_op, _jit_compiled_convolution_op, _jit_compiled_convolution_op while saving (showing 5 of 10). These functions will not be directly callable after loading.\n"
     ]
    },
    {
     "name": "stdout",
     "output_type": "stream",
     "text": [
      "INFO:tensorflow:Assets written to: ckpt/Varying Pool Kernel Size\\4x4 Avg Pool\\assets\n"
     ]
    },
    {
     "name": "stderr",
     "output_type": "stream",
     "text": [
      "INFO:tensorflow:Assets written to: ckpt/Varying Pool Kernel Size\\4x4 Avg Pool\\assets\n"
     ]
    },
    {
     "name": "stdout",
     "output_type": "stream",
     "text": [
      "625/625 [==============================] - 12s 20ms/step - loss: 0.0988 - accuracy: 0.9814 - val_loss: 0.7578 - val_accuracy: 0.7697\n",
      "Epoch 29/30\n",
      "625/625 [==============================] - 10s 15ms/step - loss: 0.0856 - accuracy: 0.9860 - val_loss: 0.8241 - val_accuracy: 0.7644\n",
      "Epoch 30/30\n",
      "623/625 [============================>.] - ETA: 0s - loss: 0.0747 - accuracy: 0.9889"
     ]
    },
    {
     "name": "stderr",
     "output_type": "stream",
     "text": [
      "WARNING:absl:Found untraced functions such as _jit_compiled_convolution_op, _jit_compiled_convolution_op, _jit_compiled_convolution_op, _jit_compiled_convolution_op, _jit_compiled_convolution_op while saving (showing 5 of 10). These functions will not be directly callable after loading.\n"
     ]
    },
    {
     "name": "stdout",
     "output_type": "stream",
     "text": [
      "INFO:tensorflow:Assets written to: ckpt/Varying Pool Kernel Size\\4x4 Avg Pool\\assets\n"
     ]
    },
    {
     "name": "stderr",
     "output_type": "stream",
     "text": [
      "INFO:tensorflow:Assets written to: ckpt/Varying Pool Kernel Size\\4x4 Avg Pool\\assets\n"
     ]
    },
    {
     "name": "stdout",
     "output_type": "stream",
     "text": [
      "625/625 [==============================] - 12s 19ms/step - loss: 0.0747 - accuracy: 0.9889 - val_loss: 0.7646 - val_accuracy: 0.7758\n",
      "Epoch 1/30\n",
      "625/625 [==============================] - ETA: 0s - loss: 1.6104 - accuracy: 0.4176"
     ]
    },
    {
     "name": "stderr",
     "output_type": "stream",
     "text": [
      "WARNING:absl:Found untraced functions such as _jit_compiled_convolution_op, _jit_compiled_convolution_op, _jit_compiled_convolution_op, _jit_compiled_convolution_op, _jit_compiled_convolution_op while saving (showing 5 of 10). These functions will not be directly callable after loading.\n"
     ]
    },
    {
     "name": "stdout",
     "output_type": "stream",
     "text": [
      "INFO:tensorflow:Assets written to: ckpt/Varying Pool Kernel Size\\8x8 Avg Pool\\assets\n"
     ]
    },
    {
     "name": "stderr",
     "output_type": "stream",
     "text": [
      "INFO:tensorflow:Assets written to: ckpt/Varying Pool Kernel Size\\8x8 Avg Pool\\assets\n"
     ]
    },
    {
     "name": "stdout",
     "output_type": "stream",
     "text": [
      "625/625 [==============================] - 13s 19ms/step - loss: 1.6104 - accuracy: 0.4176 - val_loss: 1.4208 - val_accuracy: 0.4849\n",
      "Epoch 2/30\n",
      "623/625 [============================>.] - ETA: 0s - loss: 1.2959 - accuracy: 0.5339"
     ]
    },
    {
     "name": "stderr",
     "output_type": "stream",
     "text": [
      "WARNING:absl:Found untraced functions such as _jit_compiled_convolution_op, _jit_compiled_convolution_op, _jit_compiled_convolution_op, _jit_compiled_convolution_op, _jit_compiled_convolution_op while saving (showing 5 of 10). These functions will not be directly callable after loading.\n"
     ]
    },
    {
     "name": "stdout",
     "output_type": "stream",
     "text": [
      "INFO:tensorflow:Assets written to: ckpt/Varying Pool Kernel Size\\8x8 Avg Pool\\assets\n"
     ]
    },
    {
     "name": "stderr",
     "output_type": "stream",
     "text": [
      "INFO:tensorflow:Assets written to: ckpt/Varying Pool Kernel Size\\8x8 Avg Pool\\assets\n"
     ]
    },
    {
     "name": "stdout",
     "output_type": "stream",
     "text": [
      "625/625 [==============================] - 12s 20ms/step - loss: 1.2958 - accuracy: 0.5340 - val_loss: 1.2738 - val_accuracy: 0.5368\n",
      "Epoch 3/30\n",
      "625/625 [==============================] - ETA: 0s - loss: 1.1472 - accuracy: 0.5917"
     ]
    },
    {
     "name": "stderr",
     "output_type": "stream",
     "text": [
      "WARNING:absl:Found untraced functions such as _jit_compiled_convolution_op, _jit_compiled_convolution_op, _jit_compiled_convolution_op, _jit_compiled_convolution_op, _jit_compiled_convolution_op while saving (showing 5 of 10). These functions will not be directly callable after loading.\n"
     ]
    },
    {
     "name": "stdout",
     "output_type": "stream",
     "text": [
      "INFO:tensorflow:Assets written to: ckpt/Varying Pool Kernel Size\\8x8 Avg Pool\\assets\n"
     ]
    },
    {
     "name": "stderr",
     "output_type": "stream",
     "text": [
      "INFO:tensorflow:Assets written to: ckpt/Varying Pool Kernel Size\\8x8 Avg Pool\\assets\n"
     ]
    },
    {
     "name": "stdout",
     "output_type": "stream",
     "text": [
      "625/625 [==============================] - 12s 19ms/step - loss: 1.1472 - accuracy: 0.5917 - val_loss: 1.1523 - val_accuracy: 0.5883\n",
      "Epoch 4/30\n",
      "625/625 [==============================] - 9s 15ms/step - loss: 1.0418 - accuracy: 0.6321 - val_loss: 1.2203 - val_accuracy: 0.5601\n",
      "Epoch 5/30\n",
      "622/625 [============================>.] - ETA: 0s - loss: 0.9575 - accuracy: 0.6648"
     ]
    },
    {
     "name": "stderr",
     "output_type": "stream",
     "text": [
      "WARNING:absl:Found untraced functions such as _jit_compiled_convolution_op, _jit_compiled_convolution_op, _jit_compiled_convolution_op, _jit_compiled_convolution_op, _jit_compiled_convolution_op while saving (showing 5 of 10). These functions will not be directly callable after loading.\n"
     ]
    },
    {
     "name": "stdout",
     "output_type": "stream",
     "text": [
      "INFO:tensorflow:Assets written to: ckpt/Varying Pool Kernel Size\\8x8 Avg Pool\\assets\n"
     ]
    },
    {
     "name": "stderr",
     "output_type": "stream",
     "text": [
      "INFO:tensorflow:Assets written to: ckpt/Varying Pool Kernel Size\\8x8 Avg Pool\\assets\n"
     ]
    },
    {
     "name": "stdout",
     "output_type": "stream",
     "text": [
      "625/625 [==============================] - 12s 20ms/step - loss: 0.9579 - accuracy: 0.6645 - val_loss: 1.0573 - val_accuracy: 0.6292\n",
      "Epoch 6/30\n",
      "623/625 [============================>.] - ETA: 0s - loss: 0.8872 - accuracy: 0.6886"
     ]
    },
    {
     "name": "stderr",
     "output_type": "stream",
     "text": [
      "WARNING:absl:Found untraced functions such as _jit_compiled_convolution_op, _jit_compiled_convolution_op, _jit_compiled_convolution_op, _jit_compiled_convolution_op, _jit_compiled_convolution_op while saving (showing 5 of 10). These functions will not be directly callable after loading.\n"
     ]
    },
    {
     "name": "stdout",
     "output_type": "stream",
     "text": [
      "INFO:tensorflow:Assets written to: ckpt/Varying Pool Kernel Size\\8x8 Avg Pool\\assets\n"
     ]
    },
    {
     "name": "stderr",
     "output_type": "stream",
     "text": [
      "INFO:tensorflow:Assets written to: ckpt/Varying Pool Kernel Size\\8x8 Avg Pool\\assets\n"
     ]
    },
    {
     "name": "stdout",
     "output_type": "stream",
     "text": [
      "625/625 [==============================] - 12s 19ms/step - loss: 0.8871 - accuracy: 0.6886 - val_loss: 1.0150 - val_accuracy: 0.6388\n",
      "Epoch 7/30\n",
      "624/625 [============================>.] - ETA: 0s - loss: 0.8328 - accuracy: 0.7088"
     ]
    },
    {
     "name": "stderr",
     "output_type": "stream",
     "text": [
      "WARNING:absl:Found untraced functions such as _jit_compiled_convolution_op, _jit_compiled_convolution_op, _jit_compiled_convolution_op, _jit_compiled_convolution_op, _jit_compiled_convolution_op while saving (showing 5 of 10). These functions will not be directly callable after loading.\n"
     ]
    },
    {
     "name": "stdout",
     "output_type": "stream",
     "text": [
      "INFO:tensorflow:Assets written to: ckpt/Varying Pool Kernel Size\\8x8 Avg Pool\\assets\n"
     ]
    },
    {
     "name": "stderr",
     "output_type": "stream",
     "text": [
      "INFO:tensorflow:Assets written to: ckpt/Varying Pool Kernel Size\\8x8 Avg Pool\\assets\n"
     ]
    },
    {
     "name": "stdout",
     "output_type": "stream",
     "text": [
      "625/625 [==============================] - 12s 20ms/step - loss: 0.8330 - accuracy: 0.7087 - val_loss: 0.9907 - val_accuracy: 0.6577\n",
      "Epoch 8/30\n",
      "625/625 [==============================] - 10s 15ms/step - loss: 0.7863 - accuracy: 0.7254 - val_loss: 1.0685 - val_accuracy: 0.6379\n",
      "Epoch 9/30\n",
      "624/625 [============================>.] - ETA: 0s - loss: 0.7437 - accuracy: 0.7416"
     ]
    },
    {
     "name": "stderr",
     "output_type": "stream",
     "text": [
      "WARNING:absl:Found untraced functions such as _jit_compiled_convolution_op, _jit_compiled_convolution_op, _jit_compiled_convolution_op, _jit_compiled_convolution_op, _jit_compiled_convolution_op while saving (showing 5 of 10). These functions will not be directly callable after loading.\n"
     ]
    },
    {
     "name": "stdout",
     "output_type": "stream",
     "text": [
      "INFO:tensorflow:Assets written to: ckpt/Varying Pool Kernel Size\\8x8 Avg Pool\\assets\n"
     ]
    },
    {
     "name": "stderr",
     "output_type": "stream",
     "text": [
      "INFO:tensorflow:Assets written to: ckpt/Varying Pool Kernel Size\\8x8 Avg Pool\\assets\n"
     ]
    },
    {
     "name": "stdout",
     "output_type": "stream",
     "text": [
      "625/625 [==============================] - 12s 19ms/step - loss: 0.7439 - accuracy: 0.7415 - val_loss: 0.8778 - val_accuracy: 0.6919\n",
      "Epoch 10/30\n",
      "624/625 [============================>.] - ETA: 0s - loss: 0.7056 - accuracy: 0.7556"
     ]
    },
    {
     "name": "stderr",
     "output_type": "stream",
     "text": [
      "WARNING:absl:Found untraced functions such as _jit_compiled_convolution_op, _jit_compiled_convolution_op, _jit_compiled_convolution_op, _jit_compiled_convolution_op, _jit_compiled_convolution_op while saving (showing 5 of 10). These functions will not be directly callable after loading.\n"
     ]
    },
    {
     "name": "stdout",
     "output_type": "stream",
     "text": [
      "INFO:tensorflow:Assets written to: ckpt/Varying Pool Kernel Size\\8x8 Avg Pool\\assets\n"
     ]
    },
    {
     "name": "stderr",
     "output_type": "stream",
     "text": [
      "INFO:tensorflow:Assets written to: ckpt/Varying Pool Kernel Size\\8x8 Avg Pool\\assets\n"
     ]
    },
    {
     "name": "stdout",
     "output_type": "stream",
     "text": [
      "625/625 [==============================] - 12s 19ms/step - loss: 0.7055 - accuracy: 0.7556 - val_loss: 0.8544 - val_accuracy: 0.7010\n",
      "Epoch 11/30\n",
      "623/625 [============================>.] - ETA: 0s - loss: 0.6693 - accuracy: 0.7707"
     ]
    },
    {
     "name": "stderr",
     "output_type": "stream",
     "text": [
      "WARNING:absl:Found untraced functions such as _jit_compiled_convolution_op, _jit_compiled_convolution_op, _jit_compiled_convolution_op, _jit_compiled_convolution_op, _jit_compiled_convolution_op while saving (showing 5 of 10). These functions will not be directly callable after loading.\n"
     ]
    },
    {
     "name": "stdout",
     "output_type": "stream",
     "text": [
      "INFO:tensorflow:Assets written to: ckpt/Varying Pool Kernel Size\\8x8 Avg Pool\\assets\n"
     ]
    },
    {
     "name": "stderr",
     "output_type": "stream",
     "text": [
      "INFO:tensorflow:Assets written to: ckpt/Varying Pool Kernel Size\\8x8 Avg Pool\\assets\n"
     ]
    },
    {
     "name": "stdout",
     "output_type": "stream",
     "text": [
      "625/625 [==============================] - 12s 20ms/step - loss: 0.6695 - accuracy: 0.7706 - val_loss: 0.7791 - val_accuracy: 0.7231\n",
      "Epoch 12/30\n",
      "625/625 [==============================] - 10s 15ms/step - loss: 0.6380 - accuracy: 0.7809 - val_loss: 0.8075 - val_accuracy: 0.7209\n",
      "Epoch 13/30\n",
      "625/625 [==============================] - 9s 15ms/step - loss: 0.6066 - accuracy: 0.7911 - val_loss: 0.8305 - val_accuracy: 0.7108\n",
      "Epoch 14/30\n",
      "623/625 [============================>.] - ETA: 0s - loss: 0.5791 - accuracy: 0.8005"
     ]
    },
    {
     "name": "stderr",
     "output_type": "stream",
     "text": [
      "WARNING:absl:Found untraced functions such as _jit_compiled_convolution_op, _jit_compiled_convolution_op, _jit_compiled_convolution_op, _jit_compiled_convolution_op, _jit_compiled_convolution_op while saving (showing 5 of 10). These functions will not be directly callable after loading.\n"
     ]
    },
    {
     "name": "stdout",
     "output_type": "stream",
     "text": [
      "INFO:tensorflow:Assets written to: ckpt/Varying Pool Kernel Size\\8x8 Avg Pool\\assets\n"
     ]
    },
    {
     "name": "stderr",
     "output_type": "stream",
     "text": [
      "INFO:tensorflow:Assets written to: ckpt/Varying Pool Kernel Size\\8x8 Avg Pool\\assets\n"
     ]
    },
    {
     "name": "stdout",
     "output_type": "stream",
     "text": [
      "625/625 [==============================] - 12s 19ms/step - loss: 0.5792 - accuracy: 0.8004 - val_loss: 0.7839 - val_accuracy: 0.7341\n",
      "Epoch 15/30\n",
      "625/625 [==============================] - 10s 15ms/step - loss: 0.5514 - accuracy: 0.8114 - val_loss: 0.8071 - val_accuracy: 0.7217\n",
      "Epoch 16/30\n",
      "625/625 [==============================] - 9s 15ms/step - loss: 0.5242 - accuracy: 0.8213 - val_loss: 0.8076 - val_accuracy: 0.7304\n",
      "Epoch 17/30\n",
      "625/625 [==============================] - ETA: 0s - loss: 0.4996 - accuracy: 0.8308"
     ]
    },
    {
     "name": "stderr",
     "output_type": "stream",
     "text": [
      "WARNING:absl:Found untraced functions such as _jit_compiled_convolution_op, _jit_compiled_convolution_op, _jit_compiled_convolution_op, _jit_compiled_convolution_op, _jit_compiled_convolution_op while saving (showing 5 of 10). These functions will not be directly callable after loading.\n"
     ]
    },
    {
     "name": "stdout",
     "output_type": "stream",
     "text": [
      "INFO:tensorflow:Assets written to: ckpt/Varying Pool Kernel Size\\8x8 Avg Pool\\assets\n"
     ]
    },
    {
     "name": "stderr",
     "output_type": "stream",
     "text": [
      "INFO:tensorflow:Assets written to: ckpt/Varying Pool Kernel Size\\8x8 Avg Pool\\assets\n"
     ]
    },
    {
     "name": "stdout",
     "output_type": "stream",
     "text": [
      "625/625 [==============================] - 12s 19ms/step - loss: 0.4996 - accuracy: 0.8308 - val_loss: 0.7389 - val_accuracy: 0.7479\n",
      "Epoch 18/30\n",
      "625/625 [==============================] - 10s 15ms/step - loss: 0.4777 - accuracy: 0.8367 - val_loss: 0.7558 - val_accuracy: 0.7400\n",
      "Epoch 19/30\n",
      "625/625 [==============================] - ETA: 0s - loss: 0.4540 - accuracy: 0.8489"
     ]
    },
    {
     "name": "stderr",
     "output_type": "stream",
     "text": [
      "WARNING:absl:Found untraced functions such as _jit_compiled_convolution_op, _jit_compiled_convolution_op, _jit_compiled_convolution_op, _jit_compiled_convolution_op, _jit_compiled_convolution_op while saving (showing 5 of 10). These functions will not be directly callable after loading.\n"
     ]
    },
    {
     "name": "stdout",
     "output_type": "stream",
     "text": [
      "INFO:tensorflow:Assets written to: ckpt/Varying Pool Kernel Size\\8x8 Avg Pool\\assets\n"
     ]
    },
    {
     "name": "stderr",
     "output_type": "stream",
     "text": [
      "INFO:tensorflow:Assets written to: ckpt/Varying Pool Kernel Size\\8x8 Avg Pool\\assets\n"
     ]
    },
    {
     "name": "stdout",
     "output_type": "stream",
     "text": [
      "625/625 [==============================] - 12s 19ms/step - loss: 0.4540 - accuracy: 0.8489 - val_loss: 0.7059 - val_accuracy: 0.7587\n",
      "Epoch 20/30\n",
      "625/625 [==============================] - 10s 15ms/step - loss: 0.4270 - accuracy: 0.8578 - val_loss: 0.7213 - val_accuracy: 0.7524\n",
      "Epoch 21/30\n",
      "625/625 [==============================] - ETA: 0s - loss: 0.4080 - accuracy: 0.8639"
     ]
    },
    {
     "name": "stderr",
     "output_type": "stream",
     "text": [
      "WARNING:absl:Found untraced functions such as _jit_compiled_convolution_op, _jit_compiled_convolution_op, _jit_compiled_convolution_op, _jit_compiled_convolution_op, _jit_compiled_convolution_op while saving (showing 5 of 10). These functions will not be directly callable after loading.\n"
     ]
    },
    {
     "name": "stdout",
     "output_type": "stream",
     "text": [
      "INFO:tensorflow:Assets written to: ckpt/Varying Pool Kernel Size\\8x8 Avg Pool\\assets\n"
     ]
    },
    {
     "name": "stderr",
     "output_type": "stream",
     "text": [
      "INFO:tensorflow:Assets written to: ckpt/Varying Pool Kernel Size\\8x8 Avg Pool\\assets\n"
     ]
    },
    {
     "name": "stdout",
     "output_type": "stream",
     "text": [
      "625/625 [==============================] - 12s 19ms/step - loss: 0.4080 - accuracy: 0.8639 - val_loss: 0.6906 - val_accuracy: 0.7681\n",
      "Epoch 22/30\n",
      "625/625 [==============================] - 10s 15ms/step - loss: 0.3856 - accuracy: 0.8715 - val_loss: 0.7073 - val_accuracy: 0.7606\n",
      "Epoch 23/30\n",
      "625/625 [==============================] - 9s 15ms/step - loss: 0.3638 - accuracy: 0.8803 - val_loss: 0.7606 - val_accuracy: 0.7487\n",
      "Epoch 24/30\n",
      "625/625 [==============================] - 9s 15ms/step - loss: 0.3450 - accuracy: 0.8869 - val_loss: 0.8005 - val_accuracy: 0.7458\n",
      "Epoch 25/30\n",
      "625/625 [==============================] - 9s 15ms/step - loss: 0.3250 - accuracy: 0.8931 - val_loss: 0.7194 - val_accuracy: 0.7640\n",
      "Epoch 26/30\n",
      "625/625 [==============================] - 9s 15ms/step - loss: 0.3023 - accuracy: 0.9020 - val_loss: 0.7625 - val_accuracy: 0.7524\n",
      "Epoch 27/30\n",
      "625/625 [==============================] - 9s 15ms/step - loss: 0.2844 - accuracy: 0.9107 - val_loss: 0.7838 - val_accuracy: 0.7471\n",
      "Epoch 28/30\n",
      "625/625 [==============================] - 9s 15ms/step - loss: 0.2672 - accuracy: 0.9162 - val_loss: 0.8300 - val_accuracy: 0.7383\n",
      "Epoch 29/30\n",
      "625/625 [==============================] - 9s 15ms/step - loss: 0.2507 - accuracy: 0.9229 - val_loss: 0.7469 - val_accuracy: 0.7644\n",
      "Epoch 30/30\n",
      "622/625 [============================>.] - ETA: 0s - loss: 0.2321 - accuracy: 0.9298"
     ]
    },
    {
     "name": "stderr",
     "output_type": "stream",
     "text": [
      "WARNING:absl:Found untraced functions such as _jit_compiled_convolution_op, _jit_compiled_convolution_op, _jit_compiled_convolution_op, _jit_compiled_convolution_op, _jit_compiled_convolution_op while saving (showing 5 of 10). These functions will not be directly callable after loading.\n"
     ]
    },
    {
     "name": "stdout",
     "output_type": "stream",
     "text": [
      "INFO:tensorflow:Assets written to: ckpt/Varying Pool Kernel Size\\8x8 Avg Pool\\assets\n"
     ]
    },
    {
     "name": "stderr",
     "output_type": "stream",
     "text": [
      "INFO:tensorflow:Assets written to: ckpt/Varying Pool Kernel Size\\8x8 Avg Pool\\assets\n"
     ]
    },
    {
     "name": "stdout",
     "output_type": "stream",
     "text": [
      "625/625 [==============================] - 12s 19ms/step - loss: 0.2324 - accuracy: 0.9296 - val_loss: 0.7240 - val_accuracy: 0.7692\n"
     ]
    }
   ],
   "source": [
    "# Augmenting on the fly with datagen.flow()\n",
    "batch_size=64\n",
    "epochs=30\n",
    "\n",
    "# For running multiple networks at the same time, create dictionary to store history values and lists to store all other info\n",
    "histories = {}\n",
    "keys = [param_1, param_2, param_3] #, param_4\n",
    "models = [resnet_model_1, resnet_model_2, resnet_model_3] #, resnet_model_4\n",
    "checkpoints = [model_checkpoint_callback_1, model_checkpoint_callback_2, model_checkpoint_callback_3] #, model_checkpoint_callback_4\n",
    "# Explain whats happening here!!!\n",
    "for i in range(len(models)):\n",
    "# Directly use .flow() to load our dataset in batches for training\n",
    "    histories[keys[i]] = models[i].fit(datagen.flow(X_train, Y_train, batch_size=batch_size), \n",
    "                                    epochs = epochs, # set number of epochs\n",
    "                                    steps_per_epoch = X_train.shape[0]//batch_size, # number of images composing one epoch\n",
    "                                    validation_data = (X_val, Y_val), # data for validation\n",
    "                                    callbacks=[checkpoints[i]], # model checkpoint\n",
    "                                    verbose=1)"
   ]
  },
  {
   "cell_type": "code",
   "execution_count": 194,
   "id": "20c1c13c-94ec-4db0-bd63-d9fab2a944a5",
   "metadata": {},
   "outputs": [],
   "source": [
    "# resnet_history = resnet_model.fit(X_train, Y_train, batch_size=64, epochs=10, verbose=1, validation_data=(X_val, Y_val))\n"
   ]
  },
  {
   "cell_type": "code",
   "execution_count": 195,
   "id": "d57c86c0-89d5-4354-bf65-b85ab9afc86e",
   "metadata": {},
   "outputs": [
    {
     "data": {
      "image/png": "[encoded data removed]",
      "text/plain": [
       "<Figure size 640x480 with 1 Axes>"
      ]
     },
     "metadata": {},
     "output_type": "display_data"
    },
    {
     "data": {
      "image/png": "[encoded data removed]",
      "text/plain": [
       "<Figure size 640x480 with 1 Axes>"
      ]
     },
     "metadata": {},
     "output_type": "display_data"
    }
   ],
   "source": [
    "# Plot accuracy and loss\n",
    "# accuracy_title = title + ' Accuracy'\n",
    "# loss_title = title + ' Loss'\n",
    "# plot_accuracy(resnet_history, accuracy_title)\n",
    "# plot_loss(resnet_history, loss_title)\n",
    "\n",
    "# Plot all models' accuracies and losses on the same graph:\n",
    "plot_multiple_accuracies(histories, title)\n",
    "plot_multiple_losses(histories, title)"
   ]
  },
  {
   "cell_type": "code",
   "execution_count": 196,
   "id": "f7c1672b-ff0f-4d37-a851-99c4ebca920e",
   "metadata": {},
   "outputs": [],
   "source": [
    "# Load the model with the maximum validation accuracy from checkpoint on disk\n",
    "test_model_1 = tf.keras.models.load_model(checkpoint_filepath_1)\n",
    "test_model_2 = tf.keras.models.load_model(checkpoint_filepath_2)\n",
    "test_model_3 = tf.keras.models.load_model(checkpoint_filepath_3)\n",
    "test_model_4 = tf.keras.models.load_model(checkpoint_filepath_4)"
   ]
  },
  {
   "cell_type": "code",
   "execution_count": 197,
   "id": "b75da5b5",
   "metadata": {},
   "outputs": [
    {
     "name": "stdout",
     "output_type": "stream",
     "text": [
      "Varying Pool Kernel Size:\n",
      "Test Accuracy: 75.16%\n",
      "Test Accuracy: 75.92%\n",
      "Test Accuracy: 76.40%\n"
     ]
    }
   ],
   "source": [
    "# Evaluate test set using best version of each model and save outputs to a file\n",
    "print(title + ':')\n",
    "accuracy_list = []\n",
    "for i in range(len(models)):\n",
    "    accuracy_list.append(evaluate_model(models[i], X_test, Y_test))\n",
    "\n",
    "with open(\"Test_Accuracy.txt\", 'a') as file:\n",
    "    file_title = title + ':\\n'\n",
    "    file.write(file_title)\n",
    "    for i in range(len(accuracy_list)):\n",
    "        acc_string = str(keys[i]) + '\\t' + str(accuracy_list[i]) + '\\n'\n",
    "        file.write(acc_string)\n",
    "    file.write('\\n')"
   ]
  },
  {
   "cell_type": "code",
   "execution_count": 198,
   "id": "39d3d353-8e23-4514-95f8-93656db323d0",
   "metadata": {},
   "outputs": [],
   "source": [
    "# from playsound import playsound\n",
    "# playsound(\"GOT TO GO.mp3\")\n",
    "# playsound(\"GOT TO GO.mp3\")\n",
    "# playsound(\"GOT TO GO.mp3\")"
   ]
  },
  {
   "cell_type": "code",
   "execution_count": 199,
   "id": "6c96f168",
   "metadata": {},
   "outputs": [],
   "source": [
    "# Extra setup for loading specific models and evaluating\n",
    "# test_model = tf.keras.models.load_model(\"ckpt\\Baseline ResNet Model\\Baseline\")\n",
    "# evaluate_model(test_model, X_test, Y_test)"
   ]
  }
 ],
 "metadata": {
  "kernelspec": {
   "display_name": "Python 3 (ipykernel)",
   "language": "python",
   "name": "python3"
  },
  "language_info": {
   "codemirror_mode": {
    "name": "ipython",
    "version": 3
   },
   "file_extension": ".py",
   "mimetype": "text/x-python",
   "name": "python",
   "nbconvert_exporter": "python",
   "pygments_lexer": "ipython3",
   "version": "3.9.19"
  }
 },
 "nbformat": 4,
 "nbformat_minor": 5
}
