{
 "cells": [
  {
   "cell_type": "code",
   "execution_count": 1,
   "id": "b81209df-79ac-426a-8419-a29c2bd1baa6",
   "metadata": {},
   "outputs": [],
   "source": [
    "# # QC tensorflow installation\n",
    "# import tensorflow as tf\n",
    "# import keras\n",
    "# print(tf.__version__)\n",
    "# print(keras.__version__)\n",
    "\n",
    "# Command Space\n",
    "# %"
   ]
  },
  {
   "cell_type": "markdown",
   "id": "7dac8b42-d252-4718-af26-0c9c3b436a75",
   "metadata": {},
   "source": [
    "## Import Libraries"
   ]
  },
  {
   "cell_type": "code",
   "execution_count": 2,
   "id": "361e577f-7ec1-46cf-b375-9140a936f494",
   "metadata": {},
   "outputs": [],
   "source": [
    "# Import required libraries\n",
    "import numpy as np\n",
    "import tensorflow as tf\n",
    "# from tensorflow.keras.datasets import cifar10\n",
    "from tensorflow.keras.utils import to_categorical\n",
    "import os"
   ]
  },
  {
   "cell_type": "markdown",
   "id": "adaf2235-c57c-43bd-90ec-f7e5b761d31f",
   "metadata": {},
   "source": [
    "## Load CIFAR-10 Dataset"
   ]
  },
  {
   "cell_type": "markdown",
   "id": "a097b531-e0bf-47b4-9095-4db98a8b1bc4",
   "metadata": {},
   "source": [
    "We load the CIFAR-10 dataset, perform some preprocessing like normalization and one hot encoding of labels/targets."
   ]
  },
  {
   "cell_type": "code",
   "execution_count": 3,
   "id": "f5cf2a0e-283f-4cb9-ac73-1a70c2a4c460",
   "metadata": {},
   "outputs": [],
   "source": [
    "import numpy as np\n",
    "import os\n",
    "\n",
    "def unpickle(file):\n",
    "    import pickle\n",
    "    with open(file, 'rb') as fo:\n",
    "        dict = pickle.load(fo, encoding='bytes')\n",
    "    return dict\n",
    "\n",
    "def load_cifar10_train_test(data_dir):\n",
    "    \"\"\"\n",
    "    Function to load CIFAR-10 training and test data.\n",
    "\n",
    "    Args:\n",
    "    data_dir (str): Path to the directory containing CIFAR-10 data files.\n",
    "\n",
    "    Returns:\n",
    "    X_train (ndarray): Training data features\n",
    "    Y_train (ndarray): Training data labels\n",
    "    X_test (ndarray): Test data features\n",
    "    Y_test (ndarray): Test data labels\n",
    "    \"\"\"\n",
    "    X_train = []\n",
    "    Y_train = []\n",
    "\n",
    "    for i in range(1, 6):  # Load training data from 5 batches\n",
    "        batch_file = os.path.join(data_dir, 'data_batch_' + str(i))\n",
    "        batch_data = unpickle(batch_file)\n",
    "        X_train.append(batch_data[b'data'])\n",
    "        Y_train += batch_data[b'labels']\n",
    "\n",
    "    X_train = np.concatenate(X_train, axis=0)\n",
    "    Y_train = np.array(Y_train)\n",
    "\n",
    "    # Load test data from the test batch\n",
    "    test_batch_file = os.path.join(data_dir, 'test_batch')\n",
    "    test_batch_data = unpickle(test_batch_file)\n",
    "\n",
    "    X_test = test_batch_data[b'data']\n",
    "    Y_test = np.array(test_batch_data[b'labels'])\n",
    "\n",
    "    # Reshaping and re-arranging color channels to represent RGB image required as input to CNN\n",
    "    # Reshape to (50000, 3, 32, 32) and move the color channel axis to the last dimension\n",
    "    X_train = X_train.reshape(-1, 3, 32, 32).transpose(0, 2, 3, 1)\n",
    "    X_test = X_test.reshape(-1, 3, 32, 32).transpose(0, 2, 3, 1)\n",
    "\n",
    "    return X_train, Y_train, X_test, Y_test\n"
   ]
  },
  {
   "cell_type": "markdown",
   "id": "f625c3d2-ee3b-4220-abc6-4d06361e2216",
   "metadata": {},
   "source": [
    "Create validation data from train set (20% split):"
   ]
  },
  {
   "cell_type": "code",
   "execution_count": 4,
   "id": "24a6ac71-a72e-4d96-bc86-2b87d9502d22",
   "metadata": {},
   "outputs": [],
   "source": [
    "from sklearn.model_selection import train_test_split\n",
    "\n",
    "# Directory containing CIFAR-10 data files\n",
    "data_dir = 'dataset\\cifar-10-python\\cifar-10-batches-py'\n",
    "\n",
    "# Load CIFAR-10 training and test data\n",
    "X_train, Y_train, X_test, Y_test = load_cifar10_train_test(data_dir)\n",
    "\n",
    "# Split the training data into training and validation sets\n",
    "X_train, X_val, Y_train, Y_val = train_test_split(X_train, Y_train, test_size=0.2, random_state=42)"
   ]
  },
  {
   "cell_type": "code",
   "execution_count": 5,
   "id": "6d50c0cf-998d-443e-8ac9-3eb806bc3fc2",
   "metadata": {},
   "outputs": [
    {
     "name": "stdout",
     "output_type": "stream",
     "text": [
      "Train Set:\n",
      "X_train shape:  (40000, 32, 32, 3)\n",
      "Y_train shape:  (40000,)\n",
      "Validation Set:\n",
      "X_val shape:  (10000, 32, 32, 3)\n",
      "Y_val shape:  (10000,)\n",
      "Test Set:\n",
      "X_test shape:  (10000, 32, 32, 3)\n",
      "Y_test shape:  (10000,)\n"
     ]
    }
   ],
   "source": [
    "# Ensuring we parsed the data correctly:\n",
    "print('Train Set:')\n",
    "print('X_train shape: ', X_train.shape)\n",
    "print('Y_train shape: ', Y_train.shape)\n",
    "print('Validation Set:')\n",
    "print('X_val shape: ', X_val.shape)\n",
    "print('Y_val shape: ', Y_val.shape)\n",
    "print('Test Set:')\n",
    "print('X_test shape: ', X_test.shape)\n",
    "print('Y_test shape: ', Y_test.shape)"
   ]
  },
  {
   "cell_type": "code",
   "execution_count": null,
   "id": "b7bbbb3d-d1ed-4869-9304-91bc93d7bdfe",
   "metadata": {},
   "outputs": [],
   "source": []
  },
  {
   "cell_type": "markdown",
   "id": "582e8395-050d-4301-b644-10132f9ef65b",
   "metadata": {},
   "source": [
    "### Setup ImageDataGenerator"
   ]
  },
  {
   "cell_type": "markdown",
   "id": "d5dd1f67-0177-4f1b-8b5f-1cb04f8b2005",
   "metadata": {},
   "source": [
    "In order to make the most of fewer training examples, we will \"augment\" them via a number of random transformations, so that our model would never see twice the exact same picture. This helps prevent overfitting and helps the model generalize better.\n",
    "\n",
    "NOTE: ImageDataGenerator will NOT add new images to your data set in a sense that it will not make your epochs bigger. Instead, in each epoch it will provide slightly altered images (depending on your configuration). It will always generate new images, no matter how many epochs you have.\n",
    "\n",
    "So in each epoch model will train on different images, but not too different. This should prevent overfitting and in some way simulates online learning."
   ]
  },
  {
   "cell_type": "code",
   "execution_count": 6,
   "id": "53a45da3-7b78-47b5-94ea-e0f1c5b553ce",
   "metadata": {},
   "outputs": [],
   "source": [
    "from keras.preprocessing.image import ImageDataGenerator\n",
    "\n",
    "# Construct the training image generator for data augmentation\n",
    "# datagen = ImageDataGenerator(\n",
    "#         rotation_range=10, # rotation\n",
    "#         width_shift_range=0.2, # horizontal shift\n",
    "#         height_shift_range=0.2, # vertical shift\n",
    "#         zoom_range=0.2, # zoom\n",
    "#         horizontal_flip=True, # horizontal flip\n",
    "#         # brightness_range=[0.2,1.0] # brightness\n",
    "# )\n",
    "\n",
    "# For purposes of creating a baseline, construct empty ImageDataGenerator\n",
    "datagen = ImageDataGenerator()"
   ]
  },
  {
   "cell_type": "code",
   "execution_count": 7,
   "id": "17205f2c-7c42-400c-b04d-fd5224108345",
   "metadata": {},
   "outputs": [
    {
     "data": {
      "image/png": "[encoded data removed]",
      "text/plain": [
       "<Figure size 640x480 with 9 Axes>"
      ]
     },
     "metadata": {},
     "output_type": "display_data"
    }
   ],
   "source": [
    "# Example of image augmentation on sample image:\n",
    "from numpy import expand_dims\n",
    "from tensorflow.keras.preprocessing.image import load_img\n",
    "from tensorflow.keras.preprocessing.image import img_to_array\n",
    "from matplotlib import pyplot\n",
    "\n",
    "\n",
    "img = load_img('bird.jpeg') # load image\n",
    "data = img_to_array(img) # convert to numpy array\n",
    "samples = expand_dims(data, 0) # expand dimension to one sample\n",
    "\n",
    "# Prepare iterator\n",
    "it = datagen.flow(samples, batch_size=1)\n",
    "\n",
    "# Generate samples and plot\n",
    "for i in range(9):\n",
    "    pyplot.subplot(330 + 1 + i) # define subplot\n",
    "    batch = it.next() # generate batch of images\n",
    "    image = batch[0].astype('uint8') # convert to unsigned integers\n",
    "    pyplot.imshow(image)\n",
    "\n",
    "# show the figure\n",
    "pyplot.show()\n",
    "# Adapted code for displaying augmentation results: https://machinelearningmastery.com/how-to-configure-image-data-augmentation-when-training-deep-learning-neural-networks/"
   ]
  },
  {
   "cell_type": "markdown",
   "id": "cbeeb566-5b54-44c9-ab65-1a744b38d38f",
   "metadata": {},
   "source": [
    "### Pre-processing dataset"
   ]
  },
  {
   "cell_type": "code",
   "execution_count": 8,
   "id": "9e7c5089-eebb-40a6-b6e1-f5d6213d1f19",
   "metadata": {},
   "outputs": [],
   "source": [
    "# Normalize the data\n",
    "X_train = X_train / 255.0\n",
    "X_test = X_test / 255.0\n",
    "X_val = X_val / 255.0\n",
    "\n",
    "# One-hot encode the labels\n",
    "Y_train = to_categorical(Y_train, 10)\n",
    "Y_test = to_categorical(Y_test, 10)\n",
    "Y_val = to_categorical(Y_val, 10)"
   ]
  },
  {
   "cell_type": "markdown",
   "id": "8e4ce6fe-5790-4b37-ab5b-a5e74b2e2170",
   "metadata": {},
   "source": [
    "## Build and Train Model"
   ]
  },
  {
   "cell_type": "markdown",
   "id": "f61736cc-8513-4578-aa91-2b7057c078e3",
   "metadata": {},
   "source": [
    "The following cell has the supporting utility functions to plot accuracy curves, loss curves from training process and final evaluation of the classification model. I have provided inline comments explaining purpose of each function and code used. "
   ]
  },
  {
   "cell_type": "code",
   "execution_count": 9,
   "id": "2348212c-b019-4fe2-bf4f-f8eda7e7c5bf",
   "metadata": {},
   "outputs": [],
   "source": [
    "# Import required libraries\n",
    "import matplotlib.pyplot as plt\n",
    "\n",
    "def plot_accuracy(history, title):\n",
    "    \"\"\"\n",
    "    Function to plot accuracy curves for both training and validation sets.\n",
    "\n",
    "    Args:\n",
    "    history (History): Keras History object containing training history\n",
    "    title (str): Title of the plot\n",
    "    \"\"\"\n",
    "    plt.plot(history.history['accuracy'], label='train_accuracy')\n",
    "    plt.plot(history.history['val_accuracy'], label='val_accuracy')\n",
    "    plt.title(title + \" Accuracy\")\n",
    "    plt.xlabel('Epoch')\n",
    "    plt.ylabel('Accuracy')\n",
    "    plt.legend(loc='lower right')\n",
    "    save_plot(plt, title)\n",
    "    plt.show()\n",
    "    \n",
    "def plot_multiple_accuracies(models, title):\n",
    "    \"\"\"\n",
    "    Function to plot accuracy curves for both training and validation sets of multiple models at once.\n",
    "\n",
    "    Args:\n",
    "    models (Dictionary): Contains Keras History objects with training history assigned by keys that pertain to the hyperparameter value used\n",
    "    title (str): Title of the plot\n",
    "    \"\"\"\n",
    "    for key in models.keys():\n",
    "        history = models[key]\n",
    "        plt.plot(history.history['accuracy'], label='train_accuracy' + \"_\" + key)\n",
    "        plt.plot(history.history['val_accuracy'], label='val_accuracy' + \"_\" + key)\n",
    "    plt.title(title + \" Accuracy\")\n",
    "    plt.xlabel('Epoch')\n",
    "    plt.ylabel('Accuracy')\n",
    "    plt.legend(loc='lower right')\n",
    "    save_plot(plt, title)\n",
    "    plt.show()\n",
    "\n",
    "def plot_loss(history, title):\n",
    "    \"\"\"\n",
    "    Function to plot loss curves for both training and validation sets.\n",
    "\n",
    "    Args:\n",
    "    history (History): Keras History object containing training history\n",
    "    title (str): Title of the plot\n",
    "    \"\"\"\n",
    "    plt.plot(history.history['loss'], label='train_loss')\n",
    "    plt.plot(history.history['val_loss'], label='val_loss')\n",
    "    plt.title(title + \" Loss\")\n",
    "    plt.xlabel('Epoch')\n",
    "    plt.ylabel('Loss')\n",
    "    plt.legend(loc='upper right')\n",
    "    save_plot(plt, title)\n",
    "    plt.show()\n",
    "    \n",
    "def plot_multiple_losses(models, title):\n",
    "    \"\"\"\n",
    "    Function to plot loss curves for both training and validation sets.\n",
    "\n",
    "    Args:\n",
    "    models (Dictionary): Contains Keras History objects with training history assigned by keys that pertain to the hyperparameter value used\n",
    "    title (str): Title of the plot\n",
    "    \"\"\"\n",
    "    for key in models.keys():\n",
    "        history = models[key]\n",
    "        plt.plot(history.history['loss'], label='train_loss' + \"_\" + key)\n",
    "        plt.plot(history.history['val_loss'], label='val_loss' + \"_\" + key)\n",
    "    plt.title(title + \" Loss\")\n",
    "    plt.xlabel('Epoch')\n",
    "    plt.ylabel('Loss')\n",
    "    plt.legend(loc='upper right')\n",
    "    save_plot(plt, title)\n",
    "    plt.show()\n",
    "\n",
    "def evaluate_model(model, X_test, Y_test):\n",
    "    \"\"\"\n",
    "    Function to evaluate the performance of a trained model on the test dataset.\n",
    "\n",
    "    Args:\n",
    "    model (Sequential): Trained Keras model\n",
    "    X_test (ndarray): Test dataset features\n",
    "    Y_test (ndarray): One-hot encoded labels for test dataset\n",
    "    \"\"\"\n",
    "    _, accuracy = model.evaluate(X_test, Y_test, verbose=0)\n",
    "    print(\"Test Accuracy: %.2f%%\" % (accuracy * 100))\n",
    "    return accuracy * 100\n",
    "    \n",
    "def save_plot(plt, name):\n",
    "    \"\"\"\n",
    "    Function to save a plot. Call function before plt.show().\n",
    "\n",
    "    Args:\n",
    "    plt (matplotlib.pyplot object): Plot to save\n",
    "    name (String): A String for the name of the output file. Cannot contain spaces\n",
    "    \"\"\"\n",
    "    filepath = \"Graphs/\" + name\n",
    "    # if os.path.isfile(filepath):\n",
    "    #     filepath += \"_second\"\n",
    "    #     print(\"Same filename. Please alter the params_string. You will not get another warning before losing figures!!\")\n",
    "    plt.savefig(filepath)\n"
   ]
  },
  {
   "cell_type": "code",
   "execution_count": 10,
   "id": "af83176a-7b41-4e0a-abf1-b774e13d1eda",
   "metadata": {},
   "outputs": [],
   "source": [
    "from tensorflow.keras.layers import Input, Add, Activation, AveragePooling2D, BatchNormalization\n",
    "from tensorflow.keras.layers import Conv2D, MaxPooling2D, Dense, Flatten, Dropout\n",
    "from tensorflow.keras.regularizers import l2\n",
    "from tensorflow.keras.models import Model\n",
    "\n",
    "def resnet_block(inputs, filters, kernel_size, strides, skip_kernel_size=(1, 1), activation='relu', num_layers=2):\n",
    "    \"\"\"\n",
    "    Function to create a single ResNet block.\n",
    "\n",
    "    Args:\n",
    "    inputs (tensor): Input tensor\n",
    "    filters (int): Number of filters in the convolutional layers\n",
    "    kernel_size (int or tuple): Size of the convolutional kernel\n",
    "    strides (int or tuple): Strides of the convolutional kernel\n",
    "    skip_kernel_size (int or tuple): Size of the skip connection kernel\n",
    "    activation (str): Activation function to use\n",
    "    num_layers (int): Number of convolutional layers per block\n",
    "\n",
    "    Returns:\n",
    "    tensor: Output tensor of the ResNet block\n",
    "    \"\"\"\n",
    "    shortcut = inputs\n",
    "\n",
    "    # Create initial convolutional layer and batch normalization without an activation layer afterwards\n",
    "    x = Conv2D(filters, kernel_size, strides=strides, padding='same', kernel_initializer='he_normal')(inputs)\n",
    "    x = BatchNormalization()(x)\n",
    "    \n",
    "    # Create (num_layers - 1) convolutional layers with activation layer beforehand\n",
    "    # Final layer does not have an activation layer as desired\n",
    "    if num_layers > 1:\n",
    "        for i in range(num_layers - 1):\n",
    "            x = Activation(activation)(x)\n",
    "            x = Conv2D(filters, kernel_size, padding='same', kernel_initializer='he_normal')(x)\n",
    "            x = BatchNormalization()(x)\n",
    "    \n",
    "\n",
    "    # Shortcut connection\n",
    "    if strides != 1 or inputs.shape[-1] != filters:\n",
    "        # change (1,1) to variable (the kernel size in the ith skip connection)\n",
    "        shortcut = Conv2D(filters, skip_kernel_size, strides=strides, padding='same', kernel_initializer='he_normal')(inputs)\n",
    "        shortcut = BatchNormalization()(shortcut)\n",
    "\n",
    "    x = Add()([x, shortcut])\n",
    "    x = Activation(activation)(x)\n",
    "    return x\n",
    "\n",
    "def build_resnet(init_filters=64, res_layers=[2, 2], conv_kernel_size=(3,3), skip_kernel_size=(1, 1), conv_per_layer=2, pool_size=(8, 8), optimizer='adam'):\n",
    "    \"\"\"\n",
    "    Function to build a ResNet model using multiple Resnet style blocks.\n",
    "    \n",
    "    Args:\n",
    "    init_filters (int): Number of filters in the first layer\n",
    "    r_layers (list of ints): Network architecture as a list where the length of the list is the number of Residual Layers and the value of each element is the number of blocks in that layer\n",
    "    conv_kernel_size (int or tuple): Size of the convolutional kernel\n",
    "    skip_kernel_size (int or tuple): Size of the skip connection kernel\n",
    "    conv_per_layer (int): Number of convolutional layers per residual block\n",
    "    pool_size (int or tuple): Size of the pooling layer\n",
    "    optimizer (String): Acceptable keras optimizers such as SGD or adam\n",
    "\n",
    "    Returns:\n",
    "    model (Model): Compiled ResNet model\n",
    "    \"\"\"\n",
    "    inputs = Input(shape=(32, 32, 3))\n",
    "    num_filters = init_filters\n",
    "    num_blocks_list = res_layers  # ResNet Style architecture for CIFAR-10\n",
    "\n",
    "    x = Conv2D(num_filters, conv_kernel_size, padding='same', kernel_initializer='he_normal')(inputs)\n",
    "    x = BatchNormalization()(x)\n",
    "    x = Activation('relu')(x)\n",
    "\n",
    "    # Add ResNet blocks\n",
    "    for i, num_blocks in enumerate(num_blocks_list):\n",
    "        for j in range(num_blocks):\n",
    "            strides = 1\n",
    "            if i > 0 and j == 0:  # Downsample at the beginning of each stage\n",
    "                strides = 2\n",
    "            x = resnet_block(x, num_filters, conv_kernel_size, strides, skip_kernel_size=skip_kernel_size, num_layers=conv_per_layer)\n",
    "\n",
    "        num_filters *= 2  # Double the number of filters after each stage\n",
    "\n",
    "    x = AveragePooling2D(pool_size=pool_size)(x) # pool size could be hyperparameter\n",
    "    x = Flatten()(x)\n",
    "    outputs = Dense(10, activation='softmax')(x)\n",
    "\n",
    "    model = Model(inputs=inputs, outputs=outputs)\n",
    "    # optimizer can be a parameter: vanilla sgd, sgd with fixed learning rate, or adam \n",
    "    model.compile(optimizer=optimizer, loss='categorical_crossentropy', metrics=['accuracy'])\n",
    "\n",
    "    return model\n"
   ]
  },
  {
   "cell_type": "code",
   "execution_count": 11,
   "id": "3272e83f-c06f-4ce1-9c51-ab42259b4339",
   "metadata": {},
   "outputs": [
    {
     "name": "stdout",
     "output_type": "stream",
     "text": [
      "Model: \"model\"\n",
      "__________________________________________________________________________________________________\n",
      " Layer (type)                   Output Shape         Param #     Connected to                     \n",
      "==================================================================================================\n",
      " input_1 (InputLayer)           [(None, 32, 32, 3)]  0           []                               \n",
      "                                                                                                  \n",
      " conv2d (Conv2D)                (None, 32, 32, 64)   1792        ['input_1[0][0]']                \n",
      "                                                                                                  \n",
      " batch_normalization (BatchNorm  (None, 32, 32, 64)  256         ['conv2d[0][0]']                 \n",
      " alization)                                                                                       \n",
      "                                                                                                  \n",
      " activation (Activation)        (None, 32, 32, 64)   0           ['batch_normalization[0][0]']    \n",
      "                                                                                                  \n",
      " conv2d_1 (Conv2D)              (None, 32, 32, 64)   36928       ['activation[0][0]']             \n",
      "                                                                                                  \n",
      " batch_normalization_1 (BatchNo  (None, 32, 32, 64)  256         ['conv2d_1[0][0]']               \n",
      " rmalization)                                                                                     \n",
      "                                                                                                  \n",
      " activation_1 (Activation)      (None, 32, 32, 64)   0           ['batch_normalization_1[0][0]']  \n",
      "                                                                                                  \n",
      " conv2d_2 (Conv2D)              (None, 32, 32, 64)   36928       ['activation_1[0][0]']           \n",
      "                                                                                                  \n",
      " batch_normalization_2 (BatchNo  (None, 32, 32, 64)  256         ['conv2d_2[0][0]']               \n",
      " rmalization)                                                                                     \n",
      "                                                                                                  \n",
      " add (Add)                      (None, 32, 32, 64)   0           ['batch_normalization_2[0][0]',  \n",
      "                                                                  'activation[0][0]']             \n",
      "                                                                                                  \n",
      " activation_2 (Activation)      (None, 32, 32, 64)   0           ['add[0][0]']                    \n",
      "                                                                                                  \n",
      " conv2d_3 (Conv2D)              (None, 32, 32, 64)   36928       ['activation_2[0][0]']           \n",
      "                                                                                                  \n",
      " batch_normalization_3 (BatchNo  (None, 32, 32, 64)  256         ['conv2d_3[0][0]']               \n",
      " rmalization)                                                                                     \n",
      "                                                                                                  \n",
      " activation_3 (Activation)      (None, 32, 32, 64)   0           ['batch_normalization_3[0][0]']  \n",
      "                                                                                                  \n",
      " conv2d_4 (Conv2D)              (None, 32, 32, 64)   36928       ['activation_3[0][0]']           \n",
      "                                                                                                  \n",
      " batch_normalization_4 (BatchNo  (None, 32, 32, 64)  256         ['conv2d_4[0][0]']               \n",
      " rmalization)                                                                                     \n",
      "                                                                                                  \n",
      " add_1 (Add)                    (None, 32, 32, 64)   0           ['batch_normalization_4[0][0]',  \n",
      "                                                                  'activation_2[0][0]']           \n",
      "                                                                                                  \n",
      " activation_4 (Activation)      (None, 32, 32, 64)   0           ['add_1[0][0]']                  \n",
      "                                                                                                  \n",
      " conv2d_5 (Conv2D)              (None, 16, 16, 128)  73856       ['activation_4[0][0]']           \n",
      "                                                                                                  \n",
      " batch_normalization_5 (BatchNo  (None, 16, 16, 128)  512        ['conv2d_5[0][0]']               \n",
      " rmalization)                                                                                     \n",
      "                                                                                                  \n",
      " activation_5 (Activation)      (None, 16, 16, 128)  0           ['batch_normalization_5[0][0]']  \n",
      "                                                                                                  \n",
      " conv2d_6 (Conv2D)              (None, 16, 16, 128)  147584      ['activation_5[0][0]']           \n",
      "                                                                                                  \n",
      " conv2d_7 (Conv2D)              (None, 16, 16, 128)  8320        ['activation_4[0][0]']           \n",
      "                                                                                                  \n",
      " batch_normalization_6 (BatchNo  (None, 16, 16, 128)  512        ['conv2d_6[0][0]']               \n",
      " rmalization)                                                                                     \n",
      "                                                                                                  \n",
      " batch_normalization_7 (BatchNo  (None, 16, 16, 128)  512        ['conv2d_7[0][0]']               \n",
      " rmalization)                                                                                     \n",
      "                                                                                                  \n",
      " add_2 (Add)                    (None, 16, 16, 128)  0           ['batch_normalization_6[0][0]',  \n",
      "                                                                  'batch_normalization_7[0][0]']  \n",
      "                                                                                                  \n",
      " activation_6 (Activation)      (None, 16, 16, 128)  0           ['add_2[0][0]']                  \n",
      "                                                                                                  \n",
      " conv2d_8 (Conv2D)              (None, 16, 16, 128)  147584      ['activation_6[0][0]']           \n",
      "                                                                                                  \n",
      " batch_normalization_8 (BatchNo  (None, 16, 16, 128)  512        ['conv2d_8[0][0]']               \n",
      " rmalization)                                                                                     \n",
      "                                                                                                  \n",
      " activation_7 (Activation)      (None, 16, 16, 128)  0           ['batch_normalization_8[0][0]']  \n",
      "                                                                                                  \n",
      " conv2d_9 (Conv2D)              (None, 16, 16, 128)  147584      ['activation_7[0][0]']           \n",
      "                                                                                                  \n",
      " batch_normalization_9 (BatchNo  (None, 16, 16, 128)  512        ['conv2d_9[0][0]']               \n",
      " rmalization)                                                                                     \n",
      "                                                                                                  \n",
      " add_3 (Add)                    (None, 16, 16, 128)  0           ['batch_normalization_9[0][0]',  \n",
      "                                                                  'activation_6[0][0]']           \n",
      "                                                                                                  \n",
      " activation_8 (Activation)      (None, 16, 16, 128)  0           ['add_3[0][0]']                  \n",
      "                                                                                                  \n",
      " average_pooling2d (AveragePool  (None, 8, 8, 128)   0           ['activation_8[0][0]']           \n",
      " ing2D)                                                                                           \n",
      "                                                                                                  \n",
      " flatten (Flatten)              (None, 8192)         0           ['average_pooling2d[0][0]']      \n",
      "                                                                                                  \n",
      " dense (Dense)                  (None, 10)           81930       ['flatten[0][0]']                \n",
      "                                                                                                  \n",
      "==================================================================================================\n",
      "Total params: 760,202\n",
      "Trainable params: 758,282\n",
      "Non-trainable params: 1,920\n",
      "__________________________________________________________________________________________________\n"
     ]
    }
   ],
   "source": [
    "# Build ResNet Model 1\n",
    "resnet_model_1 = build_resnet(init_filters=64, res_layers=[2, 2], conv_kernel_size=(3,3), skip_kernel_size=(1, 1), conv_per_layer=2, pool_size=(2, 2), optimizer='SGD')\n",
    "resnet_model_1.summary()"
   ]
  },
  {
   "cell_type": "code",
   "execution_count": 12,
   "id": "2614e333",
   "metadata": {},
   "outputs": [],
   "source": [
    "# # Build ResNet Model 2\n",
    "# resnet_model_2 = build_resnet(init_filters=64, res_layers=[2, 2], conv_kernel_size=(3,3), skip_kernel_size=(1, 1), conv_per_layer=2, pool_size=(2, 2), optimizer='SGD')\n",
    "# resnet_model_2.summary()"
   ]
  },
  {
   "cell_type": "code",
   "execution_count": 13,
   "id": "8f9394ed",
   "metadata": {},
   "outputs": [],
   "source": [
    "# # Build ResNet Model 3\n",
    "# resnet_model_3 = build_resnet(init_filters=64, res_layers=[2, 2], conv_kernel_size=(3,3), skip_kernel_size=(1, 1), conv_per_layer=2, pool_size=(2, 2), optimizer='SGD')\n",
    "# resnet_model_3.summary()"
   ]
  },
  {
   "cell_type": "code",
   "execution_count": 14,
   "id": "054645b7",
   "metadata": {},
   "outputs": [],
   "source": [
    "# # Build ResNet Model 4\n",
    "# resnet_model_3 = build_resnet(init_filters=64, res_layers=[2, 2], conv_kernel_size=(3,3), skip_kernel_size=(1, 1), conv_per_layer=2, pool_size=(2, 2), optimizer='SGD')\n",
    "# resnet_model_3.summary()"
   ]
  },
  {
   "cell_type": "markdown",
   "id": "9f75a436-2b04-487e-9952-927016ad50ee",
   "metadata": {},
   "source": [
    "TO DO:\n",
    "1. keras callbacks: save checkpoint with best performance on validation data (rishie)\n",
    "2. Add hyperparameter tuning as arguments (gio)\n",
    "3. Save graphs under different names (gio)\n",
    "4. ImageDataGenerator - read about this to add augmentation (rishie)\n",
    "5. Regularization - Dropouts in random/hyperparameter\n",
    "6. Loading custom data (rishie)"
   ]
  },
  {
   "cell_type": "markdown",
   "id": "21ea29e1-357f-4b5b-b82d-fb586217bfb5",
   "metadata": {},
   "source": [
    "### Enabling Keras Callbacks"
   ]
  },
  {
   "cell_type": "markdown",
   "id": "1ffde665-08e5-4313-a0a7-0c674c10a2d7",
   "metadata": {},
   "source": [
    "Callback to save the Keras model weights after every epoch that obtains the best validation accuracy thus far."
   ]
  },
  {
   "cell_type": "code",
   "execution_count": 15,
   "id": "ba744aba-257e-492e-9787-ec96351cbbc7",
   "metadata": {},
   "outputs": [],
   "source": [
    "from tensorflow.keras.callbacks import ModelCheckpoint\n",
    "\n",
    "# Title of the Hypothesis Tested\n",
    "title = \"Baseline ResNet Model\"\n",
    "\n",
    "# These are used to distinguish the models from each other\n",
    "param_1 = \"Baseline\"\n",
    "# param_2 = \"\"\n",
    "# param_3 = \"\"\n",
    "# param_4 = \"\"\n",
    "\n",
    "checkpoint_filepath_1 = 'ckpt/' + title + '/' + param_1\n",
    "# checkpoint_filepath_2 = 'ckpt/' + title + '/' + param_2 \n",
    "# checkpoint_filepath_3 = 'ckpt/' + title + '/' + param_3\n",
    "# checkpoint_filepath_4 = 'ckpt/' + title + '/' + param_4\n",
    "\n",
    "# Defining callback\n",
    "model_checkpoint_callback_1 = ModelCheckpoint(\n",
    "    filepath=checkpoint_filepath_1,\n",
    "    monitor='val_accuracy',\n",
    "    mode='max',\n",
    "    save_best_only=True)\n",
    "\n",
    "# model_checkpoint_callback_2 = ModelCheckpoint(\n",
    "#     filepath=checkpoint_filepath_2,\n",
    "#     monitor='val_accuracy',\n",
    "#     mode='max',\n",
    "#     save_best_only=True)\n",
    "\n",
    "# model_checkpoint_callback_3 = ModelCheckpoint(\n",
    "#     filepath=checkpoint_filepath_3,\n",
    "#     monitor='val_accuracy',\n",
    "#     mode='max',\n",
    "#     save_best_only=True)\n",
    "\n",
    "# model_checkpoint_callback_4 = ModelCheckpoint(\n",
    "#     filepath=checkpoint_filepath_4,\n",
    "#     monitor='val_accuracy',\n",
    "#     mode='max',\n",
    "#     save_best_only=True)"
   ]
  },
  {
   "cell_type": "code",
   "execution_count": 16,
   "id": "eab307b7-65d6-4463-b8c9-ceef7339c059",
   "metadata": {},
   "outputs": [
    {
     "name": "stdout",
     "output_type": "stream",
     "text": [
      "Epoch 1/30\n",
      "622/625 [============================>.] - ETA: 0s - loss: 2.1401 - accuracy: 0.3960"
     ]
    },
    {
     "name": "stderr",
     "output_type": "stream",
     "text": [
      "WARNING:absl:Found untraced functions such as _jit_compiled_convolution_op, _jit_compiled_convolution_op, _jit_compiled_convolution_op, _jit_compiled_convolution_op, _jit_compiled_convolution_op while saving (showing 5 of 10). These functions will not be directly callable after loading.\n"
     ]
    },
    {
     "name": "stdout",
     "output_type": "stream",
     "text": [
      "INFO:tensorflow:Assets written to: ckpt/Baseline ResNet Model\\Baseline\\assets\n"
     ]
    },
    {
     "name": "stderr",
     "output_type": "stream",
     "text": [
      "INFO:tensorflow:Assets written to: ckpt/Baseline ResNet Model\\Baseline\\assets\n"
     ]
    },
    {
     "name": "stdout",
     "output_type": "stream",
     "text": [
      "625/625 [==============================] - 19s 20ms/step - loss: 2.1367 - accuracy: 0.3965 - val_loss: 1.3482 - val_accuracy: 0.5256\n",
      "Epoch 2/30\n",
      "623/625 [============================>.] - ETA: 0s - loss: 1.2705 - accuracy: 0.5480"
     ]
    },
    {
     "name": "stderr",
     "output_type": "stream",
     "text": [
      "WARNING:absl:Found untraced functions such as _jit_compiled_convolution_op, _jit_compiled_convolution_op, _jit_compiled_convolution_op, _jit_compiled_convolution_op, _jit_compiled_convolution_op while saving (showing 5 of 10). These functions will not be directly callable after loading.\n"
     ]
    },
    {
     "name": "stdout",
     "output_type": "stream",
     "text": [
      "INFO:tensorflow:Assets written to: ckpt/Baseline ResNet Model\\Baseline\\assets\n"
     ]
    },
    {
     "name": "stderr",
     "output_type": "stream",
     "text": [
      "INFO:tensorflow:Assets written to: ckpt/Baseline ResNet Model\\Baseline\\assets\n"
     ]
    },
    {
     "name": "stdout",
     "output_type": "stream",
     "text": [
      "625/625 [==============================] - 12s 19ms/step - loss: 1.2708 - accuracy: 0.5479 - val_loss: 1.2385 - val_accuracy: 0.5628\n",
      "Epoch 3/30\n",
      "625/625 [==============================] - ETA: 0s - loss: 1.0850 - accuracy: 0.6152"
     ]
    },
    {
     "name": "stderr",
     "output_type": "stream",
     "text": [
      "WARNING:absl:Found untraced functions such as _jit_compiled_convolution_op, _jit_compiled_convolution_op, _jit_compiled_convolution_op, _jit_compiled_convolution_op, _jit_compiled_convolution_op while saving (showing 5 of 10). These functions will not be directly callable after loading.\n"
     ]
    },
    {
     "name": "stdout",
     "output_type": "stream",
     "text": [
      "INFO:tensorflow:Assets written to: ckpt/Baseline ResNet Model\\Baseline\\assets\n"
     ]
    },
    {
     "name": "stderr",
     "output_type": "stream",
     "text": [
      "INFO:tensorflow:Assets written to: ckpt/Baseline ResNet Model\\Baseline\\assets\n"
     ]
    },
    {
     "name": "stdout",
     "output_type": "stream",
     "text": [
      "625/625 [==============================] - 12s 19ms/step - loss: 1.0850 - accuracy: 0.6152 - val_loss: 1.1653 - val_accuracy: 0.5909\n",
      "Epoch 4/30\n",
      "622/625 [============================>.] - ETA: 0s - loss: 0.9445 - accuracy: 0.6662"
     ]
    },
    {
     "name": "stderr",
     "output_type": "stream",
     "text": [
      "WARNING:absl:Found untraced functions such as _jit_compiled_convolution_op, _jit_compiled_convolution_op, _jit_compiled_convolution_op, _jit_compiled_convolution_op, _jit_compiled_convolution_op while saving (showing 5 of 10). These functions will not be directly callable after loading.\n"
     ]
    },
    {
     "name": "stdout",
     "output_type": "stream",
     "text": [
      "INFO:tensorflow:Assets written to: ckpt/Baseline ResNet Model\\Baseline\\assets\n"
     ]
    },
    {
     "name": "stderr",
     "output_type": "stream",
     "text": [
      "INFO:tensorflow:Assets written to: ckpt/Baseline ResNet Model\\Baseline\\assets\n"
     ]
    },
    {
     "name": "stdout",
     "output_type": "stream",
     "text": [
      "625/625 [==============================] - 12s 19ms/step - loss: 0.9443 - accuracy: 0.6662 - val_loss: 1.1323 - val_accuracy: 0.6071\n",
      "Epoch 5/30\n",
      "624/625 [============================>.] - ETA: 0s - loss: 0.8334 - accuracy: 0.7071"
     ]
    },
    {
     "name": "stderr",
     "output_type": "stream",
     "text": [
      "WARNING:absl:Found untraced functions such as _jit_compiled_convolution_op, _jit_compiled_convolution_op, _jit_compiled_convolution_op, _jit_compiled_convolution_op, _jit_compiled_convolution_op while saving (showing 5 of 10). These functions will not be directly callable after loading.\n"
     ]
    },
    {
     "name": "stdout",
     "output_type": "stream",
     "text": [
      "INFO:tensorflow:Assets written to: ckpt/Baseline ResNet Model\\Baseline\\assets\n"
     ]
    },
    {
     "name": "stderr",
     "output_type": "stream",
     "text": [
      "INFO:tensorflow:Assets written to: ckpt/Baseline ResNet Model\\Baseline\\assets\n"
     ]
    },
    {
     "name": "stdout",
     "output_type": "stream",
     "text": [
      "625/625 [==============================] - 12s 19ms/step - loss: 0.8332 - accuracy: 0.7071 - val_loss: 1.1526 - val_accuracy: 0.6278\n",
      "Epoch 6/30\n",
      "623/625 [============================>.] - ETA: 0s - loss: 0.7470 - accuracy: 0.7378"
     ]
    },
    {
     "name": "stderr",
     "output_type": "stream",
     "text": [
      "WARNING:absl:Found untraced functions such as _jit_compiled_convolution_op, _jit_compiled_convolution_op, _jit_compiled_convolution_op, _jit_compiled_convolution_op, _jit_compiled_convolution_op while saving (showing 5 of 10). These functions will not be directly callable after loading.\n"
     ]
    },
    {
     "name": "stdout",
     "output_type": "stream",
     "text": [
      "INFO:tensorflow:Assets written to: ckpt/Baseline ResNet Model\\Baseline\\assets\n"
     ]
    },
    {
     "name": "stderr",
     "output_type": "stream",
     "text": [
      "INFO:tensorflow:Assets written to: ckpt/Baseline ResNet Model\\Baseline\\assets\n"
     ]
    },
    {
     "name": "stdout",
     "output_type": "stream",
     "text": [
      "625/625 [==============================] - 12s 19ms/step - loss: 0.7469 - accuracy: 0.7379 - val_loss: 0.9789 - val_accuracy: 0.6653\n",
      "Epoch 7/30\n",
      "623/625 [============================>.] - ETA: 0s - loss: 0.6643 - accuracy: 0.7666"
     ]
    },
    {
     "name": "stderr",
     "output_type": "stream",
     "text": [
      "WARNING:absl:Found untraced functions such as _jit_compiled_convolution_op, _jit_compiled_convolution_op, _jit_compiled_convolution_op, _jit_compiled_convolution_op, _jit_compiled_convolution_op while saving (showing 5 of 10). These functions will not be directly callable after loading.\n"
     ]
    },
    {
     "name": "stdout",
     "output_type": "stream",
     "text": [
      "INFO:tensorflow:Assets written to: ckpt/Baseline ResNet Model\\Baseline\\assets\n"
     ]
    },
    {
     "name": "stderr",
     "output_type": "stream",
     "text": [
      "INFO:tensorflow:Assets written to: ckpt/Baseline ResNet Model\\Baseline\\assets\n"
     ]
    },
    {
     "name": "stdout",
     "output_type": "stream",
     "text": [
      "625/625 [==============================] - 12s 19ms/step - loss: 0.6640 - accuracy: 0.7667 - val_loss: 0.9278 - val_accuracy: 0.6841\n",
      "Epoch 8/30\n",
      "625/625 [==============================] - ETA: 0s - loss: 0.5992 - accuracy: 0.7898"
     ]
    },
    {
     "name": "stderr",
     "output_type": "stream",
     "text": [
      "WARNING:absl:Found untraced functions such as _jit_compiled_convolution_op, _jit_compiled_convolution_op, _jit_compiled_convolution_op, _jit_compiled_convolution_op, _jit_compiled_convolution_op while saving (showing 5 of 10). These functions will not be directly callable after loading.\n"
     ]
    },
    {
     "name": "stdout",
     "output_type": "stream",
     "text": [
      "INFO:tensorflow:Assets written to: ckpt/Baseline ResNet Model\\Baseline\\assets\n"
     ]
    },
    {
     "name": "stderr",
     "output_type": "stream",
     "text": [
      "INFO:tensorflow:Assets written to: ckpt/Baseline ResNet Model\\Baseline\\assets\n"
     ]
    },
    {
     "name": "stdout",
     "output_type": "stream",
     "text": [
      "625/625 [==============================] - 12s 19ms/step - loss: 0.5992 - accuracy: 0.7898 - val_loss: 0.9004 - val_accuracy: 0.7017\n",
      "Epoch 9/30\n",
      "625/625 [==============================] - 9s 15ms/step - loss: 0.5281 - accuracy: 0.8167 - val_loss: 1.0395 - val_accuracy: 0.6563\n",
      "Epoch 10/30\n",
      "625/625 [==============================] - 9s 15ms/step - loss: 0.4763 - accuracy: 0.8355 - val_loss: 0.9907 - val_accuracy: 0.6844\n",
      "Epoch 11/30\n",
      "625/625 [==============================] - 9s 15ms/step - loss: 0.4122 - accuracy: 0.8605 - val_loss: 0.9175 - val_accuracy: 0.6975\n",
      "Epoch 12/30\n",
      "621/625 [============================>.] - ETA: 0s - loss: 0.3625 - accuracy: 0.8798"
     ]
    },
    {
     "name": "stderr",
     "output_type": "stream",
     "text": [
      "WARNING:absl:Found untraced functions such as _jit_compiled_convolution_op, _jit_compiled_convolution_op, _jit_compiled_convolution_op, _jit_compiled_convolution_op, _jit_compiled_convolution_op while saving (showing 5 of 10). These functions will not be directly callable after loading.\n"
     ]
    },
    {
     "name": "stdout",
     "output_type": "stream",
     "text": [
      "INFO:tensorflow:Assets written to: ckpt/Baseline ResNet Model\\Baseline\\assets\n"
     ]
    },
    {
     "name": "stderr",
     "output_type": "stream",
     "text": [
      "INFO:tensorflow:Assets written to: ckpt/Baseline ResNet Model\\Baseline\\assets\n"
     ]
    },
    {
     "name": "stdout",
     "output_type": "stream",
     "text": [
      "625/625 [==============================] - 12s 19ms/step - loss: 0.3630 - accuracy: 0.8795 - val_loss: 0.8663 - val_accuracy: 0.7158\n",
      "Epoch 13/30\n",
      "625/625 [==============================] - 10s 15ms/step - loss: 0.3183 - accuracy: 0.8943 - val_loss: 0.9679 - val_accuracy: 0.7007\n",
      "Epoch 14/30\n",
      "625/625 [==============================] - 9s 15ms/step - loss: 0.2715 - accuracy: 0.9154 - val_loss: 0.9400 - val_accuracy: 0.7101\n",
      "Epoch 15/30\n",
      "625/625 [==============================] - ETA: 0s - loss: 0.2361 - accuracy: 0.9296"
     ]
    },
    {
     "name": "stderr",
     "output_type": "stream",
     "text": [
      "WARNING:absl:Found untraced functions such as _jit_compiled_convolution_op, _jit_compiled_convolution_op, _jit_compiled_convolution_op, _jit_compiled_convolution_op, _jit_compiled_convolution_op while saving (showing 5 of 10). These functions will not be directly callable after loading.\n"
     ]
    },
    {
     "name": "stdout",
     "output_type": "stream",
     "text": [
      "INFO:tensorflow:Assets written to: ckpt/Baseline ResNet Model\\Baseline\\assets\n"
     ]
    },
    {
     "name": "stderr",
     "output_type": "stream",
     "text": [
      "INFO:tensorflow:Assets written to: ckpt/Baseline ResNet Model\\Baseline\\assets\n"
     ]
    },
    {
     "name": "stdout",
     "output_type": "stream",
     "text": [
      "625/625 [==============================] - 12s 19ms/step - loss: 0.2361 - accuracy: 0.9296 - val_loss: 0.9020 - val_accuracy: 0.7209\n",
      "Epoch 16/30\n",
      "625/625 [==============================] - 9s 15ms/step - loss: 0.1952 - accuracy: 0.9467 - val_loss: 0.9228 - val_accuracy: 0.7202\n",
      "Epoch 17/30\n",
      "625/625 [==============================] - 9s 15ms/step - loss: 0.1654 - accuracy: 0.9587 - val_loss: 0.9452 - val_accuracy: 0.7073\n",
      "Epoch 18/30\n",
      "624/625 [============================>.] - ETA: 0s - loss: 0.1384 - accuracy: 0.9691"
     ]
    },
    {
     "name": "stderr",
     "output_type": "stream",
     "text": [
      "WARNING:absl:Found untraced functions such as _jit_compiled_convolution_op, _jit_compiled_convolution_op, _jit_compiled_convolution_op, _jit_compiled_convolution_op, _jit_compiled_convolution_op while saving (showing 5 of 10). These functions will not be directly callable after loading.\n"
     ]
    },
    {
     "name": "stdout",
     "output_type": "stream",
     "text": [
      "INFO:tensorflow:Assets written to: ckpt/Baseline ResNet Model\\Baseline\\assets\n"
     ]
    },
    {
     "name": "stderr",
     "output_type": "stream",
     "text": [
      "INFO:tensorflow:Assets written to: ckpt/Baseline ResNet Model\\Baseline\\assets\n"
     ]
    },
    {
     "name": "stdout",
     "output_type": "stream",
     "text": [
      "625/625 [==============================] - 12s 19ms/step - loss: 0.1384 - accuracy: 0.9690 - val_loss: 0.9353 - val_accuracy: 0.7275\n",
      "Epoch 19/30\n",
      "625/625 [==============================] - 9s 15ms/step - loss: 0.1155 - accuracy: 0.9775 - val_loss: 0.9644 - val_accuracy: 0.7174\n",
      "Epoch 20/30\n",
      "622/625 [============================>.] - ETA: 0s - loss: 0.0960 - accuracy: 0.9837"
     ]
    },
    {
     "name": "stderr",
     "output_type": "stream",
     "text": [
      "WARNING:absl:Found untraced functions such as _jit_compiled_convolution_op, _jit_compiled_convolution_op, _jit_compiled_convolution_op, _jit_compiled_convolution_op, _jit_compiled_convolution_op while saving (showing 5 of 10). These functions will not be directly callable after loading.\n"
     ]
    },
    {
     "name": "stdout",
     "output_type": "stream",
     "text": [
      "INFO:tensorflow:Assets written to: ckpt/Baseline ResNet Model\\Baseline\\assets\n"
     ]
    },
    {
     "name": "stderr",
     "output_type": "stream",
     "text": [
      "INFO:tensorflow:Assets written to: ckpt/Baseline ResNet Model\\Baseline\\assets\n"
     ]
    },
    {
     "name": "stdout",
     "output_type": "stream",
     "text": [
      "625/625 [==============================] - 12s 19ms/step - loss: 0.0960 - accuracy: 0.9838 - val_loss: 0.9553 - val_accuracy: 0.7293\n",
      "Epoch 21/30\n",
      "625/625 [==============================] - ETA: 0s - loss: 0.0808 - accuracy: 0.9886"
     ]
    },
    {
     "name": "stderr",
     "output_type": "stream",
     "text": [
      "WARNING:absl:Found untraced functions such as _jit_compiled_convolution_op, _jit_compiled_convolution_op, _jit_compiled_convolution_op, _jit_compiled_convolution_op, _jit_compiled_convolution_op while saving (showing 5 of 10). These functions will not be directly callable after loading.\n"
     ]
    },
    {
     "name": "stdout",
     "output_type": "stream",
     "text": [
      "INFO:tensorflow:Assets written to: ckpt/Baseline ResNet Model\\Baseline\\assets\n"
     ]
    },
    {
     "name": "stderr",
     "output_type": "stream",
     "text": [
      "INFO:tensorflow:Assets written to: ckpt/Baseline ResNet Model\\Baseline\\assets\n"
     ]
    },
    {
     "name": "stdout",
     "output_type": "stream",
     "text": [
      "625/625 [==============================] - 12s 19ms/step - loss: 0.0808 - accuracy: 0.9886 - val_loss: 0.9233 - val_accuracy: 0.7357\n",
      "Epoch 22/30\n",
      "623/625 [============================>.] - ETA: 0s - loss: 0.0678 - accuracy: 0.9926"
     ]
    },
    {
     "name": "stderr",
     "output_type": "stream",
     "text": [
      "WARNING:absl:Found untraced functions such as _jit_compiled_convolution_op, _jit_compiled_convolution_op, _jit_compiled_convolution_op, _jit_compiled_convolution_op, _jit_compiled_convolution_op while saving (showing 5 of 10). These functions will not be directly callable after loading.\n"
     ]
    },
    {
     "name": "stdout",
     "output_type": "stream",
     "text": [
      "INFO:tensorflow:Assets written to: ckpt/Baseline ResNet Model\\Baseline\\assets\n"
     ]
    },
    {
     "name": "stderr",
     "output_type": "stream",
     "text": [
      "INFO:tensorflow:Assets written to: ckpt/Baseline ResNet Model\\Baseline\\assets\n"
     ]
    },
    {
     "name": "stdout",
     "output_type": "stream",
     "text": [
      "625/625 [==============================] - 12s 19ms/step - loss: 0.0679 - accuracy: 0.9926 - val_loss: 0.9199 - val_accuracy: 0.7386\n",
      "Epoch 23/30\n",
      "625/625 [==============================] - 10s 15ms/step - loss: 0.0569 - accuracy: 0.9951 - val_loss: 0.9339 - val_accuracy: 0.7378\n",
      "Epoch 24/30\n",
      "624/625 [============================>.] - ETA: 0s - loss: 0.0490 - accuracy: 0.9966"
     ]
    },
    {
     "name": "stderr",
     "output_type": "stream",
     "text": [
      "WARNING:absl:Found untraced functions such as _jit_compiled_convolution_op, _jit_compiled_convolution_op, _jit_compiled_convolution_op, _jit_compiled_convolution_op, _jit_compiled_convolution_op while saving (showing 5 of 10). These functions will not be directly callable after loading.\n"
     ]
    },
    {
     "name": "stdout",
     "output_type": "stream",
     "text": [
      "INFO:tensorflow:Assets written to: ckpt/Baseline ResNet Model\\Baseline\\assets\n"
     ]
    },
    {
     "name": "stderr",
     "output_type": "stream",
     "text": [
      "INFO:tensorflow:Assets written to: ckpt/Baseline ResNet Model\\Baseline\\assets\n"
     ]
    },
    {
     "name": "stdout",
     "output_type": "stream",
     "text": [
      "625/625 [==============================] - 12s 19ms/step - loss: 0.0490 - accuracy: 0.9966 - val_loss: 0.9200 - val_accuracy: 0.7421\n",
      "Epoch 25/30\n",
      "623/625 [============================>.] - ETA: 0s - loss: 0.0426 - accuracy: 0.9974"
     ]
    },
    {
     "name": "stderr",
     "output_type": "stream",
     "text": [
      "WARNING:absl:Found untraced functions such as _jit_compiled_convolution_op, _jit_compiled_convolution_op, _jit_compiled_convolution_op, _jit_compiled_convolution_op, _jit_compiled_convolution_op while saving (showing 5 of 10). These functions will not be directly callable after loading.\n"
     ]
    },
    {
     "name": "stdout",
     "output_type": "stream",
     "text": [
      "INFO:tensorflow:Assets written to: ckpt/Baseline ResNet Model\\Baseline\\assets\n"
     ]
    },
    {
     "name": "stderr",
     "output_type": "stream",
     "text": [
      "INFO:tensorflow:Assets written to: ckpt/Baseline ResNet Model\\Baseline\\assets\n"
     ]
    },
    {
     "name": "stdout",
     "output_type": "stream",
     "text": [
      "625/625 [==============================] - 12s 19ms/step - loss: 0.0426 - accuracy: 0.9974 - val_loss: 0.9579 - val_accuracy: 0.7428\n",
      "Epoch 26/30\n",
      "624/625 [============================>.] - ETA: 0s - loss: 0.0359 - accuracy: 0.9987"
     ]
    },
    {
     "name": "stderr",
     "output_type": "stream",
     "text": [
      "WARNING:absl:Found untraced functions such as _jit_compiled_convolution_op, _jit_compiled_convolution_op, _jit_compiled_convolution_op, _jit_compiled_convolution_op, _jit_compiled_convolution_op while saving (showing 5 of 10). These functions will not be directly callable after loading.\n"
     ]
    },
    {
     "name": "stdout",
     "output_type": "stream",
     "text": [
      "INFO:tensorflow:Assets written to: ckpt/Baseline ResNet Model\\Baseline\\assets\n"
     ]
    },
    {
     "name": "stderr",
     "output_type": "stream",
     "text": [
      "INFO:tensorflow:Assets written to: ckpt/Baseline ResNet Model\\Baseline\\assets\n"
     ]
    },
    {
     "name": "stdout",
     "output_type": "stream",
     "text": [
      "625/625 [==============================] - 12s 19ms/step - loss: 0.0359 - accuracy: 0.9987 - val_loss: 0.9355 - val_accuracy: 0.7512\n",
      "Epoch 27/30\n",
      "625/625 [==============================] - 9s 15ms/step - loss: 0.0329 - accuracy: 0.9987 - val_loss: 0.9659 - val_accuracy: 0.7434\n",
      "Epoch 28/30\n",
      "625/625 [==============================] - 9s 15ms/step - loss: 0.0303 - accuracy: 0.9990 - val_loss: 1.0104 - val_accuracy: 0.7352\n",
      "Epoch 29/30\n",
      "625/625 [==============================] - 9s 15ms/step - loss: 0.0256 - accuracy: 0.9994 - val_loss: 0.9502 - val_accuracy: 0.7497\n",
      "Epoch 30/30\n",
      "625/625 [==============================] - 9s 15ms/step - loss: 0.0234 - accuracy: 0.9996 - val_loss: 1.0011 - val_accuracy: 0.7470\n"
     ]
    }
   ],
   "source": [
    "# Augmenting on the fly with datagen.flow()\n",
    "batch_size=64\n",
    "epochs=30\n",
    "\n",
    "histories = {}\n",
    "keys = [param_1] #, param_2, param_3, param_4]\n",
    "models = [resnet_model_1] #, resnet_model_2, resnet_model_3, resnet_model_4]\n",
    "checkpoints = [model_checkpoint_callback_1] #, model_checkpoint_callback_2, model_checkpoint_callback_3, model_checkpoint_callback_4]\n",
    "for i in range(len(models)):\n",
    "# Directly use .flow() to load our dataset in batches for training\n",
    "    histories[keys[i]] = models[i].fit(datagen.flow(X_train, Y_train, batch_size=batch_size), \n",
    "                                    epochs = epochs, # set number of epochs\n",
    "                                    steps_per_epoch = X_train.shape[0]//batch_size, # number of images composing one epoch\n",
    "                                    validation_data = (X_val, Y_val), # data for validation\n",
    "                                    callbacks=[checkpoints[i]], # model checkpoint\n",
    "                                    verbose=1)"
   ]
  },
  {
   "cell_type": "code",
   "execution_count": 17,
   "id": "20c1c13c-94ec-4db0-bd63-d9fab2a944a5",
   "metadata": {},
   "outputs": [],
   "source": [
    "# resnet_history = resnet_model.fit(X_train, Y_train, batch_size=64, epochs=10, verbose=1, validation_data=(X_val, Y_val))\n"
   ]
  },
  {
   "cell_type": "code",
   "execution_count": 18,
   "id": "d57c86c0-89d5-4354-bf65-b85ab9afc86e",
   "metadata": {},
   "outputs": [
    {
     "data": {
      "image/png": "[encoded data removed]",
      "text/plain": [
       "<Figure size 640x480 with 1 Axes>"
      ]
     },
     "metadata": {},
     "output_type": "display_data"
    },
    {
     "data": {
      "image/png": "[encoded data removed]",
      "text/plain": [
       "<Figure size 640x480 with 1 Axes>"
      ]
     },
     "metadata": {},
     "output_type": "display_data"
    }
   ],
   "source": [
    "# Plot accuracy and loss\n",
    "# accuracy_title = title + ' Accuracy'\n",
    "# loss_title = title + ' Loss'\n",
    "# plot_accuracy(resnet_history, accuracy_title)\n",
    "# plot_loss(resnet_history, loss_title)\n",
    "\n",
    "# Plot all models' accuracies and losses on the same graph:\n",
    "plot_multiple_accuracies(histories, title)\n",
    "plot_multiple_losses(histories, title)"
   ]
  },
  {
   "cell_type": "code",
   "execution_count": 19,
   "id": "f7c1672b-ff0f-4d37-a851-99c4ebca920e",
   "metadata": {},
   "outputs": [],
   "source": [
    "# Load the model with the maximum validation accuracy from checkpoint on disk\n",
    "test_model_1 = tf.keras.models.load_model(checkpoint_filepath_1)\n",
    "# test_model_2 = tf.keras.models.load_model(checkpoint_filepath_2)\n",
    "# test_model_3 = tf.keras.models.load_model(checkpoint_filepath_3)\n",
    "# test_model_4 = tf.keras.models.load_model(checkpoint_filepath_4)"
   ]
  },
  {
   "cell_type": "code",
   "execution_count": 23,
   "id": "b75da5b5",
   "metadata": {},
   "outputs": [
    {
     "name": "stdout",
     "output_type": "stream",
     "text": [
      "Baseline ResNet Model:\n",
      "Test Accuracy: 73.52%\n"
     ]
    }
   ],
   "source": [
    "# Evaluate test set using best version of each model and save outputs to a file\n",
    "print(title + ':')\n",
    "accuracy_list = []\n",
    "for i in range(len(models)):\n",
    "    accuracy_list.append(evaluate_model(models[i], X_test, Y_test))\n",
    "\n",
    "with open(\"Test_Accuracy.txt\", 'w') as file:\n",
    "    file_title = title + ':'\n",
    "    file.write(file_title)\n",
    "    for i in range(len(accuracy_list)):\n",
    "        acc_string = str(keys[i]) + str(accuracy_list[i])\n",
    "        file.write(acc_string)\n",
    "    file.write('\\n')"
   ]
  },
  {
   "cell_type": "code",
   "execution_count": 27,
   "id": "39d3d353-8e23-4514-95f8-93656db323d0",
   "metadata": {},
   "outputs": [],
   "source": [
    "from playsound import playsound\n",
    "playsound(\"GOT TO GO.mp3\")\n",
    "playsound(\"GOT TO GO.mp3\")\n",
    "playsound(\"GOT TO GO.mp3\")"
   ]
  }
 ],
 "metadata": {
  "kernelspec": {
   "display_name": "Python 3 (ipykernel)",
   "language": "python",
   "name": "python3"
  },
  "language_info": {
   "codemirror_mode": {
    "name": "ipython",
    "version": 3
   },
   "file_extension": ".py",
   "mimetype": "text/x-python",
   "name": "python",
   "nbconvert_exporter": "python",
   "pygments_lexer": "ipython3",
   "version": "3.9.19"
  }
 },
 "nbformat": 4,
 "nbformat_minor": 5
}
