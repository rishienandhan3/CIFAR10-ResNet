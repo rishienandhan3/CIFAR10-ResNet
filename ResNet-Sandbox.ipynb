{
 "cells": [
  {
   "cell_type": "code",
   "execution_count": 5,
   "id": "b81209df-79ac-426a-8419-a29c2bd1baa6",
   "metadata": {},
   "outputs": [
    {
     "name": "stdout",
     "output_type": "stream",
     "text": [
      "Collecting matplotlib\n",
      "  Downloading matplotlib-3.8.4-cp39-cp39-win_amd64.whl.metadata (5.9 kB)\n",
      "Collecting contourpy>=1.0.1 (from matplotlib)\n",
      "  Downloading contourpy-1.2.1-cp39-cp39-win_amd64.whl.metadata (5.8 kB)\n",
      "Collecting cycler>=0.10 (from matplotlib)\n",
      "  Downloading cycler-0.12.1-py3-none-any.whl.metadata (3.8 kB)\n",
      "Collecting fonttools>=4.22.0 (from matplotlib)\n",
      "  Downloading fonttools-4.51.0-cp39-cp39-win_amd64.whl.metadata (162 kB)\n",
      "     ---------------------------------------- 0.0/162.8 kB ? eta -:--:--\n",
      "     --------------------------------- ---- 143.4/162.8 kB 2.8 MB/s eta 0:00:01\n",
      "     -------------------------------------- 162.8/162.8 kB 3.2 MB/s eta 0:00:00\n",
      "Collecting kiwisolver>=1.3.1 (from matplotlib)\n",
      "  Downloading kiwisolver-1.4.5-cp39-cp39-win_amd64.whl.metadata (6.5 kB)\n",
      "Requirement already satisfied: numpy>=1.21 in c:\\users\\andre\\miniconda3\\envs\\my_env\\lib\\site-packages (from matplotlib) (1.26.4)\n",
      "Requirement already satisfied: packaging>=20.0 in c:\\users\\andre\\miniconda3\\envs\\my_env\\lib\\site-packages (from matplotlib) (24.0)\n",
      "Collecting pillow>=8 (from matplotlib)\n",
      "  Downloading pillow-10.3.0-cp39-cp39-win_amd64.whl.metadata (9.4 kB)\n",
      "Collecting pyparsing>=2.3.1 (from matplotlib)\n",
      "  Downloading pyparsing-3.1.2-py3-none-any.whl.metadata (5.1 kB)\n",
      "Requirement already satisfied: python-dateutil>=2.7 in c:\\users\\andre\\miniconda3\\envs\\my_env\\lib\\site-packages (from matplotlib) (2.9.0.post0)\n",
      "Collecting importlib-resources>=3.2.0 (from matplotlib)\n",
      "  Downloading importlib_resources-6.4.0-py3-none-any.whl.metadata (3.9 kB)\n",
      "Requirement already satisfied: zipp>=3.1.0 in c:\\users\\andre\\miniconda3\\envs\\my_env\\lib\\site-packages (from importlib-resources>=3.2.0->matplotlib) (3.18.1)\n",
      "Requirement already satisfied: six>=1.5 in c:\\users\\andre\\miniconda3\\envs\\my_env\\lib\\site-packages (from python-dateutil>=2.7->matplotlib) (1.16.0)\n",
      "Downloading matplotlib-3.8.4-cp39-cp39-win_amd64.whl (7.7 MB)\n",
      "   ---------------------------------------- 0.0/7.7 MB ? eta -:--:--\n",
      "   ------ --------------------------------- 1.2/7.7 MB 39.6 MB/s eta 0:00:01\n",
      "   ---------------- ----------------------- 3.2/7.7 MB 41.1 MB/s eta 0:00:01\n",
      "   --------------------------- ------------ 5.2/7.7 MB 41.7 MB/s eta 0:00:01\n",
      "   ------------------------------------- -- 7.2/7.7 MB 41.8 MB/s eta 0:00:01\n",
      "   ---------------------------------------- 7.7/7.7 MB 37.7 MB/s eta 0:00:00\n",
      "Downloading contourpy-1.2.1-cp39-cp39-win_amd64.whl (182 kB)\n",
      "   ---------------------------------------- 0.0/182.8 kB ? eta -:--:--\n",
      "   ---------------------------------------- 182.8/182.8 kB ? eta 0:00:00\n",
      "Downloading cycler-0.12.1-py3-none-any.whl (8.3 kB)\n",
      "Downloading fonttools-4.51.0-cp39-cp39-win_amd64.whl (2.2 MB)\n",
      "   ---------------------------------------- 0.0/2.2 MB ? eta -:--:--\n",
      "   ----------------------------- ---------- 1.6/2.2 MB 51.2 MB/s eta 0:00:01\n",
      "   ---------------------------------------- 2.2/2.2 MB 46.3 MB/s eta 0:00:00\n",
      "Downloading importlib_resources-6.4.0-py3-none-any.whl (38 kB)\n",
      "Downloading kiwisolver-1.4.5-cp39-cp39-win_amd64.whl (56 kB)\n",
      "   ---------------------------------------- 0.0/56.2 kB ? eta -:--:--\n",
      "   ---------------------------------------- 56.2/56.2 kB ? eta 0:00:00\n",
      "Downloading pillow-10.3.0-cp39-cp39-win_amd64.whl (2.5 MB)\n",
      "   ---------------------------------------- 0.0/2.5 MB ? eta -:--:--\n",
      "   ------------------------- -------------- 1.6/2.5 MB 49.6 MB/s eta 0:00:01\n",
      "   ---------------------------------------- 2.5/2.5 MB 40.0 MB/s eta 0:00:00\n",
      "Downloading pyparsing-3.1.2-py3-none-any.whl (103 kB)\n",
      "   ---------------------------------------- 0.0/103.2 kB ? eta -:--:--\n",
      "   ---------------------------------------- 103.2/103.2 kB ? eta 0:00:00\n",
      "Installing collected packages: pyparsing, pillow, kiwisolver, importlib-resources, fonttools, cycler, contourpy, matplotlib\n",
      "Successfully installed contourpy-1.2.1 cycler-0.12.1 fonttools-4.51.0 importlib-resources-6.4.0 kiwisolver-1.4.5 matplotlib-3.8.4 pillow-10.3.0 pyparsing-3.1.2\n",
      "Note: you may need to restart the kernel to use updated packages.\n"
     ]
    }
   ],
   "source": [
    "# # QC tensorflow installation\n",
    "# import tensorflow as tf\n",
    "# import keras\n",
    "# print(tf.__version__)\n",
    "# print(keras.__version__)\n",
    "\n",
    "# Space for Commands:\n",
    "# %pip install"
   ]
  },
  {
   "cell_type": "markdown",
   "id": "7dac8b42-d252-4718-af26-0c9c3b436a75",
   "metadata": {},
   "source": [
    "## Import Libraries"
   ]
  },
  {
   "cell_type": "code",
   "execution_count": 18,
   "id": "361e577f-7ec1-46cf-b375-9140a936f494",
   "metadata": {},
   "outputs": [],
   "source": [
    "# Import required libraries\n",
    "import numpy as np\n",
    "import tensorflow as tf\n",
    "from tensorflow.keras.datasets import cifar10\n",
    "from tensorflow.keras.utils import to_categorical\n"
   ]
  },
  {
   "cell_type": "markdown",
   "id": "adaf2235-c57c-43bd-90ec-f7e5b761d31f",
   "metadata": {},
   "source": [
    "## Load CIFAR-10 Dataset"
   ]
  },
  {
   "cell_type": "markdown",
   "id": "a097b531-e0bf-47b4-9095-4db98a8b1bc4",
   "metadata": {},
   "source": [
    "We load the CIFAR-10 dataset, perform some preprocessing like normalization and one hot encoding of labels/targets."
   ]
  },
  {
   "cell_type": "code",
   "execution_count": 19,
   "id": "0e99737f-2fae-4298-99ea-4f7bb5c2d82e",
   "metadata": {},
   "outputs": [],
   "source": [
    "# Load CIFAR-10 dataset\n",
    "(X_train, Y_train), (X_test, Y_test) = cifar10.load_data()\n",
    "\n",
    "# Normalize the data\n",
    "X_train = X_train / 255.0\n",
    "X_test = X_test / 255.0\n",
    "\n",
    "# One-hot encode the labels\n",
    "Y_train = to_categorical(Y_train, 10)\n",
    "Y_test = to_categorical(Y_test, 10)"
   ]
  },
  {
   "cell_type": "code",
   "execution_count": 20,
   "id": "c11107b6-4e98-49ed-98ed-ffd18546697a",
   "metadata": {},
   "outputs": [
    {
     "name": "stdout",
     "output_type": "stream",
     "text": [
      "X_train shape:  (50000, 32, 32, 3)\n",
      "X_test shape:  (10000, 32, 32, 3)\n"
     ]
    }
   ],
   "source": [
    "print('X_train shape: ', X_train.shape)\n",
    "print('X_test shape: ', X_test.shape)"
   ]
  },
  {
   "cell_type": "markdown",
   "id": "8e4ce6fe-5790-4b37-ab5b-a5e74b2e2170",
   "metadata": {},
   "source": [
    "## Build and Train Model"
   ]
  },
  {
   "cell_type": "markdown",
   "id": "f61736cc-8513-4578-aa91-2b7057c078e3",
   "metadata": {},
   "source": [
    "The following cell has the supporting utility functions to plot accuracy curves, loss curves from training process and final evaluation of the classification model. I have provided inline comments explaining purpose of each function and code used. "
   ]
  },
  {
   "cell_type": "code",
   "execution_count": 22,
   "id": "2348212c-b019-4fe2-bf4f-f8eda7e7c5bf",
   "metadata": {},
   "outputs": [],
   "source": [
    "# Import required libraries\n",
    "import matplotlib.pyplot as plt\n",
    "import os\n",
    "\n",
    "def plot_accuracy(history, title, params_string=\"undefined\"):\n",
    "    \"\"\"\n",
    "    Function to plot accuracy curves for both training and validation sets.\n",
    "\n",
    "    Args:\n",
    "    history (History): Keras History object containing training history\n",
    "    title (str): Title of the plot\n",
    "    \"\"\"\n",
    "    plt.plot(history.history['accuracy'], label='train_accuracy')\n",
    "    plt.plot(history.history['val_accuracy'], label='val_accuracy')\n",
    "    plt.title(title)\n",
    "    plt.xlabel('Epoch')\n",
    "    plt.ylabel('Accuracy')\n",
    "    plt.legend(loc='lower right')\n",
    "    save_plot(plt, params_string)\n",
    "    plt.show()\n",
    "\n",
    "def plot_loss(history, title):\n",
    "    \"\"\"\n",
    "    Function to plot loss curves for both training and validation sets.\n",
    "\n",
    "    Args:\n",
    "    history (History): Keras History object containing training history\n",
    "    title (str): Title of the plot\n",
    "    \"\"\"\n",
    "    plt.plot(history.history['loss'], label='train_loss')\n",
    "    plt.plot(history.history['val_loss'], label='val_loss')\n",
    "    plt.title(title)\n",
    "    plt.xlabel('Epoch')\n",
    "    plt.ylabel('Loss')\n",
    "    plt.legend(loc='upper right')\n",
    "    plt.show()\n",
    "\n",
    "def evaluate_model(model, X_test, Y_test):\n",
    "    \"\"\"\n",
    "    Function to evaluate the performance of a trained model on the test dataset.\n",
    "\n",
    "    Args:\n",
    "    model (Sequential): Trained Keras model\n",
    "    X_test (ndarray): Test dataset features\n",
    "    Y_test (ndarray): One-hot encoded labels for test dataset\n",
    "    \"\"\"\n",
    "    _, accuracy = model.evaluate(X_test, Y_test, verbose=0)\n",
    "    print(\"Test Accuracy: %.2f%%\" % (accuracy * 100))\n",
    "\n",
    "def save_plot(plt, params_string):\n",
    "    \"\"\"\n",
    "    Function to save a plot. Call function before plt.show().\n",
    "\n",
    "    Args:\n",
    "    plt (matplotlib.pyplot object): Plot to save\n",
    "    params_string (String): A String meant to contain the parameters which will be used as the filename. Cannot contain spaces\n",
    "    \"\"\"\n",
    "    filename = \"Graphs/\" + \"Plot_using_\" + params_string\n",
    "    if os.path.exists(filename):\n",
    "        filename += \"I\"\n",
    "    plt.savefig(filename)\n"
   ]
  },
  {
   "cell_type": "code",
   "execution_count": 26,
   "id": "af83176a-7b41-4e0a-abf1-b774e13d1eda",
   "metadata": {},
   "outputs": [],
   "source": [
    "from tensorflow.keras.layers import Input, Add, Activation, AveragePooling2D, BatchNormalization\n",
    "from tensorflow.keras.layers import Conv2D, MaxPooling2D, Dense, Flatten, Dropout\n",
    "from tensorflow.keras.regularizers import l2\n",
    "from tensorflow.keras.models import Model\n",
    "\n",
    "def resnet_block(inputs, filters, kernel_size, strides, skip_kernel_size=(1, 1), activation='relu', num_layers=2):\n",
    "    \"\"\"\n",
    "    Function to create a single ResNet block.\n",
    "\n",
    "    Args:\n",
    "    inputs (tensor): Input tensor\n",
    "    filters (int): Number of filters in the convolutional layers\n",
    "    kernel_size (int or tuple): Size of the convolutional kernel\n",
    "    strides (int or tuple): Strides of the convolutional kernel\n",
    "    skip_kernel_size (int or tuple): Size of the skip connection kernel\n",
    "    activation (str): Activation function to use\n",
    "    num_layers (int): Number of convolutional layers per block\n",
    "\n",
    "    Returns:\n",
    "    tensor: Output tensor of the ResNet block\n",
    "    \"\"\"\n",
    "    shortcut = inputs\n",
    "\n",
    "    # Create initial convolutional layer and batch normalization without an activation layer afterwards\n",
    "    x = Conv2D(filters, kernel_size, strides=strides, padding='same', kernel_initializer='he_normal')(inputs)\n",
    "    x = BatchNormalization()(x)\n",
    "    \n",
    "    # Create (num_layers - 1) convolutional layers with activation layer beforehand\n",
    "    # Final layer does not have an activation layer as desired\n",
    "    if num_layers > 1:\n",
    "        for i in range(num_layers - 1):\n",
    "            x = Activation(activation)(x)\n",
    "            x = Conv2D(filters, kernel_size, padding='same', kernel_initializer='he_normal')(x)\n",
    "            x = BatchNormalization()(x)\n",
    "    \n",
    "\n",
    "    # Shortcut connection\n",
    "    if strides != 1 or inputs.shape[-1] != filters:\n",
    "        # change (1,1) to variable (the kernel size in the ith skip connection)\n",
    "        shortcut = Conv2D(filters, skip_kernel_size, strides=strides, padding='same', kernel_initializer='he_normal')(inputs)\n",
    "        shortcut = BatchNormalization()(shortcut)\n",
    "\n",
    "    x = Add()([x, shortcut])\n",
    "    x = Activation(activation)(x)\n",
    "    return x\n",
    "\n",
    "def build_resnet(init_filters=64, res_layers=[2, 2], conv_kernel_size=(3,3), skip_kernel_size=(1, 1), conv_per_layer=2, pool_size=(8, 8), optimizer='adam'):\n",
    "    \"\"\"\n",
    "    Function to build a ResNet model using multiple Resnet style blocks.\n",
    "    \n",
    "    Args:\n",
    "    init_filters (int): Number of filters in the first layer\n",
    "    r_layers (list of ints): Network architecture as a list where the length of the list is the number of Residual Layers and the value of each element is the number of blocks in that layer\n",
    "    conv_kernel_size (int or tuple): Size of the convolutional kernel\n",
    "    skip_kernel_size (int or tuple): Size of the skip connection kernel\n",
    "    conv_per_layer (int): Number of convolutional layers per residual block\n",
    "    pool_size (int or tuple): Size of the pooling layer\n",
    "    optimizer (String): Acceptable keras optimizers such as SGD or adam\n",
    "\n",
    "    Returns:\n",
    "    model (Model): Compiled ResNet model\n",
    "    \"\"\"\n",
    "    inputs = Input(shape=(32, 32, 3))\n",
    "    num_filters = init_filters\n",
    "    num_blocks_list = res_layers  # ResNet Style architecture for CIFAR-10\n",
    "\n",
    "    x = Conv2D(num_filters, conv_kernel_size, padding='same', kernel_initializer='he_normal')(inputs)\n",
    "    x = BatchNormalization()(x)\n",
    "    x = Activation('relu')(x)\n",
    "\n",
    "    # Add ResNet blocks\n",
    "    for i, num_blocks in enumerate(num_blocks_list):\n",
    "        for j in range(num_blocks):\n",
    "            strides = 1\n",
    "            if i > 0 and j == 0:  # Downsample at the beginning of each stage\n",
    "                strides = 2\n",
    "            x = resnet_block(x, num_filters, conv_kernel_size, strides, skip_kernel_size=skip_kernel_size, num_layers=conv_per_layer)\n",
    "\n",
    "        num_filters *= 2  # Double the number of filters after each stage\n",
    "\n",
    "    x = AveragePooling2D(pool_size=pool_size)(x) # pool size could be hyperparameter\n",
    "    x = Flatten()(x)\n",
    "    outputs = Dense(10, activation='softmax')(x)\n",
    "\n",
    "    model = Model(inputs=inputs, outputs=outputs)\n",
    "    # optimizer can be a parameter: vanilla sgd, sgd with fixed learning rate, or adam \n",
    "    model.compile(optimizer=optimizer, loss='categorical_crossentropy', metrics=['accuracy'])\n",
    "\n",
    "    return model\n"
   ]
  },
  {
   "cell_type": "code",
   "execution_count": 28,
   "id": "3272e83f-c06f-4ce1-9c51-ab42259b4339",
   "metadata": {},
   "outputs": [
    {
     "name": "stdout",
     "output_type": "stream",
     "text": [
      "Model: \"model_2\"\n",
      "__________________________________________________________________________________________________\n",
      " Layer (type)                   Output Shape         Param #     Connected to                     \n",
      "==================================================================================================\n",
      " input_5 (InputLayer)           [(None, 32, 32, 3)]  0           []                               \n",
      "                                                                                                  \n",
      " conv2d_24 (Conv2D)             (None, 32, 32, 64)   1792        ['input_5[0][0]']                \n",
      "                                                                                                  \n",
      " batch_normalization_24 (BatchN  (None, 32, 32, 64)  256         ['conv2d_24[0][0]']              \n",
      " ormalization)                                                                                    \n",
      "                                                                                                  \n",
      " activation_22 (Activation)     (None, 32, 32, 64)   0           ['batch_normalization_24[0][0]'] \n",
      "                                                                                                  \n",
      " conv2d_25 (Conv2D)             (None, 32, 32, 64)   36928       ['activation_22[0][0]']          \n",
      "                                                                                                  \n",
      " batch_normalization_25 (BatchN  (None, 32, 32, 64)  256         ['conv2d_25[0][0]']              \n",
      " ormalization)                                                                                    \n",
      "                                                                                                  \n",
      " activation_23 (Activation)     (None, 32, 32, 64)   0           ['batch_normalization_25[0][0]'] \n",
      "                                                                                                  \n",
      " conv2d_26 (Conv2D)             (None, 32, 32, 64)   36928       ['activation_23[0][0]']          \n",
      "                                                                                                  \n",
      " batch_normalization_26 (BatchN  (None, 32, 32, 64)  256         ['conv2d_26[0][0]']              \n",
      " ormalization)                                                                                    \n",
      "                                                                                                  \n",
      " add_8 (Add)                    (None, 32, 32, 64)   0           ['batch_normalization_26[0][0]', \n",
      "                                                                  'activation_22[0][0]']          \n",
      "                                                                                                  \n",
      " activation_24 (Activation)     (None, 32, 32, 64)   0           ['add_8[0][0]']                  \n",
      "                                                                                                  \n",
      " conv2d_27 (Conv2D)             (None, 32, 32, 64)   36928       ['activation_24[0][0]']          \n",
      "                                                                                                  \n",
      " batch_normalization_27 (BatchN  (None, 32, 32, 64)  256         ['conv2d_27[0][0]']              \n",
      " ormalization)                                                                                    \n",
      "                                                                                                  \n",
      " activation_25 (Activation)     (None, 32, 32, 64)   0           ['batch_normalization_27[0][0]'] \n",
      "                                                                                                  \n",
      " conv2d_28 (Conv2D)             (None, 32, 32, 64)   36928       ['activation_25[0][0]']          \n",
      "                                                                                                  \n",
      " batch_normalization_28 (BatchN  (None, 32, 32, 64)  256         ['conv2d_28[0][0]']              \n",
      " ormalization)                                                                                    \n",
      "                                                                                                  \n",
      " add_9 (Add)                    (None, 32, 32, 64)   0           ['batch_normalization_28[0][0]', \n",
      "                                                                  'activation_24[0][0]']          \n",
      "                                                                                                  \n",
      " activation_26 (Activation)     (None, 32, 32, 64)   0           ['add_9[0][0]']                  \n",
      "                                                                                                  \n",
      " conv2d_29 (Conv2D)             (None, 16, 16, 128)  73856       ['activation_26[0][0]']          \n",
      "                                                                                                  \n",
      " batch_normalization_29 (BatchN  (None, 16, 16, 128)  512        ['conv2d_29[0][0]']              \n",
      " ormalization)                                                                                    \n",
      "                                                                                                  \n",
      " activation_27 (Activation)     (None, 16, 16, 128)  0           ['batch_normalization_29[0][0]'] \n",
      "                                                                                                  \n",
      " conv2d_30 (Conv2D)             (None, 16, 16, 128)  147584      ['activation_27[0][0]']          \n",
      "                                                                                                  \n",
      " conv2d_31 (Conv2D)             (None, 16, 16, 128)  8320        ['activation_26[0][0]']          \n",
      "                                                                                                  \n",
      " batch_normalization_30 (BatchN  (None, 16, 16, 128)  512        ['conv2d_30[0][0]']              \n",
      " ormalization)                                                                                    \n",
      "                                                                                                  \n",
      " batch_normalization_31 (BatchN  (None, 16, 16, 128)  512        ['conv2d_31[0][0]']              \n",
      " ormalization)                                                                                    \n",
      "                                                                                                  \n",
      " add_10 (Add)                   (None, 16, 16, 128)  0           ['batch_normalization_30[0][0]', \n",
      "                                                                  'batch_normalization_31[0][0]'] \n",
      "                                                                                                  \n",
      " activation_28 (Activation)     (None, 16, 16, 128)  0           ['add_10[0][0]']                 \n",
      "                                                                                                  \n",
      " conv2d_32 (Conv2D)             (None, 16, 16, 128)  147584      ['activation_28[0][0]']          \n",
      "                                                                                                  \n",
      " batch_normalization_32 (BatchN  (None, 16, 16, 128)  512        ['conv2d_32[0][0]']              \n",
      " ormalization)                                                                                    \n",
      "                                                                                                  \n",
      " activation_29 (Activation)     (None, 16, 16, 128)  0           ['batch_normalization_32[0][0]'] \n",
      "                                                                                                  \n",
      " conv2d_33 (Conv2D)             (None, 16, 16, 128)  147584      ['activation_29[0][0]']          \n",
      "                                                                                                  \n",
      " batch_normalization_33 (BatchN  (None, 16, 16, 128)  512        ['conv2d_33[0][0]']              \n",
      " ormalization)                                                                                    \n",
      "                                                                                                  \n",
      " add_11 (Add)                   (None, 16, 16, 128)  0           ['batch_normalization_33[0][0]', \n",
      "                                                                  'activation_28[0][0]']          \n",
      "                                                                                                  \n",
      " activation_30 (Activation)     (None, 16, 16, 128)  0           ['add_11[0][0]']                 \n",
      "                                                                                                  \n",
      " average_pooling2d_2 (AveragePo  (None, 2, 2, 128)   0           ['activation_30[0][0]']          \n",
      " oling2D)                                                                                         \n",
      "                                                                                                  \n",
      " flatten_2 (Flatten)            (None, 512)          0           ['average_pooling2d_2[0][0]']    \n",
      "                                                                                                  \n",
      " dense_2 (Dense)                (None, 10)           5130        ['flatten_2[0][0]']              \n",
      "                                                                                                  \n",
      "==================================================================================================\n",
      "Total params: 683,402\n",
      "Trainable params: 681,482\n",
      "Non-trainable params: 1,920\n",
      "__________________________________________________________________________________________________\n"
     ]
    }
   ],
   "source": [
    "# Build ResNet model\n",
    "resnet_model = build_resnet(init_filters=64, res_layers=[2, 2], conv_kernel_size=(3,3), skip_kernel_size=(1, 1), conv_per_layer=2, pool_size=(8, 8), optimizer='adam')\n",
    "resnet_model.summary()"
   ]
  },
  {
   "cell_type": "markdown",
   "id": "9f75a436-2b04-487e-9952-927016ad50ee",
   "metadata": {},
   "source": [
    "TO DO:\n",
    "1. keras callbacks: save checkpoint with best performance on validation data (rishie)\n",
    "2. Add hyperparameter tuning as arguments (gio)\n",
    "3. Save graphs under different names (gio)\n",
    "4. ImageDataGenerator - read about this to add augmentation (rishie)\n",
    "5. Regularization - Dropouts in random/hyperparameter\n",
    "6. Loading custom data (rishie)"
   ]
  },
  {
   "cell_type": "code",
   "execution_count": 9,
   "id": "20c1c13c-94ec-4db0-bd63-d9fab2a944a5",
   "metadata": {},
   "outputs": [
    {
     "name": "stdout",
     "output_type": "stream",
     "text": [
      "Epoch 1/10\n",
      "782/782 [==============================] - 17s 16ms/step - loss: 1.1662 - accuracy: 0.5817 - val_loss: 0.9205 - val_accuracy: 0.6769\n",
      "Epoch 2/10\n",
      "782/782 [==============================] - 12s 15ms/step - loss: 0.7417 - accuracy: 0.7425 - val_loss: 0.8804 - val_accuracy: 0.7004\n",
      "Epoch 3/10\n",
      "782/782 [==============================] - 12s 15ms/step - loss: 0.5967 - accuracy: 0.7932 - val_loss: 0.8162 - val_accuracy: 0.7209\n",
      "Epoch 4/10\n",
      "782/782 [==============================] - 12s 15ms/step - loss: 0.4983 - accuracy: 0.8284 - val_loss: 0.7048 - val_accuracy: 0.7628\n",
      "Epoch 5/10\n",
      "782/782 [==============================] - 12s 15ms/step - loss: 0.4233 - accuracy: 0.8538 - val_loss: 0.7154 - val_accuracy: 0.7616\n",
      "Epoch 6/10\n",
      "782/782 [==============================] - 12s 15ms/step - loss: 0.3570 - accuracy: 0.8767 - val_loss: 0.7355 - val_accuracy: 0.7560\n",
      "Epoch 7/10\n",
      "782/782 [==============================] - 12s 15ms/step - loss: 0.2961 - accuracy: 0.8993 - val_loss: 0.8903 - val_accuracy: 0.7470\n",
      "Epoch 8/10\n",
      "782/782 [==============================] - 12s 15ms/step - loss: 0.2491 - accuracy: 0.9144 - val_loss: 0.6349 - val_accuracy: 0.8023\n",
      "Epoch 9/10\n",
      "782/782 [==============================] - 12s 15ms/step - loss: 0.1994 - accuracy: 0.9316 - val_loss: 0.5517 - val_accuracy: 0.8224\n",
      "Epoch 10/10\n",
      "782/782 [==============================] - 12s 15ms/step - loss: 0.1583 - accuracy: 0.9467 - val_loss: 0.7569 - val_accuracy: 0.7816\n"
     ]
    }
   ],
   "source": [
    "resnet_history = resnet_model.fit(X_train, Y_train, batch_size=64, epochs=10, verbose=1, validation_data=(X_test, Y_test))\n"
   ]
  },
  {
   "cell_type": "code",
   "execution_count": 10,
   "id": "d57c86c0-89d5-4354-bf65-b85ab9afc86e",
   "metadata": {},
   "outputs": [
    {
     "data": {
      "image/png": "[encoded data removed]",
      "text/plain": [
       "<Figure size 640x480 with 1 Axes>"
      ]
     },
     "metadata": {},
     "output_type": "display_data"
    },
    {
     "data": {
      "image/png": "[encoded data removed]",
      "text/plain": [
       "<Figure size 640x480 with 1 Axes>"
      ]
     },
     "metadata": {},
     "output_type": "display_data"
    },
    {
     "name": "stdout",
     "output_type": "stream",
     "text": [
      "ResNet Model:\n",
      "Test Accuracy: 78.17%\n"
     ]
    }
   ],
   "source": [
    "# Plot accuracy and loss\n",
    "plot_accuracy(resnet_history, 'ResNet Model Accuracy')\n",
    "plot_loss(resnet_history, 'ResNet Model Loss')\n",
    "\n",
    "# Evaluate the model\n",
    "print('ResNet Model:')\n",
    "evaluate_model(resnet_model, X_test, Y_test)"
   ]
  },
  {
   "cell_type": "code",
   "execution_count": null,
   "id": "f193f0a7-772d-4e9e-ae96-a5a059256f8e",
   "metadata": {},
   "outputs": [],
   "source": []
  }
 ],
 "metadata": {
  "kernelspec": {
   "display_name": "Python 3 (ipykernel)",
   "language": "python",
   "name": "python3"
  },
  "language_info": {
   "codemirror_mode": {
    "name": "ipython",
    "version": 3
   },
   "file_extension": ".py",
   "mimetype": "text/x-python",
   "name": "python",
   "nbconvert_exporter": "python",
   "pygments_lexer": "ipython3",
   "version": "3.9.19"
  }
 },
 "nbformat": 4,
 "nbformat_minor": 5
}
